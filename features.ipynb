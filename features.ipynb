{
 "cells": [
  {
   "cell_type": "markdown",
   "metadata": {},
   "source": [
    "## Import libraries"
   ]
  },
  {
   "cell_type": "code",
   "execution_count": 1,
   "metadata": {
    "collapsed": true
   },
   "outputs": [],
   "source": [
    "import pandas as pd\n",
    "import numpy as np\n",
    "import seaborn as sns\n",
    "import matplotlib.pyplot as plt\n",
    "% matplotlib inline"
   ]
  },
  {
   "cell_type": "markdown",
   "metadata": {},
   "source": [
    "## 1. Look at HallOfFame table"
   ]
  },
  {
   "cell_type": "code",
   "execution_count": 2,
   "metadata": {},
   "outputs": [
    {
     "data": {
      "text/plain": [
       "(4191, 9)"
      ]
     },
     "execution_count": 2,
     "metadata": {},
     "output_type": "execute_result"
    }
   ],
   "source": [
    "hof = pd.read_csv(\"HallOfFame.csv\")\n",
    "hof.shape"
   ]
  },
  {
   "cell_type": "markdown",
   "metadata": {},
   "source": [
    "### 1.1 Remain the data with category of Player"
   ]
  },
  {
   "cell_type": "code",
   "execution_count": 3,
   "metadata": {},
   "outputs": [
    {
     "data": {
      "text/plain": [
       "(4066, 9)"
      ]
     },
     "execution_count": 3,
     "metadata": {},
     "output_type": "execute_result"
    }
   ],
   "source": [
    "hof_player = hof[hof['category']=='Player']\n",
    "hof_player.shape"
   ]
  },
  {
   "cell_type": "markdown",
   "metadata": {},
   "source": [
    "### 1.2 Find out the ways players were elected to the Hall of Fame"
   ]
  },
  {
   "cell_type": "code",
   "execution_count": 4,
   "metadata": {},
   "outputs": [
    {
     "data": {
      "text/plain": [
       "BBWAA               3698\n",
       "Veterans             142\n",
       "Run Off               81\n",
       "Nominating Vote       76\n",
       "Old Timers            25\n",
       "Final Ballot          21\n",
       "Negro League          21\n",
       "Special Election       2\n",
       "Name: votedBy, dtype: int64"
      ]
     },
     "execution_count": 4,
     "metadata": {},
     "output_type": "execute_result"
    }
   ],
   "source": [
    "hof_player.votedBy.value_counts()"
   ]
  },
  {
   "cell_type": "code",
   "execution_count": 5,
   "metadata": {},
   "outputs": [
    {
     "data": {
      "text/plain": [
       "BBWAA               123\n",
       "Veterans             82\n",
       "Old Timers           25\n",
       "Negro League         21\n",
       "Run Off               3\n",
       "Special Election      2\n",
       "Name: votedBy, dtype: int64"
      ]
     },
     "execution_count": 5,
     "metadata": {},
     "output_type": "execute_result"
    }
   ],
   "source": [
    "hof_player[hof_player['inducted']=='Y'].votedBy.value_counts()"
   ]
  },
  {
   "cell_type": "code",
   "execution_count": 6,
   "metadata": {},
   "outputs": [
    {
     "data": {
      "text/plain": [
       "(256, 9)"
      ]
     },
     "execution_count": 6,
     "metadata": {},
     "output_type": "execute_result"
    }
   ],
   "source": [
    "hof_player[hof_player['inducted']=='Y'].shape"
   ]
  },
  {
   "cell_type": "markdown",
   "metadata": {},
   "source": [
    "### 1.3 Find out the number of players with the times when they were elected to the Hall of Fame"
   ]
  },
  {
   "cell_type": "code",
   "execution_count": 7,
   "metadata": {},
   "outputs": [
    {
     "data": {
      "text/plain": [
       "['cobbty01', 'ruthba01', 'wagneho01', 'mathech01', 'johnswa01']"
      ]
     },
     "execution_count": 7,
     "metadata": {},
     "output_type": "execute_result"
    }
   ],
   "source": [
    "inducted_name = list(hof_player[hof_player['inducted']=='Y'].playerID)\n",
    "inducted_name[:5]"
   ]
  },
  {
   "cell_type": "code",
   "execution_count": 8,
   "metadata": {},
   "outputs": [
    {
     "data": {
      "text/plain": [
       "(1574, 10)"
      ]
     },
     "execution_count": 8,
     "metadata": {},
     "output_type": "execute_result"
    }
   ],
   "source": [
    "times_player = hof_player.copy()\n",
    "times_player['inductedName'] = hof_player['playerID'].apply(lambda x: x in inducted_name)\n",
    "times_player = times_player[times_player['inductedName']]\n",
    "times_player.shape"
   ]
  },
  {
   "cell_type": "code",
   "execution_count": 9,
   "metadata": {},
   "outputs": [
    {
     "data": {
      "text/html": [
       "<div>\n",
       "<style scoped>\n",
       "    .dataframe tbody tr th:only-of-type {\n",
       "        vertical-align: middle;\n",
       "    }\n",
       "\n",
       "    .dataframe tbody tr th {\n",
       "        vertical-align: top;\n",
       "    }\n",
       "\n",
       "    .dataframe thead th {\n",
       "        text-align: right;\n",
       "    }\n",
       "</style>\n",
       "<table border=\"1\" class=\"dataframe\">\n",
       "  <thead>\n",
       "    <tr style=\"text-align: right;\">\n",
       "      <th></th>\n",
       "      <th>playerID</th>\n",
       "      <th>yearid</th>\n",
       "      <th>votedBy</th>\n",
       "      <th>ballots</th>\n",
       "      <th>needed</th>\n",
       "      <th>votes</th>\n",
       "      <th>inducted</th>\n",
       "      <th>category</th>\n",
       "      <th>needed_note</th>\n",
       "      <th>inductedName</th>\n",
       "    </tr>\n",
       "  </thead>\n",
       "  <tbody>\n",
       "    <tr>\n",
       "      <th>0</th>\n",
       "      <td>cobbty01</td>\n",
       "      <td>1936</td>\n",
       "      <td>BBWAA</td>\n",
       "      <td>226.0</td>\n",
       "      <td>170.0</td>\n",
       "      <td>222.0</td>\n",
       "      <td>Y</td>\n",
       "      <td>Player</td>\n",
       "      <td>NaN</td>\n",
       "      <td>True</td>\n",
       "    </tr>\n",
       "    <tr>\n",
       "      <th>1</th>\n",
       "      <td>ruthba01</td>\n",
       "      <td>1936</td>\n",
       "      <td>BBWAA</td>\n",
       "      <td>226.0</td>\n",
       "      <td>170.0</td>\n",
       "      <td>215.0</td>\n",
       "      <td>Y</td>\n",
       "      <td>Player</td>\n",
       "      <td>NaN</td>\n",
       "      <td>True</td>\n",
       "    </tr>\n",
       "    <tr>\n",
       "      <th>2</th>\n",
       "      <td>wagneho01</td>\n",
       "      <td>1936</td>\n",
       "      <td>BBWAA</td>\n",
       "      <td>226.0</td>\n",
       "      <td>170.0</td>\n",
       "      <td>215.0</td>\n",
       "      <td>Y</td>\n",
       "      <td>Player</td>\n",
       "      <td>NaN</td>\n",
       "      <td>True</td>\n",
       "    </tr>\n",
       "    <tr>\n",
       "      <th>3</th>\n",
       "      <td>mathech01</td>\n",
       "      <td>1936</td>\n",
       "      <td>BBWAA</td>\n",
       "      <td>226.0</td>\n",
       "      <td>170.0</td>\n",
       "      <td>205.0</td>\n",
       "      <td>Y</td>\n",
       "      <td>Player</td>\n",
       "      <td>NaN</td>\n",
       "      <td>True</td>\n",
       "    </tr>\n",
       "    <tr>\n",
       "      <th>4</th>\n",
       "      <td>johnswa01</td>\n",
       "      <td>1936</td>\n",
       "      <td>BBWAA</td>\n",
       "      <td>226.0</td>\n",
       "      <td>170.0</td>\n",
       "      <td>189.0</td>\n",
       "      <td>Y</td>\n",
       "      <td>Player</td>\n",
       "      <td>NaN</td>\n",
       "      <td>True</td>\n",
       "    </tr>\n",
       "  </tbody>\n",
       "</table>\n",
       "</div>"
      ],
      "text/plain": [
       "    playerID  yearid votedBy  ballots  needed  votes inducted category  \\\n",
       "0   cobbty01    1936   BBWAA    226.0   170.0  222.0        Y   Player   \n",
       "1   ruthba01    1936   BBWAA    226.0   170.0  215.0        Y   Player   \n",
       "2  wagneho01    1936   BBWAA    226.0   170.0  215.0        Y   Player   \n",
       "3  mathech01    1936   BBWAA    226.0   170.0  205.0        Y   Player   \n",
       "4  johnswa01    1936   BBWAA    226.0   170.0  189.0        Y   Player   \n",
       "\n",
       "  needed_note  inductedName  \n",
       "0         NaN          True  \n",
       "1         NaN          True  \n",
       "2         NaN          True  \n",
       "3         NaN          True  \n",
       "4         NaN          True  "
      ]
     },
     "execution_count": 9,
     "metadata": {},
     "output_type": "execute_result"
    }
   ],
   "source": [
    "times_player.head()"
   ]
  },
  {
   "cell_type": "code",
   "execution_count": 10,
   "metadata": {
    "collapsed": true
   },
   "outputs": [],
   "source": [
    "electedTimes = times_player.groupby('playerID').size().to_frame()\n",
    "electedTimes.columns=['times']"
   ]
  },
  {
   "cell_type": "code",
   "execution_count": 11,
   "metadata": {},
   "outputs": [
    {
     "name": "stderr",
     "output_type": "stream",
     "text": [
      "/anaconda3/lib/python3.6/site-packages/seaborn/categorical.py:1460: FutureWarning: remove_na is deprecated and is a private function. Do not use.\n",
      "  stat_data = remove_na(group_data)\n"
     ]
    },
    {
     "data": {
      "image/png": "[encoded data removed]",
      "text/plain": [
       "<matplotlib.figure.Figure at 0x10ce80a58>"
      ]
     },
     "metadata": {},
     "output_type": "display_data"
    }
   ],
   "source": [
    "f, ax = plt.subplots()\n",
    "ax.set_title(\"the times players took to be elected to the BBHOF\")\n",
    "sns.countplot(data=electedTimes,x='times')\n",
    "plt.show()"
   ]
  },
  {
   "cell_type": "markdown",
   "metadata": {},
   "source": [
    "## 2. People table and calculate new features"
   ]
  },
  {
   "cell_type": "markdown",
   "metadata": {},
   "source": [
    "- servingDays = finalGame - debut\n",
    "- debutAge = debut - birthYear"
   ]
  },
  {
   "cell_type": "code",
   "execution_count": 12,
   "metadata": {},
   "outputs": [
    {
     "data": {
      "text/plain": [
       "(19370, 26)"
      ]
     },
     "execution_count": 12,
     "metadata": {},
     "output_type": "execute_result"
    }
   ],
   "source": [
    "# calculte servingDays and debutAge\n",
    "player = pd.read_csv(\"People.csv\",parse_dates=[\"debut\",\"finalGame\",\"birthYear\"])\n",
    "player['servingDays']=(player[\"finalGame\"] - player[\"debut\"]).apply(lambda x: x.days)\n",
    "player['debutAge']=(player[\"debut\"] - player[\"birthYear\"]).apply(lambda x: x.days/365)\n",
    "player.shape"
   ]
  },
  {
   "cell_type": "markdown",
   "metadata": {},
   "source": [
    "### 2.1 Delete players whose finalGame are after 2012,\n",
    "which means they can not be able to be elected now."
   ]
  },
  {
   "cell_type": "code",
   "execution_count": 13,
   "metadata": {},
   "outputs": [
    {
     "data": {
      "text/plain": [
       "(11881, 26)"
      ]
     },
     "execution_count": 13,
     "metadata": {},
     "output_type": "execute_result"
    }
   ],
   "source": [
    "player = player[player['debut'].apply(lambda x: x.year>=1942)]\n",
    "player.shape"
   ]
  },
  {
   "cell_type": "code",
   "execution_count": 14,
   "metadata": {},
   "outputs": [
    {
     "data": {
      "text/plain": [
       "(9468, 26)"
      ]
     },
     "execution_count": 14,
     "metadata": {},
     "output_type": "execute_result"
    }
   ],
   "source": [
    "player = player[player['finalGame'].apply(lambda x: x.year<=2012)]\n",
    "player.shape"
   ]
  },
  {
   "cell_type": "markdown",
   "metadata": {},
   "source": [
    "## 3. Merge People table and HallOfFame table"
   ]
  },
  {
   "cell_type": "code",
   "execution_count": 15,
   "metadata": {},
   "outputs": [
    {
     "data": {
      "text/plain": [
       "(9468, 27)"
      ]
     },
     "execution_count": 15,
     "metadata": {},
     "output_type": "execute_result"
    }
   ],
   "source": [
    "player = player.join(hof_player[hof_player.inducted == \"Y\"][[\"playerID\",\"inducted\"]].set_index(\"playerID\"),\\\n",
    "                     on=\"playerID\")\n",
    "player.inducted.fillna(\"N\",inplace=True)\n",
    "player.shape"
   ]
  },
  {
   "cell_type": "markdown",
   "metadata": {},
   "source": [
    "### 3.1 Look at the distribution of weight, hight, servingDays and debutAge with players being inducted or not"
   ]
  },
  {
   "cell_type": "code",
   "execution_count": 16,
   "metadata": {},
   "outputs": [
    {
     "name": "stderr",
     "output_type": "stream",
     "text": [
      "/anaconda3/lib/python3.6/site-packages/seaborn/categorical.py:598: FutureWarning: remove_na is deprecated and is a private function. Do not use.\n",
      "  kde_data = remove_na(group_data)\n",
      "/anaconda3/lib/python3.6/site-packages/seaborn/categorical.py:826: FutureWarning: remove_na is deprecated and is a private function. Do not use.\n",
      "  violin_data = remove_na(group_data)\n"
     ]
    },
    {
     "data": {
      "text/plain": [
       "<matplotlib.axes._subplots.AxesSubplot at 0x10fbc8828>"
      ]
     },
     "execution_count": 16,
     "metadata": {},
     "output_type": "execute_result"
    },
    {
     "data": {
      "image/png": "[encoded data removed]",
      "text/plain": [
       "<matplotlib.figure.Figure at 0x10fbf8898>"
      ]
     },
     "metadata": {},
     "output_type": "display_data"
    }
   ],
   "source": [
    "f, ax = plt.subplots()\n",
    "ax.set_title(\"the distribution of weight of \\nwhether players enter into the BBHOF\")\n",
    "sns.violinplot(y='weight',x='inducted',data=player)"
   ]
  },
  {
   "cell_type": "code",
   "execution_count": 17,
   "metadata": {},
   "outputs": [
    {
     "name": "stderr",
     "output_type": "stream",
     "text": [
      "/anaconda3/lib/python3.6/site-packages/seaborn/categorical.py:598: FutureWarning: remove_na is deprecated and is a private function. Do not use.\n",
      "  kde_data = remove_na(group_data)\n",
      "/anaconda3/lib/python3.6/site-packages/seaborn/categorical.py:826: FutureWarning: remove_na is deprecated and is a private function. Do not use.\n",
      "  violin_data = remove_na(group_data)\n"
     ]
    },
    {
     "data": {
      "text/plain": [
       "<matplotlib.axes._subplots.AxesSubplot at 0x10f649d68>"
      ]
     },
     "execution_count": 17,
     "metadata": {},
     "output_type": "execute_result"
    },
    {
     "data": {
      "image/png": "[encoded data removed]",
      "text/plain": [
       "<matplotlib.figure.Figure at 0x10fbf80f0>"
      ]
     },
     "metadata": {},
     "output_type": "display_data"
    }
   ],
   "source": [
    "f, ax = plt.subplots()\n",
    "ax.set_title(\"the distribution of height of \\nwhether players enter into the BBHOF\")\n",
    "sns.violinplot(y='height',x='inducted',data=player)"
   ]
  },
  {
   "cell_type": "code",
   "execution_count": 18,
   "metadata": {},
   "outputs": [
    {
     "name": "stderr",
     "output_type": "stream",
     "text": [
      "/anaconda3/lib/python3.6/site-packages/seaborn/categorical.py:598: FutureWarning: remove_na is deprecated and is a private function. Do not use.\n",
      "  kde_data = remove_na(group_data)\n",
      "/anaconda3/lib/python3.6/site-packages/seaborn/categorical.py:826: FutureWarning: remove_na is deprecated and is a private function. Do not use.\n",
      "  violin_data = remove_na(group_data)\n"
     ]
    },
    {
     "data": {
      "text/plain": [
       "<matplotlib.axes._subplots.AxesSubplot at 0x10f605cc0>"
      ]
     },
     "execution_count": 18,
     "metadata": {},
     "output_type": "execute_result"
    },
    {
     "data": {
      "image/png": "[encoded data removed]",
      "text/plain": [
       "<matplotlib.figure.Figure at 0x10f5ffa20>"
      ]
     },
     "metadata": {},
     "output_type": "display_data"
    }
   ],
   "source": [
    "f, ax = plt.subplots()\n",
    "ax.set_title(\"the distribution of servingDays of \\nwhether players enter into the BBHOF\")\n",
    "sns.violinplot(y='servingDays',x='inducted',data=player)"
   ]
  },
  {
   "cell_type": "code",
   "execution_count": 19,
   "metadata": {},
   "outputs": [
    {
     "name": "stderr",
     "output_type": "stream",
     "text": [
      "/anaconda3/lib/python3.6/site-packages/seaborn/categorical.py:598: FutureWarning: remove_na is deprecated and is a private function. Do not use.\n",
      "  kde_data = remove_na(group_data)\n",
      "/anaconda3/lib/python3.6/site-packages/seaborn/categorical.py:826: FutureWarning: remove_na is deprecated and is a private function. Do not use.\n",
      "  violin_data = remove_na(group_data)\n"
     ]
    },
    {
     "data": {
      "text/plain": [
       "<matplotlib.axes._subplots.AxesSubplot at 0x10f5786a0>"
      ]
     },
     "execution_count": 19,
     "metadata": {},
     "output_type": "execute_result"
    },
    {
     "data": {
      "image/png": "[encoded data removed]",
      "text/plain": [
       "<matplotlib.figure.Figure at 0x10f46cf60>"
      ]
     },
     "metadata": {},
     "output_type": "display_data"
    }
   ],
   "source": [
    "f, ax = plt.subplots()\n",
    "ax.set_title(\"the distribution of debutAge of \\nwhether players enter into the BBHOF\")\n",
    "sns.violinplot(y='debutAge',x='inducted',data=player)"
   ]
  },
  {
   "cell_type": "code",
   "execution_count": 20,
   "metadata": {},
   "outputs": [
    {
     "data": {
      "text/plain": [
       "Index(['playerID', 'birthYear', 'birthMonth', 'birthDay', 'birthCountry',\n",
       "       'birthState', 'birthCity', 'deathYear', 'deathMonth', 'deathDay',\n",
       "       'deathCountry', 'deathState', 'deathCity', 'nameFirst', 'nameLast',\n",
       "       'nameGiven', 'weight', 'height', 'bats', 'throws', 'debut', 'finalGame',\n",
       "       'retroID', 'bbrefID', 'servingDays', 'debutAge', 'inducted'],\n",
       "      dtype='object')"
      ]
     },
     "execution_count": 20,
     "metadata": {},
     "output_type": "execute_result"
    }
   ],
   "source": [
    "player.columns"
   ]
  },
  {
   "cell_type": "markdown",
   "metadata": {},
   "source": [
    "### 3.2 Keep selected features"
   ]
  },
  {
   "cell_type": "code",
   "execution_count": 21,
   "metadata": {},
   "outputs": [
    {
     "data": {
      "text/plain": [
       "(9468, 7)"
      ]
     },
     "execution_count": 21,
     "metadata": {},
     "output_type": "execute_result"
    }
   ],
   "source": [
    "merged_player = player[['playerID','debut','finalGame','weight','servingDays', 'debutAge', 'inducted']]\n",
    "merged_player.shape"
   ]
  },
  {
   "cell_type": "markdown",
   "metadata": {},
   "source": [
    "## 4. Batting table and calculate new features\n",
    "- AB, R, BA (H/AB), G, HR, RBI, SB, SF\n",
    "- OBP (H+BB+HBP)/(AB+BB+HBP+SF),\n",
    "- SLG (H+2B+23B+3HR)/AB\n",
    "- AB/G, R/G, HR/G, RBI/G, SB/G"
   ]
  },
  {
   "cell_type": "code",
   "execution_count": 22,
   "metadata": {
    "collapsed": true
   },
   "outputs": [],
   "source": [
    "# calculte servingDays\n",
    "batting = pd.read_csv(\"Batting.csv\")"
   ]
  },
  {
   "cell_type": "code",
   "execution_count": 23,
   "metadata": {},
   "outputs": [
    {
     "data": {
      "text/plain": [
       "Index(['playerID', 'yearID', 'stint', 'teamID', 'lgID', 'G', 'AB', 'R', 'H',\n",
       "       '2B', '3B', 'HR', 'RBI', 'SB', 'CS', 'BB', 'SO', 'IBB', 'HBP', 'SH',\n",
       "       'SF', 'GIDP'],\n",
       "      dtype='object')"
      ]
     },
     "execution_count": 23,
     "metadata": {},
     "output_type": "execute_result"
    }
   ],
   "source": [
    "batting.columns"
   ]
  },
  {
   "cell_type": "code",
   "execution_count": 24,
   "metadata": {
    "collapsed": true
   },
   "outputs": [],
   "source": [
    "cont_col = ['playerID','G', 'AB', 'R', 'H','2B', '3B', \n",
    "            'HR', 'RBI', 'SB', 'CS', 'BB', 'SO', 'IBB', \n",
    "            'HBP', 'SH', 'SF', 'GIDP']\n",
    "# aggregate batting table\n",
    "batting = batting[cont_col].groupby('playerID').sum()\n",
    "\n",
    "# new features\n",
    "batting['BA']=batting['H']/batting['AB']\n",
    "batting['OBP']=(batting['H']+batting['BB']+\n",
    "                batting['HBP'])/(batting['AB']+\n",
    "                batting['BB']+batting['HBP']+batting['SF'])\n",
    "batting['SLF']=(batting['H']+2*batting['2B']+\n",
    "                    3*batting['3B']+4*batting['HR'])/(batting['AB'])\n",
    "batting['AB/G'] = batting['AB']/batting['G']\n",
    "batting['R/G'] = batting['R']/batting['G']\n",
    "batting['HR/G'] = batting['HR']/batting['G']\n",
    "batting['SB/G'] = batting['SB']/batting['G']\n",
    "batting['RBI/G'] = batting['RBI']/batting['G']\n",
    "batting['IBB/G'] = batting['IBB']/batting['G']\n",
    "batting['SF/G'] = batting['SF']/batting['G']"
   ]
  },
  {
   "cell_type": "code",
   "execution_count": 25,
   "metadata": {},
   "outputs": [
    {
     "data": {
      "text/html": [
       "<div>\n",
       "<style scoped>\n",
       "    .dataframe tbody tr th:only-of-type {\n",
       "        vertical-align: middle;\n",
       "    }\n",
       "\n",
       "    .dataframe tbody tr th {\n",
       "        vertical-align: top;\n",
       "    }\n",
       "\n",
       "    .dataframe thead th {\n",
       "        text-align: right;\n",
       "    }\n",
       "</style>\n",
       "<table border=\"1\" class=\"dataframe\">\n",
       "  <thead>\n",
       "    <tr style=\"text-align: right;\">\n",
       "      <th></th>\n",
       "      <th>G</th>\n",
       "      <th>AB</th>\n",
       "      <th>R</th>\n",
       "      <th>H</th>\n",
       "      <th>2B</th>\n",
       "      <th>3B</th>\n",
       "      <th>HR</th>\n",
       "      <th>RBI</th>\n",
       "      <th>SB</th>\n",
       "      <th>CS</th>\n",
       "      <th>...</th>\n",
       "      <th>BA</th>\n",
       "      <th>OBP</th>\n",
       "      <th>SLF</th>\n",
       "      <th>AB/G</th>\n",
       "      <th>R/G</th>\n",
       "      <th>HR/G</th>\n",
       "      <th>SB/G</th>\n",
       "      <th>RBI/G</th>\n",
       "      <th>IBB/G</th>\n",
       "      <th>SF/G</th>\n",
       "    </tr>\n",
       "    <tr>\n",
       "      <th>playerID</th>\n",
       "      <th></th>\n",
       "      <th></th>\n",
       "      <th></th>\n",
       "      <th></th>\n",
       "      <th></th>\n",
       "      <th></th>\n",
       "      <th></th>\n",
       "      <th></th>\n",
       "      <th></th>\n",
       "      <th></th>\n",
       "      <th></th>\n",
       "      <th></th>\n",
       "      <th></th>\n",
       "      <th></th>\n",
       "      <th></th>\n",
       "      <th></th>\n",
       "      <th></th>\n",
       "      <th></th>\n",
       "      <th></th>\n",
       "      <th></th>\n",
       "      <th></th>\n",
       "    </tr>\n",
       "  </thead>\n",
       "  <tbody>\n",
       "    <tr>\n",
       "      <th>aardsda01</th>\n",
       "      <td>331</td>\n",
       "      <td>4</td>\n",
       "      <td>0</td>\n",
       "      <td>0</td>\n",
       "      <td>0</td>\n",
       "      <td>0</td>\n",
       "      <td>0</td>\n",
       "      <td>0.0</td>\n",
       "      <td>0.0</td>\n",
       "      <td>0.0</td>\n",
       "      <td>...</td>\n",
       "      <td>0.000000</td>\n",
       "      <td>0.000000</td>\n",
       "      <td>0.000000</td>\n",
       "      <td>0.012085</td>\n",
       "      <td>0.000000</td>\n",
       "      <td>0.000000</td>\n",
       "      <td>0.000000</td>\n",
       "      <td>0.000000</td>\n",
       "      <td>0.000000</td>\n",
       "      <td>0.000000</td>\n",
       "    </tr>\n",
       "    <tr>\n",
       "      <th>aaronha01</th>\n",
       "      <td>3298</td>\n",
       "      <td>12364</td>\n",
       "      <td>2174</td>\n",
       "      <td>3771</td>\n",
       "      <td>624</td>\n",
       "      <td>98</td>\n",
       "      <td>755</td>\n",
       "      <td>2297.0</td>\n",
       "      <td>240.0</td>\n",
       "      <td>73.0</td>\n",
       "      <td>...</td>\n",
       "      <td>0.304998</td>\n",
       "      <td>0.373949</td>\n",
       "      <td>0.673973</td>\n",
       "      <td>3.748939</td>\n",
       "      <td>0.659187</td>\n",
       "      <td>0.228927</td>\n",
       "      <td>0.072771</td>\n",
       "      <td>0.696483</td>\n",
       "      <td>0.088842</td>\n",
       "      <td>0.036689</td>\n",
       "    </tr>\n",
       "    <tr>\n",
       "      <th>aaronto01</th>\n",
       "      <td>437</td>\n",
       "      <td>944</td>\n",
       "      <td>102</td>\n",
       "      <td>216</td>\n",
       "      <td>42</td>\n",
       "      <td>6</td>\n",
       "      <td>13</td>\n",
       "      <td>94.0</td>\n",
       "      <td>9.0</td>\n",
       "      <td>8.0</td>\n",
       "      <td>...</td>\n",
       "      <td>0.228814</td>\n",
       "      <td>0.291506</td>\n",
       "      <td>0.391949</td>\n",
       "      <td>2.160183</td>\n",
       "      <td>0.233410</td>\n",
       "      <td>0.029748</td>\n",
       "      <td>0.020595</td>\n",
       "      <td>0.215103</td>\n",
       "      <td>0.006865</td>\n",
       "      <td>0.013730</td>\n",
       "    </tr>\n",
       "    <tr>\n",
       "      <th>aasedo01</th>\n",
       "      <td>448</td>\n",
       "      <td>5</td>\n",
       "      <td>0</td>\n",
       "      <td>0</td>\n",
       "      <td>0</td>\n",
       "      <td>0</td>\n",
       "      <td>0</td>\n",
       "      <td>0.0</td>\n",
       "      <td>0.0</td>\n",
       "      <td>0.0</td>\n",
       "      <td>...</td>\n",
       "      <td>0.000000</td>\n",
       "      <td>0.000000</td>\n",
       "      <td>0.000000</td>\n",
       "      <td>0.011161</td>\n",
       "      <td>0.000000</td>\n",
       "      <td>0.000000</td>\n",
       "      <td>0.000000</td>\n",
       "      <td>0.000000</td>\n",
       "      <td>0.000000</td>\n",
       "      <td>0.000000</td>\n",
       "    </tr>\n",
       "    <tr>\n",
       "      <th>abadan01</th>\n",
       "      <td>15</td>\n",
       "      <td>21</td>\n",
       "      <td>1</td>\n",
       "      <td>2</td>\n",
       "      <td>0</td>\n",
       "      <td>0</td>\n",
       "      <td>0</td>\n",
       "      <td>0.0</td>\n",
       "      <td>0.0</td>\n",
       "      <td>1.0</td>\n",
       "      <td>...</td>\n",
       "      <td>0.095238</td>\n",
       "      <td>0.240000</td>\n",
       "      <td>0.095238</td>\n",
       "      <td>1.400000</td>\n",
       "      <td>0.066667</td>\n",
       "      <td>0.000000</td>\n",
       "      <td>0.000000</td>\n",
       "      <td>0.000000</td>\n",
       "      <td>0.000000</td>\n",
       "      <td>0.000000</td>\n",
       "    </tr>\n",
       "  </tbody>\n",
       "</table>\n",
       "<p>5 rows × 27 columns</p>\n",
       "</div>"
      ],
      "text/plain": [
       "              G     AB     R     H   2B  3B   HR     RBI     SB    CS  \\\n",
       "playerID                                                                \n",
       "aardsda01   331      4     0     0    0   0    0     0.0    0.0   0.0   \n",
       "aaronha01  3298  12364  2174  3771  624  98  755  2297.0  240.0  73.0   \n",
       "aaronto01   437    944   102   216   42   6   13    94.0    9.0   8.0   \n",
       "aasedo01    448      5     0     0    0   0    0     0.0    0.0   0.0   \n",
       "abadan01     15     21     1     2    0   0    0     0.0    0.0   1.0   \n",
       "\n",
       "             ...           BA       OBP       SLF      AB/G       R/G  \\\n",
       "playerID     ...                                                        \n",
       "aardsda01    ...     0.000000  0.000000  0.000000  0.012085  0.000000   \n",
       "aaronha01    ...     0.304998  0.373949  0.673973  3.748939  0.659187   \n",
       "aaronto01    ...     0.228814  0.291506  0.391949  2.160183  0.233410   \n",
       "aasedo01     ...     0.000000  0.000000  0.000000  0.011161  0.000000   \n",
       "abadan01     ...     0.095238  0.240000  0.095238  1.400000  0.066667   \n",
       "\n",
       "               HR/G      SB/G     RBI/G     IBB/G      SF/G  \n",
       "playerID                                                     \n",
       "aardsda01  0.000000  0.000000  0.000000  0.000000  0.000000  \n",
       "aaronha01  0.228927  0.072771  0.696483  0.088842  0.036689  \n",
       "aaronto01  0.029748  0.020595  0.215103  0.006865  0.013730  \n",
       "aasedo01   0.000000  0.000000  0.000000  0.000000  0.000000  \n",
       "abadan01   0.000000  0.000000  0.000000  0.000000  0.000000  \n",
       "\n",
       "[5 rows x 27 columns]"
      ]
     },
     "execution_count": 25,
     "metadata": {},
     "output_type": "execute_result"
    }
   ],
   "source": [
    "batting = batting[batting['AB']>0]\n",
    "batting.head()"
   ]
  },
  {
   "cell_type": "code",
   "execution_count": 26,
   "metadata": {},
   "outputs": [
    {
     "data": {
      "text/plain": [
       "Index(['G', 'AB', 'R', 'H', '2B', '3B', 'HR', 'RBI', 'SB', 'CS', 'BB', 'SO',\n",
       "       'IBB', 'HBP', 'SH', 'SF', 'GIDP', 'BA', 'OBP', 'SLF', 'AB/G', 'R/G',\n",
       "       'HR/G', 'SB/G', 'RBI/G', 'IBB/G', 'SF/G'],\n",
       "      dtype='object')"
      ]
     },
     "execution_count": 26,
     "metadata": {},
     "output_type": "execute_result"
    }
   ],
   "source": [
    "batting.columns"
   ]
  },
  {
   "cell_type": "code",
   "execution_count": 27,
   "metadata": {
    "collapsed": true
   },
   "outputs": [],
   "source": [
    "batting1 = batting[['G',  'SH', 'OBP', 'AB/G', 'HR/G', 'SB/G', 'RBI/G', 'IBB/G', 'SF/G']]"
   ]
  },
  {
   "cell_type": "code",
   "execution_count": 28,
   "metadata": {},
   "outputs": [
    {
     "data": {
      "text/plain": [
       "<matplotlib.image.AxesImage at 0x10d0d9cc0>"
      ]
     },
     "execution_count": 28,
     "metadata": {},
     "output_type": "execute_result"
    },
    {
     "data": {
      "image/png": "[encoded data removed]",
      "text/plain": [
       "<matplotlib.figure.Figure at 0x106cbf588>"
      ]
     },
     "metadata": {},
     "output_type": "display_data"
    }
   ],
   "source": [
    "plt.matshow(batting1.corr())"
   ]
  },
  {
   "cell_type": "code",
   "execution_count": 29,
   "metadata": {},
   "outputs": [
    {
     "data": {
      "text/plain": [
       "(17109, 9)"
      ]
     },
     "execution_count": 29,
     "metadata": {},
     "output_type": "execute_result"
    }
   ],
   "source": [
    "batting1.shape"
   ]
  },
  {
   "cell_type": "code",
   "execution_count": 30,
   "metadata": {
    "collapsed": true
   },
   "outputs": [],
   "source": [
    "# batting_cate_temp = batting[['playerID','lgID']]\n",
    "# batting_cate_temp = batting_cate_temp.fillna(-1)"
   ]
  },
  {
   "cell_type": "code",
   "execution_count": 31,
   "metadata": {
    "collapsed": true
   },
   "outputs": [],
   "source": [
    "# batting_cate = batting_cate_temp.groupby('playerID').agg(lambda x: x.value_counts().index[0])\n",
    "# batting_cate.columns"
   ]
  },
  {
   "cell_type": "code",
   "execution_count": 32,
   "metadata": {
    "collapsed": true
   },
   "outputs": [],
   "source": [
    "# batting_cate = batting_cate.replace(-1,np.nan)"
   ]
  },
  {
   "cell_type": "code",
   "execution_count": 33,
   "metadata": {
    "collapsed": true
   },
   "outputs": [],
   "source": [
    "# batting_group = pd.concat([batting_cont,batting_cate],axis=1)"
   ]
  },
  {
   "cell_type": "code",
   "execution_count": 34,
   "metadata": {
    "collapsed": true,
    "scrolled": true
   },
   "outputs": [],
   "source": [
    "# batting_group.shape"
   ]
  },
  {
   "cell_type": "markdown",
   "metadata": {},
   "source": [
    "## 3. Merge Batting table with merged player DataFrame"
   ]
  },
  {
   "cell_type": "code",
   "execution_count": 35,
   "metadata": {
    "collapsed": true
   },
   "outputs": [],
   "source": [
    "merged_player2 = batting1.merge(merged_player, on=\"playerID\")"
   ]
  },
  {
   "cell_type": "code",
   "execution_count": 36,
   "metadata": {},
   "outputs": [
    {
     "data": {
      "text/plain": [
       "(8118, 16)"
      ]
     },
     "execution_count": 36,
     "metadata": {},
     "output_type": "execute_result"
    }
   ],
   "source": [
    "merged_player2.shape"
   ]
  },
  {
   "cell_type": "markdown",
   "metadata": {},
   "source": [
    "## 4. Fielding table\n",
    "- fielding percentage (FPCT) = (A + PO) / ( A + PO + E)"
   ]
  },
  {
   "cell_type": "code",
   "execution_count": 37,
   "metadata": {},
   "outputs": [
    {
     "data": {
      "text/plain": [
       "Index(['playerID', 'yearID', 'stint', 'teamID', 'lgID', 'POS', 'G', 'GS',\n",
       "       'InnOuts', 'PO', 'A', 'E', 'DP', 'PB', 'WP', 'SB', 'CS', 'ZR'],\n",
       "      dtype='object')"
      ]
     },
     "execution_count": 37,
     "metadata": {},
     "output_type": "execute_result"
    }
   ],
   "source": [
    "fielding = pd.read_csv(\"Fielding.csv\")\n",
    "fielding.columns"
   ]
  },
  {
   "cell_type": "code",
   "execution_count": 38,
   "metadata": {
    "scrolled": true
   },
   "outputs": [
    {
     "data": {
      "text/plain": [
       "playerID         0\n",
       "yearID           0\n",
       "stint            0\n",
       "teamID           0\n",
       "lgID          1513\n",
       "POS              0\n",
       "G                0\n",
       "GS           50742\n",
       "InnOuts      36524\n",
       "PO               0\n",
       "A                0\n",
       "E                1\n",
       "DP               0\n",
       "PB          127487\n",
       "WP          137669\n",
       "SB          130932\n",
       "CS          130932\n",
       "ZR          137669\n",
       "dtype: int64"
      ]
     },
     "execution_count": 38,
     "metadata": {},
     "output_type": "execute_result"
    }
   ],
   "source": [
    "fielding.isnull().sum()"
   ]
  },
  {
   "cell_type": "code",
   "execution_count": 39,
   "metadata": {
    "collapsed": true
   },
   "outputs": [],
   "source": [
    "fielding['FPCT'] = (fielding['A'] + fielding['PO']) / ( fielding['A'] + fielding['PO'] + fielding['E'])\n",
    "fielding_con_col = ['playerID','FPCT']"
   ]
  },
  {
   "cell_type": "code",
   "execution_count": 40,
   "metadata": {},
   "outputs": [
    {
     "data": {
      "text/html": [
       "<div>\n",
       "<style scoped>\n",
       "    .dataframe tbody tr th:only-of-type {\n",
       "        vertical-align: middle;\n",
       "    }\n",
       "\n",
       "    .dataframe tbody tr th {\n",
       "        vertical-align: top;\n",
       "    }\n",
       "\n",
       "    .dataframe thead th {\n",
       "        text-align: right;\n",
       "    }\n",
       "</style>\n",
       "<table border=\"1\" class=\"dataframe\">\n",
       "  <thead>\n",
       "    <tr style=\"text-align: right;\">\n",
       "      <th>POS</th>\n",
       "      <th>1B</th>\n",
       "      <th>2B</th>\n",
       "      <th>3B</th>\n",
       "      <th>C</th>\n",
       "      <th>OF</th>\n",
       "      <th>P</th>\n",
       "      <th>SS</th>\n",
       "    </tr>\n",
       "  </thead>\n",
       "  <tbody>\n",
       "    <tr>\n",
       "      <th>FPCT</th>\n",
       "      <td>0.991641</td>\n",
       "      <td>0.985023</td>\n",
       "      <td>0.983807</td>\n",
       "      <td>0.987028</td>\n",
       "      <td>0.986373</td>\n",
       "      <td>0.992358</td>\n",
       "      <td>0.980575</td>\n",
       "    </tr>\n",
       "  </tbody>\n",
       "</table>\n",
       "</div>"
      ],
      "text/plain": [
       "POS         1B        2B        3B         C        OF         P        SS\n",
       "FPCT  0.991641  0.985023  0.983807  0.987028  0.986373  0.992358  0.980575"
      ]
     },
     "execution_count": 40,
     "metadata": {},
     "output_type": "execute_result"
    }
   ],
   "source": [
    "fielding_POS = fielding.loc[fielding['FPCT']>0.950,['POS','FPCT']].groupby('POS').mean()\n",
    "fielding_POS.T"
   ]
  },
  {
   "cell_type": "code",
   "execution_count": 41,
   "metadata": {},
   "outputs": [
    {
     "data": {
      "image/png": "[encoded data removed]",
      "text/plain": [
       "<matplotlib.figure.Figure at 0x10dc527f0>"
      ]
     },
     "metadata": {},
     "output_type": "display_data"
    }
   ],
   "source": [
    "POS_list = list(fielding_POS.index)\n",
    "x = list(range(len(POS_list)))\n",
    "y = list(fielding_POS.FPCT)\n",
    "plt.plot(x,y)\n",
    "plt.xticks(x, POS_list)\n",
    "plt.title(\"Average FPCT for different POS\")\n",
    "plt.xlabel(\"POS\")\n",
    "plt.ylabel(\"FPCT\")\n",
    "plt.show()"
   ]
  },
  {
   "cell_type": "code",
   "execution_count": 42,
   "metadata": {},
   "outputs": [
    {
     "data": {
      "text/html": [
       "<div>\n",
       "<style scoped>\n",
       "    .dataframe tbody tr th:only-of-type {\n",
       "        vertical-align: middle;\n",
       "    }\n",
       "\n",
       "    .dataframe tbody tr th {\n",
       "        vertical-align: top;\n",
       "    }\n",
       "\n",
       "    .dataframe thead th {\n",
       "        text-align: right;\n",
       "    }\n",
       "</style>\n",
       "<table border=\"1\" class=\"dataframe\">\n",
       "  <thead>\n",
       "    <tr style=\"text-align: right;\">\n",
       "      <th></th>\n",
       "      <th>POS</th>\n",
       "    </tr>\n",
       "    <tr>\n",
       "      <th>playerID</th>\n",
       "      <th></th>\n",
       "    </tr>\n",
       "  </thead>\n",
       "  <tbody>\n",
       "    <tr>\n",
       "      <th>aardsda01</th>\n",
       "      <td>P</td>\n",
       "    </tr>\n",
       "    <tr>\n",
       "      <th>aaronha01</th>\n",
       "      <td>OF</td>\n",
       "    </tr>\n",
       "    <tr>\n",
       "      <th>aaronto01</th>\n",
       "      <td>1B</td>\n",
       "    </tr>\n",
       "    <tr>\n",
       "      <th>aasedo01</th>\n",
       "      <td>P</td>\n",
       "    </tr>\n",
       "    <tr>\n",
       "      <th>abadan01</th>\n",
       "      <td>1B</td>\n",
       "    </tr>\n",
       "  </tbody>\n",
       "</table>\n",
       "</div>"
      ],
      "text/plain": [
       "          POS\n",
       "playerID     \n",
       "aardsda01   P\n",
       "aaronha01  OF\n",
       "aaronto01  1B\n",
       "aasedo01    P\n",
       "abadan01   1B"
      ]
     },
     "execution_count": 42,
     "metadata": {},
     "output_type": "execute_result"
    }
   ],
   "source": [
    "fielding_cate = fielding[['playerID','POS']].groupby('playerID').agg(lambda x: x.value_counts().index[0])\n",
    "fielding_cate.head()"
   ]
  },
  {
   "cell_type": "code",
   "execution_count": 43,
   "metadata": {},
   "outputs": [
    {
     "data": {
      "text/html": [
       "<div>\n",
       "<style scoped>\n",
       "    .dataframe tbody tr th:only-of-type {\n",
       "        vertical-align: middle;\n",
       "    }\n",
       "\n",
       "    .dataframe tbody tr th {\n",
       "        vertical-align: top;\n",
       "    }\n",
       "\n",
       "    .dataframe thead th {\n",
       "        text-align: right;\n",
       "    }\n",
       "</style>\n",
       "<table border=\"1\" class=\"dataframe\">\n",
       "  <thead>\n",
       "    <tr style=\"text-align: right;\">\n",
       "      <th></th>\n",
       "      <th>playerID</th>\n",
       "      <th>yearID</th>\n",
       "      <th>stint</th>\n",
       "      <th>teamID</th>\n",
       "      <th>lgID</th>\n",
       "      <th>POS_x</th>\n",
       "      <th>G</th>\n",
       "      <th>GS</th>\n",
       "      <th>InnOuts</th>\n",
       "      <th>PO</th>\n",
       "      <th>A</th>\n",
       "      <th>E</th>\n",
       "      <th>DP</th>\n",
       "      <th>PB</th>\n",
       "      <th>WP</th>\n",
       "      <th>SB</th>\n",
       "      <th>CS</th>\n",
       "      <th>ZR</th>\n",
       "      <th>FPCT</th>\n",
       "      <th>POS_y</th>\n",
       "    </tr>\n",
       "  </thead>\n",
       "  <tbody>\n",
       "    <tr>\n",
       "      <th>0</th>\n",
       "      <td>abercda01</td>\n",
       "      <td>1871</td>\n",
       "      <td>1</td>\n",
       "      <td>TRO</td>\n",
       "      <td>NaN</td>\n",
       "      <td>SS</td>\n",
       "      <td>1</td>\n",
       "      <td>1.0</td>\n",
       "      <td>24.0</td>\n",
       "      <td>1</td>\n",
       "      <td>3</td>\n",
       "      <td>2.0</td>\n",
       "      <td>0</td>\n",
       "      <td>NaN</td>\n",
       "      <td>NaN</td>\n",
       "      <td>NaN</td>\n",
       "      <td>NaN</td>\n",
       "      <td>NaN</td>\n",
       "      <td>0.666667</td>\n",
       "      <td>SS</td>\n",
       "    </tr>\n",
       "    <tr>\n",
       "      <th>1</th>\n",
       "      <td>addybo01</td>\n",
       "      <td>1871</td>\n",
       "      <td>1</td>\n",
       "      <td>RC1</td>\n",
       "      <td>NaN</td>\n",
       "      <td>2B</td>\n",
       "      <td>22</td>\n",
       "      <td>22.0</td>\n",
       "      <td>606.0</td>\n",
       "      <td>67</td>\n",
       "      <td>72</td>\n",
       "      <td>42.0</td>\n",
       "      <td>5</td>\n",
       "      <td>NaN</td>\n",
       "      <td>NaN</td>\n",
       "      <td>NaN</td>\n",
       "      <td>NaN</td>\n",
       "      <td>NaN</td>\n",
       "      <td>0.767956</td>\n",
       "      <td>2B</td>\n",
       "    </tr>\n",
       "    <tr>\n",
       "      <th>3</th>\n",
       "      <td>addybo01</td>\n",
       "      <td>1873</td>\n",
       "      <td>1</td>\n",
       "      <td>PH2</td>\n",
       "      <td>NaN</td>\n",
       "      <td>2B</td>\n",
       "      <td>10</td>\n",
       "      <td>NaN</td>\n",
       "      <td>249.0</td>\n",
       "      <td>24</td>\n",
       "      <td>23</td>\n",
       "      <td>8.0</td>\n",
       "      <td>2</td>\n",
       "      <td>NaN</td>\n",
       "      <td>NaN</td>\n",
       "      <td>NaN</td>\n",
       "      <td>NaN</td>\n",
       "      <td>NaN</td>\n",
       "      <td>0.854545</td>\n",
       "      <td>2B</td>\n",
       "    </tr>\n",
       "    <tr>\n",
       "      <th>5</th>\n",
       "      <td>addybo01</td>\n",
       "      <td>1874</td>\n",
       "      <td>1</td>\n",
       "      <td>HR1</td>\n",
       "      <td>NaN</td>\n",
       "      <td>2B</td>\n",
       "      <td>45</td>\n",
       "      <td>45.0</td>\n",
       "      <td>1197.0</td>\n",
       "      <td>125</td>\n",
       "      <td>139</td>\n",
       "      <td>48.0</td>\n",
       "      <td>7</td>\n",
       "      <td>NaN</td>\n",
       "      <td>NaN</td>\n",
       "      <td>NaN</td>\n",
       "      <td>NaN</td>\n",
       "      <td>NaN</td>\n",
       "      <td>0.846154</td>\n",
       "      <td>2B</td>\n",
       "    </tr>\n",
       "    <tr>\n",
       "      <th>8</th>\n",
       "      <td>addybo01</td>\n",
       "      <td>1875</td>\n",
       "      <td>1</td>\n",
       "      <td>PH2</td>\n",
       "      <td>NaN</td>\n",
       "      <td>2B</td>\n",
       "      <td>2</td>\n",
       "      <td>NaN</td>\n",
       "      <td>48.0</td>\n",
       "      <td>3</td>\n",
       "      <td>7</td>\n",
       "      <td>3.0</td>\n",
       "      <td>0</td>\n",
       "      <td>NaN</td>\n",
       "      <td>NaN</td>\n",
       "      <td>NaN</td>\n",
       "      <td>NaN</td>\n",
       "      <td>NaN</td>\n",
       "      <td>0.769231</td>\n",
       "      <td>2B</td>\n",
       "    </tr>\n",
       "  </tbody>\n",
       "</table>\n",
       "</div>"
      ],
      "text/plain": [
       "    playerID  yearID  stint teamID lgID POS_x   G    GS  InnOuts   PO    A  \\\n",
       "0  abercda01    1871      1    TRO  NaN    SS   1   1.0     24.0    1    3   \n",
       "1   addybo01    1871      1    RC1  NaN    2B  22  22.0    606.0   67   72   \n",
       "3   addybo01    1873      1    PH2  NaN    2B  10   NaN    249.0   24   23   \n",
       "5   addybo01    1874      1    HR1  NaN    2B  45  45.0   1197.0  125  139   \n",
       "8   addybo01    1875      1    PH2  NaN    2B   2   NaN     48.0    3    7   \n",
       "\n",
       "      E  DP  PB  WP  SB  CS  ZR      FPCT POS_y  \n",
       "0   2.0   0 NaN NaN NaN NaN NaN  0.666667    SS  \n",
       "1  42.0   5 NaN NaN NaN NaN NaN  0.767956    2B  \n",
       "3   8.0   2 NaN NaN NaN NaN NaN  0.854545    2B  \n",
       "5  48.0   7 NaN NaN NaN NaN NaN  0.846154    2B  \n",
       "8   3.0   0 NaN NaN NaN NaN NaN  0.769231    2B  "
      ]
     },
     "execution_count": 43,
     "metadata": {},
     "output_type": "execute_result"
    }
   ],
   "source": [
    "fielding1 = fielding.merge(fielding_cate,on='playerID')\n",
    "fielding2 = fielding1[fielding1['POS_x']==fielding1['POS_y']]\n",
    "fielding2.head()"
   ]
  },
  {
   "cell_type": "code",
   "execution_count": 44,
   "metadata": {},
   "outputs": [
    {
     "data": {
      "text/html": [
       "<div>\n",
       "<style scoped>\n",
       "    .dataframe tbody tr th:only-of-type {\n",
       "        vertical-align: middle;\n",
       "    }\n",
       "\n",
       "    .dataframe tbody tr th {\n",
       "        vertical-align: top;\n",
       "    }\n",
       "\n",
       "    .dataframe thead th {\n",
       "        text-align: right;\n",
       "    }\n",
       "</style>\n",
       "<table border=\"1\" class=\"dataframe\">\n",
       "  <thead>\n",
       "    <tr style=\"text-align: right;\">\n",
       "      <th></th>\n",
       "      <th>FPCT</th>\n",
       "    </tr>\n",
       "    <tr>\n",
       "      <th>playerID</th>\n",
       "      <th></th>\n",
       "    </tr>\n",
       "  </thead>\n",
       "  <tbody>\n",
       "    <tr>\n",
       "      <th>aardsda01</th>\n",
       "      <td>0.884354</td>\n",
       "    </tr>\n",
       "    <tr>\n",
       "      <th>aaronha01</th>\n",
       "      <td>0.979124</td>\n",
       "    </tr>\n",
       "    <tr>\n",
       "      <th>aaronto01</th>\n",
       "      <td>0.982705</td>\n",
       "    </tr>\n",
       "    <tr>\n",
       "      <th>aasedo01</th>\n",
       "      <td>0.955399</td>\n",
       "    </tr>\n",
       "    <tr>\n",
       "      <th>abadan01</th>\n",
       "      <td>0.986486</td>\n",
       "    </tr>\n",
       "  </tbody>\n",
       "</table>\n",
       "</div>"
      ],
      "text/plain": [
       "               FPCT\n",
       "playerID           \n",
       "aardsda01  0.884354\n",
       "aaronha01  0.979124\n",
       "aaronto01  0.982705\n",
       "aasedo01   0.955399\n",
       "abadan01   0.986486"
      ]
     },
     "execution_count": 44,
     "metadata": {},
     "output_type": "execute_result"
    }
   ],
   "source": [
    "fielding_cont = fielding2[['playerID','FPCT']].groupby('playerID').mean()\n",
    "fielding_cont.head()"
   ]
  },
  {
   "cell_type": "code",
   "execution_count": 45,
   "metadata": {
    "collapsed": true
   },
   "outputs": [],
   "source": [
    "fielding_group = pd.concat([fielding_cont,fielding_cate],axis=1)\n",
    "# filter playres whoes FPCT is null\n",
    "fielding_group.dropna(axis=0,how='any',inplace=True)"
   ]
  },
  {
   "cell_type": "code",
   "execution_count": 46,
   "metadata": {},
   "outputs": [
    {
     "data": {
      "text/plain": [
       "(18171, 2)"
      ]
     },
     "execution_count": 46,
     "metadata": {},
     "output_type": "execute_result"
    }
   ],
   "source": [
    "fielding_group.shape"
   ]
  },
  {
   "cell_type": "markdown",
   "metadata": {},
   "source": [
    "## 5. Merge Fielding table"
   ]
  },
  {
   "cell_type": "code",
   "execution_count": 47,
   "metadata": {},
   "outputs": [
    {
     "data": {
      "text/plain": [
       "(7927, 18)"
      ]
     },
     "execution_count": 47,
     "metadata": {},
     "output_type": "execute_result"
    }
   ],
   "source": [
    "merged_player3 = fielding_group.merge(merged_player2, on=\"playerID\")\n",
    "merged_player3.shape"
   ]
  },
  {
   "cell_type": "code",
   "execution_count": 48,
   "metadata": {},
   "outputs": [
    {
     "data": {
      "text/plain": [
       "N    7830\n",
       "Y      97\n",
       "Name: inducted, dtype: int64"
      ]
     },
     "execution_count": 48,
     "metadata": {},
     "output_type": "execute_result"
    }
   ],
   "source": [
    "merged_player3.inducted.value_counts()"
   ]
  },
  {
   "cell_type": "code",
   "execution_count": 49,
   "metadata": {},
   "outputs": [
    {
     "data": {
      "text/plain": [
       "0.012389832673393792"
      ]
     },
     "execution_count": 49,
     "metadata": {},
     "output_type": "execute_result"
    }
   ],
   "source": [
    "97/7829"
   ]
  },
  {
   "cell_type": "code",
   "execution_count": 50,
   "metadata": {},
   "outputs": [
    {
     "data": {
      "text/plain": [
       "Index(['playerID', 'FPCT', 'POS', 'G', 'SH', 'OBP', 'AB/G', 'HR/G', 'SB/G',\n",
       "       'RBI/G', 'IBB/G', 'SF/G', 'debut', 'finalGame', 'weight', 'servingDays',\n",
       "       'debutAge', 'inducted'],\n",
       "      dtype='object')"
      ]
     },
     "execution_count": 50,
     "metadata": {},
     "output_type": "execute_result"
    }
   ],
   "source": [
    "merged_player3.columns"
   ]
  },
  {
   "cell_type": "code",
   "execution_count": 51,
   "metadata": {
    "collapsed": true
   },
   "outputs": [],
   "source": [
    "merged_player3.to_csv(\"merged_players42-12.csv\")"
   ]
  },
  {
   "cell_type": "code",
   "execution_count": null,
   "metadata": {
    "collapsed": true
   },
   "outputs": [],
   "source": []
  }
 ],
 "metadata": {
  "kernelspec": {
   "display_name": "Python 3",
   "language": "python",
   "name": "python3"
  },
  "language_info": {
   "codemirror_mode": {
    "name": "ipython",
    "version": 3
   },
   "file_extension": ".py",
   "mimetype": "text/x-python",
   "name": "python",
   "nbconvert_exporter": "python",
   "pygments_lexer": "ipython3",
   "version": "3.6.2"
  }
 },
 "nbformat": 4,
 "nbformat_minor": 2
}
