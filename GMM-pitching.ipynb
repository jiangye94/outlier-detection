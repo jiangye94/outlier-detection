{
 "cells": [
  {
   "cell_type": "code",
   "execution_count": 2,
   "metadata": {
    "collapsed": true
   },
   "outputs": [],
   "source": [
    "import pandas as pd\n",
    "import numpy as np\n",
    "\n",
    "from sklearn import mixture\n",
    "import matplotlib.pyplot as plt\n",
    "%matplotlib inline\n",
    "import seaborn as sns\n",
    "\n",
    "import itertools"
   ]
  },
  {
   "cell_type": "code",
   "execution_count": 4,
   "metadata": {},
   "outputs": [
    {
     "data": {
      "text/html": [
       "<div>\n",
       "<style scoped>\n",
       "    .dataframe tbody tr th:only-of-type {\n",
       "        vertical-align: middle;\n",
       "    }\n",
       "\n",
       "    .dataframe tbody tr th {\n",
       "        vertical-align: top;\n",
       "    }\n",
       "\n",
       "    .dataframe thead th {\n",
       "        text-align: right;\n",
       "    }\n",
       "</style>\n",
       "<table border=\"1\" class=\"dataframe\">\n",
       "  <thead>\n",
       "    <tr style=\"text-align: right;\">\n",
       "      <th></th>\n",
       "      <th>playerID</th>\n",
       "      <th>ERA</th>\n",
       "      <th>WHIP</th>\n",
       "      <th>W-L</th>\n",
       "      <th>G</th>\n",
       "      <th>debut</th>\n",
       "      <th>finalGame</th>\n",
       "      <th>weight</th>\n",
       "      <th>servingDays</th>\n",
       "      <th>debutAge</th>\n",
       "      <th>inducted</th>\n",
       "    </tr>\n",
       "  </thead>\n",
       "  <tbody>\n",
       "    <tr>\n",
       "      <th>0</th>\n",
       "      <td>aasedo01</td>\n",
       "      <td>3.493077</td>\n",
       "      <td>1.390024</td>\n",
       "      <td>0.523810</td>\n",
       "      <td>448</td>\n",
       "      <td>1977-07-26</td>\n",
       "      <td>1990-10-03</td>\n",
       "      <td>190.0</td>\n",
       "      <td>4817.0</td>\n",
       "      <td>23.580822</td>\n",
       "      <td>N</td>\n",
       "    </tr>\n",
       "    <tr>\n",
       "      <th>1</th>\n",
       "      <td>abbotgl01</td>\n",
       "      <td>4.331667</td>\n",
       "      <td>1.366252</td>\n",
       "      <td>0.427586</td>\n",
       "      <td>248</td>\n",
       "      <td>1973-07-29</td>\n",
       "      <td>1984-08-08</td>\n",
       "      <td>200.0</td>\n",
       "      <td>4028.0</td>\n",
       "      <td>22.589041</td>\n",
       "      <td>N</td>\n",
       "    </tr>\n",
       "    <tr>\n",
       "      <th>2</th>\n",
       "      <td>abbotji01</td>\n",
       "      <td>4.496364</td>\n",
       "      <td>1.433094</td>\n",
       "      <td>0.446154</td>\n",
       "      <td>263</td>\n",
       "      <td>1989-04-08</td>\n",
       "      <td>1999-07-21</td>\n",
       "      <td>200.0</td>\n",
       "      <td>3756.0</td>\n",
       "      <td>22.282192</td>\n",
       "      <td>N</td>\n",
       "    </tr>\n",
       "    <tr>\n",
       "      <th>3</th>\n",
       "      <td>abbotky01</td>\n",
       "      <td>8.442500</td>\n",
       "      <td>1.543165</td>\n",
       "      <td>0.190476</td>\n",
       "      <td>57</td>\n",
       "      <td>1991-09-10</td>\n",
       "      <td>1996-08-24</td>\n",
       "      <td>200.0</td>\n",
       "      <td>1810.0</td>\n",
       "      <td>23.706849</td>\n",
       "      <td>N</td>\n",
       "    </tr>\n",
       "    <tr>\n",
       "      <th>4</th>\n",
       "      <td>abbotpa01</td>\n",
       "      <td>5.511667</td>\n",
       "      <td>1.491674</td>\n",
       "      <td>0.537500</td>\n",
       "      <td>162</td>\n",
       "      <td>1990-08-21</td>\n",
       "      <td>2004-08-07</td>\n",
       "      <td>185.0</td>\n",
       "      <td>5100.0</td>\n",
       "      <td>23.652055</td>\n",
       "      <td>N</td>\n",
       "    </tr>\n",
       "  </tbody>\n",
       "</table>\n",
       "</div>"
      ],
      "text/plain": [
       "    playerID       ERA      WHIP       W-L    G      debut  finalGame  weight  \\\n",
       "0   aasedo01  3.493077  1.390024  0.523810  448 1977-07-26 1990-10-03   190.0   \n",
       "1  abbotgl01  4.331667  1.366252  0.427586  248 1973-07-29 1984-08-08   200.0   \n",
       "2  abbotji01  4.496364  1.433094  0.446154  263 1989-04-08 1999-07-21   200.0   \n",
       "3  abbotky01  8.442500  1.543165  0.190476   57 1991-09-10 1996-08-24   200.0   \n",
       "4  abbotpa01  5.511667  1.491674  0.537500  162 1990-08-21 2004-08-07   185.0   \n",
       "\n",
       "   servingDays   debutAge inducted  \n",
       "0       4817.0  23.580822        N  \n",
       "1       4028.0  22.589041        N  \n",
       "2       3756.0  22.282192        N  \n",
       "3       1810.0  23.706849        N  \n",
       "4       5100.0  23.652055        N  "
      ]
     },
     "execution_count": 4,
     "metadata": {},
     "output_type": "execute_result"
    }
   ],
   "source": [
    "players = pd.read_csv(\"merged_pitching42-12.csv\",index_col=0,parse_dates=['debut','finalGame'])\n",
    "players.head()"
   ]
  },
  {
   "cell_type": "code",
   "execution_count": 5,
   "metadata": {},
   "outputs": [
    {
     "data": {
      "text/plain": [
       "(4067, 11)"
      ]
     },
     "execution_count": 5,
     "metadata": {},
     "output_type": "execute_result"
    }
   ],
   "source": [
    "players.shape"
   ]
  },
  {
   "cell_type": "code",
   "execution_count": 6,
   "metadata": {},
   "outputs": [
    {
     "data": {
      "text/plain": [
       "Index(['playerID', 'ERA', 'WHIP', 'W-L', 'G', 'debut', 'finalGame', 'weight',\n",
       "       'servingDays', 'debutAge', 'inducted'],\n",
       "      dtype='object')"
      ]
     },
     "execution_count": 6,
     "metadata": {},
     "output_type": "execute_result"
    }
   ],
   "source": [
    "players.columns"
   ]
  },
  {
   "cell_type": "markdown",
   "metadata": {},
   "source": [
    "servingDays are just used for filter samples when check outliers."
   ]
  },
  {
   "cell_type": "code",
   "execution_count": 7,
   "metadata": {},
   "outputs": [
    {
     "data": {
      "image/png": "[encoded data removed]",
      "text/plain": [
       "<matplotlib.figure.Figure at 0x10720deb8>"
      ]
     },
     "metadata": {},
     "output_type": "display_data"
    }
   ],
   "source": [
    "players.hist(bins=30)\n",
    "plt.show()"
   ]
  },
  {
   "cell_type": "code",
   "execution_count": 24,
   "metadata": {
    "collapsed": true
   },
   "outputs": [],
   "source": [
    "players_draw = players"
   ]
  },
  {
   "cell_type": "code",
   "execution_count": 25,
   "metadata": {
    "collapsed": true
   },
   "outputs": [],
   "source": [
    "import seaborn as sns\n",
    "players_N = players_draw[players_draw['inducted']=='N']\n",
    "players_N_sample = players_N.sample(frac=0.05)\n",
    "players_Y = players_draw[players_draw['inducted']=='Y']"
   ]
  },
  {
   "cell_type": "code",
   "execution_count": 26,
   "metadata": {
    "collapsed": true
   },
   "outputs": [
    {
     "data": {
      "text/plain": [
       "<matplotlib.axes._subplots.AxesSubplot at 0x107c889b0>"
      ]
     },
     "execution_count": 26,
     "metadata": {},
     "output_type": "execute_result"
    },
    {
     "data": {
      "image/png": "[encoded data removed]",
      "text/plain": [
       "<matplotlib.figure.Figure at 0x10f90c780>"
      ]
     },
     "metadata": {},
     "output_type": "display_data"
    }
   ],
   "source": [
    "sns.distplot(players_Y.G, bins=30)"
   ]
  },
  {
   "cell_type": "code",
   "execution_count": 27,
   "metadata": {
    "collapsed": true
   },
   "outputs": [
    {
     "data": {
      "text/plain": [
       "<matplotlib.axes._subplots.AxesSubplot at 0x1101df668>"
      ]
     },
     "execution_count": 27,
     "metadata": {},
     "output_type": "execute_result"
    },
    {
     "data": {
      "image/png": "[encoded data removed]",
      "text/plain": [
       "<matplotlib.figure.Figure at 0x1101eab00>"
      ]
     },
     "metadata": {},
     "output_type": "display_data"
    }
   ],
   "source": [
    "sns.distplot(players_N.G, bins=30)"
   ]
  },
  {
   "cell_type": "code",
   "execution_count": 28,
   "metadata": {
    "collapsed": true
   },
   "outputs": [
    {
     "data": {
      "text/plain": [
       "<matplotlib.axes._subplots.AxesSubplot at 0x10f77c278>"
      ]
     },
     "execution_count": 28,
     "metadata": {},
     "output_type": "execute_result"
    },
    {
     "data": {
      "image/png": "[encoded data removed]",
      "text/plain": [
       "<matplotlib.figure.Figure at 0x10f7dddd8>"
      ]
     },
     "metadata": {},
     "output_type": "display_data"
    }
   ],
   "source": [
    "sns.distplot(players.G, bins=30)"
   ]
  },
  {
   "cell_type": "code",
   "execution_count": 11,
   "metadata": {
    "collapsed": true
   },
   "outputs": [],
   "source": [
    "def PowerSetsRecursive2(items):\n",
    "    # the power set of the empty set has one element, the empty set\n",
    "    result = [[]]\n",
    "    for x in items:\n",
    "        result.extend([subset + [x] for subset in result])\n",
    "    return result"
   ]
  },
  {
   "cell_type": "code",
   "execution_count": 32,
   "metadata": {
    "collapsed": true
   },
   "outputs": [],
   "source": [
    "feature_col = ['ERA','W-L','WHIP','G','debutAge']\n",
    "features = PowerSetsRecursive2(feature_col)[1:]"
   ]
  },
  {
   "cell_type": "code",
   "execution_count": 34,
   "metadata": {
    "scrolled": true
   },
   "outputs": [
    {
     "name": "stderr",
     "output_type": "stream",
     "text": [
      "/anaconda3/lib/python3.6/site-packages/pandas/core/indexing.py:362: SettingWithCopyWarning: \n",
      "A value is trying to be set on a copy of a slice from a DataFrame.\n",
      "Try using .loc[row_indexer,col_indexer] = value instead\n",
      "\n",
      "See the caveats in the documentation: http://pandas.pydata.org/pandas-docs/stable/indexing.html#indexing-view-versus-copy\n",
      "  self.obj[key] = _infer_fill_value(value)\n",
      "/anaconda3/lib/python3.6/site-packages/pandas/core/indexing.py:543: SettingWithCopyWarning: \n",
      "A value is trying to be set on a copy of a slice from a DataFrame.\n",
      "Try using .loc[row_indexer,col_indexer] = value instead\n",
      "\n",
      "See the caveats in the documentation: http://pandas.pydata.org/pandas-docs/stable/indexing.html#indexing-view-versus-copy\n",
      "  self.obj[item] = s\n"
     ]
    },
    {
     "name": "stdout",
     "output_type": "stream",
     "text": [
      "0\n",
      "3\n",
      "0\n",
      "12\n",
      "0\n",
      "5\n",
      "0\n",
      "8\n",
      "1\n",
      "9\n",
      "1\n",
      "7\n",
      "2\n",
      "4\n",
      "3\n",
      "2\n",
      "1\n",
      "1\n",
      "1\n",
      "3\n",
      "1\n",
      "4\n",
      "2\n",
      "8\n",
      "3\n",
      "7\n",
      "3\n",
      "6\n",
      "4\n",
      "7\n",
      "3\n"
     ]
    },
    {
     "data": {
      "text/plain": [
       "[[0, ['ERA']],\n",
       " [3, ['W-L']],\n",
       " [0, ['ERA', 'W-L']],\n",
       " [12, ['WHIP']],\n",
       " [0, ['ERA', 'WHIP']],\n",
       " [5, ['W-L', 'WHIP']],\n",
       " [0, ['ERA', 'W-L', 'WHIP']],\n",
       " [8, ['G']],\n",
       " [1, ['ERA', 'G']],\n",
       " [9, ['W-L', 'G']],\n",
       " [1, ['ERA', 'W-L', 'G']],\n",
       " [7, ['WHIP', 'G']],\n",
       " [2, ['ERA', 'WHIP', 'G']],\n",
       " [4, ['W-L', 'WHIP', 'G']],\n",
       " [3, ['ERA', 'W-L', 'WHIP', 'G']],\n",
       " [2, ['debutAge']],\n",
       " [1, ['ERA', 'debutAge']],\n",
       " [1, ['W-L', 'debutAge']],\n",
       " [1, ['ERA', 'W-L', 'debutAge']],\n",
       " [3, ['WHIP', 'debutAge']],\n",
       " [1, ['ERA', 'WHIP', 'debutAge']],\n",
       " [4, ['W-L', 'WHIP', 'debutAge']],\n",
       " [2, ['ERA', 'W-L', 'WHIP', 'debutAge']],\n",
       " [8, ['G', 'debutAge']],\n",
       " [3, ['ERA', 'G', 'debutAge']],\n",
       " [7, ['W-L', 'G', 'debutAge']],\n",
       " [3, ['ERA', 'W-L', 'G', 'debutAge']],\n",
       " [6, ['WHIP', 'G', 'debutAge']],\n",
       " [4, ['ERA', 'WHIP', 'G', 'debutAge']],\n",
       " [7, ['W-L', 'WHIP', 'G', 'debutAge']],\n",
       " [3, ['ERA', 'W-L', 'WHIP', 'G', 'debutAge']]]"
      ]
     },
     "execution_count": 34,
     "metadata": {},
     "output_type": "execute_result"
    }
   ],
   "source": [
    "num_list = []\n",
    "for feature in features:\n",
    "    X = players[feature]\n",
    "    y = players[['inducted']]\n",
    "    \n",
    "    lowest_bic = np.infty\n",
    "    bic = []\n",
    "    n_components_range = range(1, 10)\n",
    "    for n_components in n_components_range:\n",
    "        # Fit a Gaussian mixture with EM\n",
    "        gmm = mixture.GaussianMixture(n_components=n_components,\n",
    "                                      covariance_type='full', random_state = 2018)\n",
    "        gmm.fit(X)\n",
    "        bic.append(gmm.bic(X))\n",
    "        if bic[-1] < lowest_bic:\n",
    "            lowest_bic = bic[-1]\n",
    "            best_gmm = gmm\n",
    "            \n",
    "    loglike=best_gmm.score_samples(X)\n",
    "    players_pre = players[['playerID','servingDays','inducted']]\n",
    "    players_pre.loc[:,'loglike']=loglike\n",
    "\n",
    "    player10 = players_pre[players_pre['servingDays']>2000].sort_values(['loglike'],ascending=True).iloc[:50,:]\n",
    "    num = (player10[player10['inducted']=='Y'].shape[0])\n",
    "    num_list.append([num,feature])\n",
    "    print(num)\n",
    "\n",
    "num_list"
   ]
  },
  {
   "cell_type": "code",
   "execution_count": 35,
   "metadata": {
    "scrolled": false
   },
   "outputs": [
    {
     "data": {
      "text/plain": [
       "[[0, ['ERA']],\n",
       " [3, ['W-L']],\n",
       " [0, ['ERA', 'W-L']],\n",
       " [12, ['WHIP']],\n",
       " [0, ['ERA', 'WHIP']],\n",
       " [5, ['W-L', 'WHIP']],\n",
       " [0, ['ERA', 'W-L', 'WHIP']],\n",
       " [8, ['G']],\n",
       " [1, ['ERA', 'G']],\n",
       " [9, ['W-L', 'G']],\n",
       " [1, ['ERA', 'W-L', 'G']],\n",
       " [7, ['WHIP', 'G']],\n",
       " [2, ['ERA', 'WHIP', 'G']],\n",
       " [4, ['W-L', 'WHIP', 'G']],\n",
       " [3, ['ERA', 'W-L', 'WHIP', 'G']],\n",
       " [2, ['debutAge']],\n",
       " [1, ['ERA', 'debutAge']],\n",
       " [1, ['W-L', 'debutAge']],\n",
       " [1, ['ERA', 'W-L', 'debutAge']],\n",
       " [3, ['WHIP', 'debutAge']],\n",
       " [1, ['ERA', 'WHIP', 'debutAge']],\n",
       " [4, ['W-L', 'WHIP', 'debutAge']],\n",
       " [2, ['ERA', 'W-L', 'WHIP', 'debutAge']],\n",
       " [8, ['G', 'debutAge']],\n",
       " [3, ['ERA', 'G', 'debutAge']],\n",
       " [7, ['W-L', 'G', 'debutAge']],\n",
       " [3, ['ERA', 'W-L', 'G', 'debutAge']],\n",
       " [6, ['WHIP', 'G', 'debutAge']],\n",
       " [4, ['ERA', 'WHIP', 'G', 'debutAge']],\n",
       " [7, ['W-L', 'WHIP', 'G', 'debutAge']],\n",
       " [3, ['ERA', 'W-L', 'WHIP', 'G', 'debutAge']]]"
      ]
     },
     "execution_count": 35,
     "metadata": {},
     "output_type": "execute_result"
    }
   ],
   "source": [
    "num_list"
   ]
  },
  {
   "cell_type": "code",
   "execution_count": null,
   "metadata": {
    "collapsed": true
   },
   "outputs": [],
   "source": []
  }
 ],
 "metadata": {
  "kernelspec": {
   "display_name": "Python 3",
   "language": "python",
   "name": "python3"
  },
  "language_info": {
   "codemirror_mode": {
    "name": "ipython",
    "version": 3
   },
   "file_extension": ".py",
   "mimetype": "text/x-python",
   "name": "python",
   "nbconvert_exporter": "python",
   "pygments_lexer": "ipython3",
   "version": "3.6.2"
  }
 },
 "nbformat": 4,
 "nbformat_minor": 2
}
