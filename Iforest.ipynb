{
 "cells": [
  {
   "cell_type": "code",
   "execution_count": 2,
   "metadata": {
    "collapsed": true
   },
   "outputs": [],
   "source": [
    "import pandas as pd\n",
    "import numpy as np\n",
    "\n",
    "from pyod.models.iforest import IForest\n",
    "import matplotlib.pyplot as plt\n",
    "%matplotlib inline\n",
    "import seaborn as sns\n",
    "\n",
    "import itertools"
   ]
  },
  {
   "cell_type": "code",
   "execution_count": 3,
   "metadata": {
    "scrolled": true
   },
   "outputs": [
    {
     "data": {
      "text/html": [
       "<div>\n",
       "<style scoped>\n",
       "    .dataframe tbody tr th:only-of-type {\n",
       "        vertical-align: middle;\n",
       "    }\n",
       "\n",
       "    .dataframe tbody tr th {\n",
       "        vertical-align: top;\n",
       "    }\n",
       "\n",
       "    .dataframe thead th {\n",
       "        text-align: right;\n",
       "    }\n",
       "</style>\n",
       "<table border=\"1\" class=\"dataframe\">\n",
       "  <thead>\n",
       "    <tr style=\"text-align: right;\">\n",
       "      <th></th>\n",
       "      <th>playerID</th>\n",
       "      <th>FPCT</th>\n",
       "      <th>POS</th>\n",
       "      <th>G</th>\n",
       "      <th>SH</th>\n",
       "      <th>OBP</th>\n",
       "      <th>AB/G</th>\n",
       "      <th>HR/G</th>\n",
       "      <th>SB/G</th>\n",
       "      <th>RBI/G</th>\n",
       "      <th>IBB/G</th>\n",
       "      <th>SF/G</th>\n",
       "      <th>debut</th>\n",
       "      <th>finalGame</th>\n",
       "      <th>weight</th>\n",
       "      <th>servingDays</th>\n",
       "      <th>debutAge</th>\n",
       "      <th>inducted</th>\n",
       "    </tr>\n",
       "  </thead>\n",
       "  <tbody>\n",
       "    <tr>\n",
       "      <th>0</th>\n",
       "      <td>aaronha01</td>\n",
       "      <td>0.979124</td>\n",
       "      <td>OF</td>\n",
       "      <td>3298</td>\n",
       "      <td>21.0</td>\n",
       "      <td>0.373949</td>\n",
       "      <td>3.748939</td>\n",
       "      <td>0.228927</td>\n",
       "      <td>0.072771</td>\n",
       "      <td>0.696483</td>\n",
       "      <td>0.088842</td>\n",
       "      <td>0.036689</td>\n",
       "      <td>1954-04-13</td>\n",
       "      <td>1976-10-03</td>\n",
       "      <td>180.0</td>\n",
       "      <td>8209.0</td>\n",
       "      <td>20.293151</td>\n",
       "      <td>Y</td>\n",
       "    </tr>\n",
       "    <tr>\n",
       "      <th>1</th>\n",
       "      <td>aaronto01</td>\n",
       "      <td>0.982705</td>\n",
       "      <td>1B</td>\n",
       "      <td>437</td>\n",
       "      <td>9.0</td>\n",
       "      <td>0.291506</td>\n",
       "      <td>2.160183</td>\n",
       "      <td>0.029748</td>\n",
       "      <td>0.020595</td>\n",
       "      <td>0.215103</td>\n",
       "      <td>0.006865</td>\n",
       "      <td>0.013730</td>\n",
       "      <td>1962-04-10</td>\n",
       "      <td>1971-09-26</td>\n",
       "      <td>190.0</td>\n",
       "      <td>3456.0</td>\n",
       "      <td>23.287671</td>\n",
       "      <td>N</td>\n",
       "    </tr>\n",
       "    <tr>\n",
       "      <th>2</th>\n",
       "      <td>aasedo01</td>\n",
       "      <td>0.955399</td>\n",
       "      <td>P</td>\n",
       "      <td>448</td>\n",
       "      <td>0.0</td>\n",
       "      <td>0.000000</td>\n",
       "      <td>0.011161</td>\n",
       "      <td>0.000000</td>\n",
       "      <td>0.000000</td>\n",
       "      <td>0.000000</td>\n",
       "      <td>0.000000</td>\n",
       "      <td>0.000000</td>\n",
       "      <td>1977-07-26</td>\n",
       "      <td>1990-10-03</td>\n",
       "      <td>190.0</td>\n",
       "      <td>4817.0</td>\n",
       "      <td>23.580822</td>\n",
       "      <td>N</td>\n",
       "    </tr>\n",
       "    <tr>\n",
       "      <th>3</th>\n",
       "      <td>abadan01</td>\n",
       "      <td>0.986486</td>\n",
       "      <td>1B</td>\n",
       "      <td>15</td>\n",
       "      <td>0.0</td>\n",
       "      <td>0.240000</td>\n",
       "      <td>1.400000</td>\n",
       "      <td>0.000000</td>\n",
       "      <td>0.000000</td>\n",
       "      <td>0.000000</td>\n",
       "      <td>0.000000</td>\n",
       "      <td>0.000000</td>\n",
       "      <td>2001-09-10</td>\n",
       "      <td>2006-04-13</td>\n",
       "      <td>184.0</td>\n",
       "      <td>1676.0</td>\n",
       "      <td>29.712329</td>\n",
       "      <td>N</td>\n",
       "    </tr>\n",
       "    <tr>\n",
       "      <th>4</th>\n",
       "      <td>abbotje01</td>\n",
       "      <td>0.975208</td>\n",
       "      <td>OF</td>\n",
       "      <td>233</td>\n",
       "      <td>5.0</td>\n",
       "      <td>0.307453</td>\n",
       "      <td>2.557940</td>\n",
       "      <td>0.077253</td>\n",
       "      <td>0.025751</td>\n",
       "      <td>0.356223</td>\n",
       "      <td>0.008584</td>\n",
       "      <td>0.030043</td>\n",
       "      <td>1997-06-10</td>\n",
       "      <td>2001-09-29</td>\n",
       "      <td>190.0</td>\n",
       "      <td>1572.0</td>\n",
       "      <td>25.457534</td>\n",
       "      <td>N</td>\n",
       "    </tr>\n",
       "  </tbody>\n",
       "</table>\n",
       "</div>"
      ],
      "text/plain": [
       "    playerID      FPCT POS     G    SH       OBP      AB/G      HR/G  \\\n",
       "0  aaronha01  0.979124  OF  3298  21.0  0.373949  3.748939  0.228927   \n",
       "1  aaronto01  0.982705  1B   437   9.0  0.291506  2.160183  0.029748   \n",
       "2   aasedo01  0.955399   P   448   0.0  0.000000  0.011161  0.000000   \n",
       "3   abadan01  0.986486  1B    15   0.0  0.240000  1.400000  0.000000   \n",
       "4  abbotje01  0.975208  OF   233   5.0  0.307453  2.557940  0.077253   \n",
       "\n",
       "       SB/G     RBI/G     IBB/G      SF/G      debut  finalGame  weight  \\\n",
       "0  0.072771  0.696483  0.088842  0.036689 1954-04-13 1976-10-03   180.0   \n",
       "1  0.020595  0.215103  0.006865  0.013730 1962-04-10 1971-09-26   190.0   \n",
       "2  0.000000  0.000000  0.000000  0.000000 1977-07-26 1990-10-03   190.0   \n",
       "3  0.000000  0.000000  0.000000  0.000000 2001-09-10 2006-04-13   184.0   \n",
       "4  0.025751  0.356223  0.008584  0.030043 1997-06-10 2001-09-29   190.0   \n",
       "\n",
       "   servingDays   debutAge inducted  \n",
       "0       8209.0  20.293151        Y  \n",
       "1       3456.0  23.287671        N  \n",
       "2       4817.0  23.580822        N  \n",
       "3       1676.0  29.712329        N  \n",
       "4       1572.0  25.457534        N  "
      ]
     },
     "execution_count": 3,
     "metadata": {},
     "output_type": "execute_result"
    }
   ],
   "source": [
    "players = pd.read_csv('merged_players42-12.csv',index_col=0,parse_dates=['debut','finalGame'])\n",
    "players.head()"
   ]
  },
  {
   "cell_type": "code",
   "execution_count": 4,
   "metadata": {},
   "outputs": [
    {
     "data": {
      "text/plain": [
       "(7927, 18)"
      ]
     },
     "execution_count": 4,
     "metadata": {},
     "output_type": "execute_result"
    }
   ],
   "source": [
    "players.shape"
   ]
  },
  {
   "cell_type": "code",
   "execution_count": 5,
   "metadata": {},
   "outputs": [
    {
     "data": {
      "text/plain": [
       "Index(['playerID', 'FPCT', 'POS', 'G', 'SH', 'OBP', 'AB/G', 'HR/G', 'SB/G',\n",
       "       'RBI/G', 'IBB/G', 'SF/G', 'debut', 'finalGame', 'weight', 'servingDays',\n",
       "       'debutAge', 'inducted'],\n",
       "      dtype='object')"
      ]
     },
     "execution_count": 5,
     "metadata": {},
     "output_type": "execute_result"
    }
   ],
   "source": [
    "players.columns"
   ]
  },
  {
   "cell_type": "markdown",
   "metadata": {},
   "source": [
    "servingDays are just used for filter samples when check outliers."
   ]
  },
  {
   "cell_type": "code",
   "execution_count": 6,
   "metadata": {},
   "outputs": [
    {
     "data": {
      "image/png": "[encoded data removed]",
      "text/plain": [
       "<matplotlib.figure.Figure at 0x10c426cf8>"
      ]
     },
     "metadata": {},
     "output_type": "display_data"
    }
   ],
   "source": [
    "players.hist(bins=30)\n",
    "plt.show()"
   ]
  },
  {
   "cell_type": "code",
   "execution_count": 6,
   "metadata": {
    "collapsed": true
   },
   "outputs": [],
   "source": [
    "players1 = players[players['OBP']>0]"
   ]
  },
  {
   "cell_type": "code",
   "execution_count": 15,
   "metadata": {},
   "outputs": [
    {
     "name": "stderr",
     "output_type": "stream",
     "text": [
      "/anaconda3/lib/python3.6/site-packages/pandas/core/indexing.py:362: SettingWithCopyWarning: \n",
      "A value is trying to be set on a copy of a slice from a DataFrame.\n",
      "Try using .loc[row_indexer,col_indexer] = value instead\n",
      "\n",
      "See the caveats in the documentation: http://pandas.pydata.org/pandas-docs/stable/indexing.html#indexing-view-versus-copy\n",
      "  self.obj[key] = _infer_fill_value(value)\n",
      "/anaconda3/lib/python3.6/site-packages/pandas/core/indexing.py:543: SettingWithCopyWarning: \n",
      "A value is trying to be set on a copy of a slice from a DataFrame.\n",
      "Try using .loc[row_indexer,col_indexer] = value instead\n",
      "\n",
      "See the caveats in the documentation: http://pandas.pydata.org/pandas-docs/stable/indexing.html#indexing-view-versus-copy\n",
      "  self.obj[item] = s\n"
     ]
    },
    {
     "name": "stdout",
     "output_type": "stream",
     "text": [
      "48\n"
     ]
    },
    {
     "name": "stderr",
     "output_type": "stream",
     "text": [
      "/anaconda3/lib/python3.6/site-packages/pandas/core/indexing.py:362: SettingWithCopyWarning: \n",
      "A value is trying to be set on a copy of a slice from a DataFrame.\n",
      "Try using .loc[row_indexer,col_indexer] = value instead\n",
      "\n",
      "See the caveats in the documentation: http://pandas.pydata.org/pandas-docs/stable/indexing.html#indexing-view-versus-copy\n",
      "  self.obj[key] = _infer_fill_value(value)\n",
      "/anaconda3/lib/python3.6/site-packages/pandas/core/indexing.py:543: SettingWithCopyWarning: \n",
      "A value is trying to be set on a copy of a slice from a DataFrame.\n",
      "Try using .loc[row_indexer,col_indexer] = value instead\n",
      "\n",
      "See the caveats in the documentation: http://pandas.pydata.org/pandas-docs/stable/indexing.html#indexing-view-versus-copy\n",
      "  self.obj[item] = s\n"
     ]
    },
    {
     "name": "stdout",
     "output_type": "stream",
     "text": [
      "43\n"
     ]
    },
    {
     "name": "stderr",
     "output_type": "stream",
     "text": [
      "/anaconda3/lib/python3.6/site-packages/pandas/core/indexing.py:362: SettingWithCopyWarning: \n",
      "A value is trying to be set on a copy of a slice from a DataFrame.\n",
      "Try using .loc[row_indexer,col_indexer] = value instead\n",
      "\n",
      "See the caveats in the documentation: http://pandas.pydata.org/pandas-docs/stable/indexing.html#indexing-view-versus-copy\n",
      "  self.obj[key] = _infer_fill_value(value)\n",
      "/anaconda3/lib/python3.6/site-packages/pandas/core/indexing.py:543: SettingWithCopyWarning: \n",
      "A value is trying to be set on a copy of a slice from a DataFrame.\n",
      "Try using .loc[row_indexer,col_indexer] = value instead\n",
      "\n",
      "See the caveats in the documentation: http://pandas.pydata.org/pandas-docs/stable/indexing.html#indexing-view-versus-copy\n",
      "  self.obj[item] = s\n"
     ]
    },
    {
     "name": "stdout",
     "output_type": "stream",
     "text": [
      "7\n"
     ]
    },
    {
     "name": "stderr",
     "output_type": "stream",
     "text": [
      "/anaconda3/lib/python3.6/site-packages/pandas/core/indexing.py:362: SettingWithCopyWarning: \n",
      "A value is trying to be set on a copy of a slice from a DataFrame.\n",
      "Try using .loc[row_indexer,col_indexer] = value instead\n",
      "\n",
      "See the caveats in the documentation: http://pandas.pydata.org/pandas-docs/stable/indexing.html#indexing-view-versus-copy\n",
      "  self.obj[key] = _infer_fill_value(value)\n",
      "/anaconda3/lib/python3.6/site-packages/pandas/core/indexing.py:543: SettingWithCopyWarning: \n",
      "A value is trying to be set on a copy of a slice from a DataFrame.\n",
      "Try using .loc[row_indexer,col_indexer] = value instead\n",
      "\n",
      "See the caveats in the documentation: http://pandas.pydata.org/pandas-docs/stable/indexing.html#indexing-view-versus-copy\n",
      "  self.obj[item] = s\n"
     ]
    },
    {
     "name": "stdout",
     "output_type": "stream",
     "text": [
      "1\n"
     ]
    },
    {
     "name": "stderr",
     "output_type": "stream",
     "text": [
      "/anaconda3/lib/python3.6/site-packages/pandas/core/indexing.py:362: SettingWithCopyWarning: \n",
      "A value is trying to be set on a copy of a slice from a DataFrame.\n",
      "Try using .loc[row_indexer,col_indexer] = value instead\n",
      "\n",
      "See the caveats in the documentation: http://pandas.pydata.org/pandas-docs/stable/indexing.html#indexing-view-versus-copy\n",
      "  self.obj[key] = _infer_fill_value(value)\n",
      "/anaconda3/lib/python3.6/site-packages/pandas/core/indexing.py:543: SettingWithCopyWarning: \n",
      "A value is trying to be set on a copy of a slice from a DataFrame.\n",
      "Try using .loc[row_indexer,col_indexer] = value instead\n",
      "\n",
      "See the caveats in the documentation: http://pandas.pydata.org/pandas-docs/stable/indexing.html#indexing-view-versus-copy\n",
      "  self.obj[item] = s\n"
     ]
    },
    {
     "name": "stdout",
     "output_type": "stream",
     "text": [
      "0\n"
     ]
    },
    {
     "name": "stderr",
     "output_type": "stream",
     "text": [
      "/anaconda3/lib/python3.6/site-packages/pandas/core/indexing.py:362: SettingWithCopyWarning: \n",
      "A value is trying to be set on a copy of a slice from a DataFrame.\n",
      "Try using .loc[row_indexer,col_indexer] = value instead\n",
      "\n",
      "See the caveats in the documentation: http://pandas.pydata.org/pandas-docs/stable/indexing.html#indexing-view-versus-copy\n",
      "  self.obj[key] = _infer_fill_value(value)\n",
      "/anaconda3/lib/python3.6/site-packages/pandas/core/indexing.py:543: SettingWithCopyWarning: \n",
      "A value is trying to be set on a copy of a slice from a DataFrame.\n",
      "Try using .loc[row_indexer,col_indexer] = value instead\n",
      "\n",
      "See the caveats in the documentation: http://pandas.pydata.org/pandas-docs/stable/indexing.html#indexing-view-versus-copy\n",
      "  self.obj[item] = s\n"
     ]
    },
    {
     "name": "stdout",
     "output_type": "stream",
     "text": [
      "8\n"
     ]
    },
    {
     "name": "stderr",
     "output_type": "stream",
     "text": [
      "/anaconda3/lib/python3.6/site-packages/pandas/core/indexing.py:362: SettingWithCopyWarning: \n",
      "A value is trying to be set on a copy of a slice from a DataFrame.\n",
      "Try using .loc[row_indexer,col_indexer] = value instead\n",
      "\n",
      "See the caveats in the documentation: http://pandas.pydata.org/pandas-docs/stable/indexing.html#indexing-view-versus-copy\n",
      "  self.obj[key] = _infer_fill_value(value)\n",
      "/anaconda3/lib/python3.6/site-packages/pandas/core/indexing.py:543: SettingWithCopyWarning: \n",
      "A value is trying to be set on a copy of a slice from a DataFrame.\n",
      "Try using .loc[row_indexer,col_indexer] = value instead\n",
      "\n",
      "See the caveats in the documentation: http://pandas.pydata.org/pandas-docs/stable/indexing.html#indexing-view-versus-copy\n",
      "  self.obj[item] = s\n"
     ]
    },
    {
     "name": "stdout",
     "output_type": "stream",
     "text": [
      "46\n"
     ]
    },
    {
     "name": "stderr",
     "output_type": "stream",
     "text": [
      "/anaconda3/lib/python3.6/site-packages/pandas/core/indexing.py:362: SettingWithCopyWarning: \n",
      "A value is trying to be set on a copy of a slice from a DataFrame.\n",
      "Try using .loc[row_indexer,col_indexer] = value instead\n",
      "\n",
      "See the caveats in the documentation: http://pandas.pydata.org/pandas-docs/stable/indexing.html#indexing-view-versus-copy\n",
      "  self.obj[key] = _infer_fill_value(value)\n",
      "/anaconda3/lib/python3.6/site-packages/pandas/core/indexing.py:543: SettingWithCopyWarning: \n",
      "A value is trying to be set on a copy of a slice from a DataFrame.\n",
      "Try using .loc[row_indexer,col_indexer] = value instead\n",
      "\n",
      "See the caveats in the documentation: http://pandas.pydata.org/pandas-docs/stable/indexing.html#indexing-view-versus-copy\n",
      "  self.obj[item] = s\n"
     ]
    },
    {
     "name": "stdout",
     "output_type": "stream",
     "text": [
      "40\n"
     ]
    },
    {
     "name": "stderr",
     "output_type": "stream",
     "text": [
      "/anaconda3/lib/python3.6/site-packages/pandas/core/indexing.py:362: SettingWithCopyWarning: \n",
      "A value is trying to be set on a copy of a slice from a DataFrame.\n",
      "Try using .loc[row_indexer,col_indexer] = value instead\n",
      "\n",
      "See the caveats in the documentation: http://pandas.pydata.org/pandas-docs/stable/indexing.html#indexing-view-versus-copy\n",
      "  self.obj[key] = _infer_fill_value(value)\n",
      "/anaconda3/lib/python3.6/site-packages/pandas/core/indexing.py:543: SettingWithCopyWarning: \n",
      "A value is trying to be set on a copy of a slice from a DataFrame.\n",
      "Try using .loc[row_indexer,col_indexer] = value instead\n",
      "\n",
      "See the caveats in the documentation: http://pandas.pydata.org/pandas-docs/stable/indexing.html#indexing-view-versus-copy\n",
      "  self.obj[item] = s\n"
     ]
    },
    {
     "name": "stdout",
     "output_type": "stream",
     "text": [
      "42\n"
     ]
    },
    {
     "name": "stderr",
     "output_type": "stream",
     "text": [
      "/anaconda3/lib/python3.6/site-packages/pandas/core/indexing.py:362: SettingWithCopyWarning: \n",
      "A value is trying to be set on a copy of a slice from a DataFrame.\n",
      "Try using .loc[row_indexer,col_indexer] = value instead\n",
      "\n",
      "See the caveats in the documentation: http://pandas.pydata.org/pandas-docs/stable/indexing.html#indexing-view-versus-copy\n",
      "  self.obj[key] = _infer_fill_value(value)\n",
      "/anaconda3/lib/python3.6/site-packages/pandas/core/indexing.py:543: SettingWithCopyWarning: \n",
      "A value is trying to be set on a copy of a slice from a DataFrame.\n",
      "Try using .loc[row_indexer,col_indexer] = value instead\n",
      "\n",
      "See the caveats in the documentation: http://pandas.pydata.org/pandas-docs/stable/indexing.html#indexing-view-versus-copy\n",
      "  self.obj[item] = s\n"
     ]
    },
    {
     "name": "stdout",
     "output_type": "stream",
     "text": [
      "44\n"
     ]
    },
    {
     "name": "stderr",
     "output_type": "stream",
     "text": [
      "/anaconda3/lib/python3.6/site-packages/pandas/core/indexing.py:362: SettingWithCopyWarning: \n",
      "A value is trying to be set on a copy of a slice from a DataFrame.\n",
      "Try using .loc[row_indexer,col_indexer] = value instead\n",
      "\n",
      "See the caveats in the documentation: http://pandas.pydata.org/pandas-docs/stable/indexing.html#indexing-view-versus-copy\n",
      "  self.obj[key] = _infer_fill_value(value)\n",
      "/anaconda3/lib/python3.6/site-packages/pandas/core/indexing.py:543: SettingWithCopyWarning: \n",
      "A value is trying to be set on a copy of a slice from a DataFrame.\n",
      "Try using .loc[row_indexer,col_indexer] = value instead\n",
      "\n",
      "See the caveats in the documentation: http://pandas.pydata.org/pandas-docs/stable/indexing.html#indexing-view-versus-copy\n",
      "  self.obj[item] = s\n"
     ]
    },
    {
     "name": "stdout",
     "output_type": "stream",
     "text": [
      "34\n",
      "38\n"
     ]
    },
    {
     "name": "stderr",
     "output_type": "stream",
     "text": [
      "/anaconda3/lib/python3.6/site-packages/pandas/core/indexing.py:362: SettingWithCopyWarning: \n",
      "A value is trying to be set on a copy of a slice from a DataFrame.\n",
      "Try using .loc[row_indexer,col_indexer] = value instead\n",
      "\n",
      "See the caveats in the documentation: http://pandas.pydata.org/pandas-docs/stable/indexing.html#indexing-view-versus-copy\n",
      "  self.obj[key] = _infer_fill_value(value)\n",
      "/anaconda3/lib/python3.6/site-packages/pandas/core/indexing.py:543: SettingWithCopyWarning: \n",
      "A value is trying to be set on a copy of a slice from a DataFrame.\n",
      "Try using .loc[row_indexer,col_indexer] = value instead\n",
      "\n",
      "See the caveats in the documentation: http://pandas.pydata.org/pandas-docs/stable/indexing.html#indexing-view-versus-copy\n",
      "  self.obj[item] = s\n"
     ]
    },
    {
     "data": {
      "text/plain": [
       "[[48, ['G']],\n",
       " [43, ['G', 'POS']],\n",
       " [7, ['OBP']],\n",
       " [1, ['FPCT']],\n",
       " [0, ['FPCT', 'POS']],\n",
       " [8, ['OBP', 'FPCT', 'POS']],\n",
       " [46, ['G', 'OBP']],\n",
       " [40, ['G', 'OBP', 'FPCT']],\n",
       " [42, ['G', 'OBP', 'FPCT', 'POS']],\n",
       " [44, ['G', 'FPCT']],\n",
       " [34, ['G', 'FPCT', 'POS']],\n",
       " [38,\n",
       "  ['FPCT',\n",
       "   'POS',\n",
       "   'G',\n",
       "   'SH',\n",
       "   'OBP',\n",
       "   'AB/G',\n",
       "   'HR/G',\n",
       "   'SB/G',\n",
       "   'RBI/G',\n",
       "   'IBB/G',\n",
       "   'SF/G',\n",
       "   'weight',\n",
       "   'debutAge']]]"
      ]
     },
     "execution_count": 15,
     "metadata": {},
     "output_type": "execute_result"
    }
   ],
   "source": [
    "features = [['G'],\n",
    "            ['G','POS'],\n",
    "            ['OBP'],\n",
    "            ['FPCT'],\n",
    "            ['FPCT','POS'],\n",
    "            ['OBP','FPCT','POS'],\n",
    "            ['G','OBP'],\n",
    "            ['G','OBP','FPCT'],\n",
    "            ['G','OBP','FPCT','POS'],\n",
    "            ['G','FPCT'],\n",
    "            ['G','FPCT','POS'],\n",
    "            ['FPCT', 'POS', 'G', 'SH', 'OBP', 'AB/G', 'HR/G', 'SB/G',\n",
    "       'RBI/G', 'IBB/G', 'SF/G', 'weight', 'debutAge']]\n",
    "\n",
    "num_list = []\n",
    "for feature in features:\n",
    "    X = players[feature]\n",
    "    if ('POS' in feature):\n",
    "        X = pd.get_dummies(X, columns = ['POS'] )\n",
    "    y = players[['inducted']]\n",
    "    \n",
    "    clf = IForest(random_state=2018)\n",
    "    clf.fit(X)\n",
    "    \n",
    "    outlier_scores = clf.decision_scores_\n",
    "    players_pre = players[['playerID','servingDays','inducted']]\n",
    "    players_pre.loc[:,'outlier_score']=outlier_scores\n",
    "\n",
    "    player10 = players_pre[players_pre['servingDays']>2000].sort_values(['outlier_score'],ascending=False).iloc[:100,:]\n",
    "\n",
    "    num = (player10[player10['inducted']=='Y'].shape[0])\n",
    "    num_list.append([num,feature])\n",
    "    print(num)\n",
    "\n",
    "num_list"
   ]
  },
  {
   "cell_type": "code",
   "execution_count": 16,
   "metadata": {},
   "outputs": [
    {
     "data": {
      "text/plain": [
       "[[48, ['G']],\n",
       " [43, ['G', 'POS']],\n",
       " [7, ['OBP']],\n",
       " [1, ['FPCT']],\n",
       " [0, ['FPCT', 'POS']],\n",
       " [8, ['OBP', 'FPCT', 'POS']],\n",
       " [46, ['G', 'OBP']],\n",
       " [40, ['G', 'OBP', 'FPCT']],\n",
       " [42, ['G', 'OBP', 'FPCT', 'POS']],\n",
       " [44, ['G', 'FPCT']],\n",
       " [34, ['G', 'FPCT', 'POS']],\n",
       " [38,\n",
       "  ['FPCT',\n",
       "   'POS',\n",
       "   'G',\n",
       "   'SH',\n",
       "   'OBP',\n",
       "   'AB/G',\n",
       "   'HR/G',\n",
       "   'SB/G',\n",
       "   'RBI/G',\n",
       "   'IBB/G',\n",
       "   'SF/G',\n",
       "   'weight',\n",
       "   'debutAge']]]"
      ]
     },
     "execution_count": 16,
     "metadata": {},
     "output_type": "execute_result"
    }
   ],
   "source": [
    "num_list"
   ]
  },
  {
   "cell_type": "code",
   "execution_count": 19,
   "metadata": {},
   "outputs": [
    {
     "data": {
      "text/plain": [
       "<matplotlib.axes._subplots.AxesSubplot at 0x114d5f710>"
      ]
     },
     "execution_count": 19,
     "metadata": {},
     "output_type": "execute_result"
    },
    {
     "data": {
      "image/png": "[encoded data removed]",
      "text/plain": [
       "<matplotlib.figure.Figure at 0x114fc9b00>"
      ]
     },
     "metadata": {},
     "output_type": "display_data"
    }
   ],
   "source": [
    "sns.distplot(players.G, bins=30)"
   ]
  },
  {
   "cell_type": "code",
   "execution_count": 17,
   "metadata": {},
   "outputs": [
    {
     "data": {
      "text/plain": [
       "<matplotlib.axes._subplots.AxesSubplot at 0x114da3b38>"
      ]
     },
     "execution_count": 17,
     "metadata": {},
     "output_type": "execute_result"
    },
    {
     "data": {
      "image/png": "[encoded data removed]",
      "text/plain": [
       "<matplotlib.figure.Figure at 0x114f4ceb8>"
      ]
     },
     "metadata": {},
     "output_type": "display_data"
    }
   ],
   "source": [
    "players_N = players[players['inducted']=='N']\n",
    "sns.distplot(players_N.G, bins=30)"
   ]
  },
  {
   "cell_type": "code",
   "execution_count": 18,
   "metadata": {
    "collapsed": true
   },
   "outputs": [
    {
     "name": "stderr",
     "output_type": "stream",
     "text": [
      "/anaconda3/lib/python3.6/site-packages/ipykernel_launcher.py:1: UserWarning: Boolean Series key will be reindexed to match DataFrame index.\n",
      "  \"\"\"Entry point for launching an IPython kernel.\n"
     ]
    },
    {
     "data": {
      "text/html": [
       "<div>\n",
       "<style scoped>\n",
       "    .dataframe tbody tr th:only-of-type {\n",
       "        vertical-align: middle;\n",
       "    }\n",
       "\n",
       "    .dataframe tbody tr th {\n",
       "        vertical-align: top;\n",
       "    }\n",
       "\n",
       "    .dataframe thead th {\n",
       "        text-align: right;\n",
       "    }\n",
       "</style>\n",
       "<table border=\"1\" class=\"dataframe\">\n",
       "  <thead>\n",
       "    <tr style=\"text-align: right;\">\n",
       "      <th></th>\n",
       "      <th>playerID</th>\n",
       "      <th>FPCT</th>\n",
       "      <th>POS</th>\n",
       "      <th>G</th>\n",
       "      <th>SH</th>\n",
       "      <th>OBP</th>\n",
       "      <th>AB/G</th>\n",
       "      <th>HR/G</th>\n",
       "      <th>SB/G</th>\n",
       "      <th>RBI/G</th>\n",
       "      <th>IBB/G</th>\n",
       "      <th>SF/G</th>\n",
       "      <th>debut</th>\n",
       "      <th>finalGame</th>\n",
       "      <th>weight</th>\n",
       "      <th>servingDays</th>\n",
       "      <th>debutAge</th>\n",
       "      <th>inducted</th>\n",
       "    </tr>\n",
       "  </thead>\n",
       "  <tbody>\n",
       "    <tr>\n",
       "      <th>654</th>\n",
       "      <td>blylebe01</td>\n",
       "      <td>0.974893</td>\n",
       "      <td>P</td>\n",
       "      <td>699</td>\n",
       "      <td>56.0</td>\n",
       "      <td>0.144105</td>\n",
       "      <td>0.645207</td>\n",
       "      <td>0.000000</td>\n",
       "      <td>0.000000</td>\n",
       "      <td>0.035765</td>\n",
       "      <td>0.000000</td>\n",
       "      <td>0.000000</td>\n",
       "      <td>1970-06-05</td>\n",
       "      <td>1992-10-04</td>\n",
       "      <td>200.0</td>\n",
       "      <td>8157.0</td>\n",
       "      <td>19.438356</td>\n",
       "      <td>Y</td>\n",
       "    </tr>\n",
       "    <tr>\n",
       "      <th>927</th>\n",
       "      <td>brownwi02</td>\n",
       "      <td>1.000000</td>\n",
       "      <td>OF</td>\n",
       "      <td>21</td>\n",
       "      <td>0.0</td>\n",
       "      <td>0.179104</td>\n",
       "      <td>3.190476</td>\n",
       "      <td>0.047619</td>\n",
       "      <td>0.095238</td>\n",
       "      <td>0.285714</td>\n",
       "      <td>0.000000</td>\n",
       "      <td>0.000000</td>\n",
       "      <td>1947-07-19</td>\n",
       "      <td>1947-08-17</td>\n",
       "      <td>200.0</td>\n",
       "      <td>29.0</td>\n",
       "      <td>32.567123</td>\n",
       "      <td>Y</td>\n",
       "    </tr>\n",
       "    <tr>\n",
       "      <th>988</th>\n",
       "      <td>bunniji01</td>\n",
       "      <td>0.962680</td>\n",
       "      <td>P</td>\n",
       "      <td>601</td>\n",
       "      <td>85.0</td>\n",
       "      <td>0.188450</td>\n",
       "      <td>2.121464</td>\n",
       "      <td>0.011647</td>\n",
       "      <td>0.000000</td>\n",
       "      <td>0.124792</td>\n",
       "      <td>0.000000</td>\n",
       "      <td>0.009983</td>\n",
       "      <td>1955-07-20</td>\n",
       "      <td>1971-09-03</td>\n",
       "      <td>190.0</td>\n",
       "      <td>5889.0</td>\n",
       "      <td>24.564384</td>\n",
       "      <td>Y</td>\n",
       "    </tr>\n",
       "    <tr>\n",
       "      <th>1157</th>\n",
       "      <td>carltst01</td>\n",
       "      <td>0.964966</td>\n",
       "      <td>P</td>\n",
       "      <td>745</td>\n",
       "      <td>94.0</td>\n",
       "      <td>0.222658</td>\n",
       "      <td>2.307383</td>\n",
       "      <td>0.017450</td>\n",
       "      <td>0.002685</td>\n",
       "      <td>0.187919</td>\n",
       "      <td>0.000000</td>\n",
       "      <td>0.017450</td>\n",
       "      <td>1965-04-12</td>\n",
       "      <td>1988-04-23</td>\n",
       "      <td>210.0</td>\n",
       "      <td>8412.0</td>\n",
       "      <td>21.293151</td>\n",
       "      <td>Y</td>\n",
       "    </tr>\n",
       "    <tr>\n",
       "      <th>1954</th>\n",
       "      <td>drysddo01</td>\n",
       "      <td>0.939506</td>\n",
       "      <td>P</td>\n",
       "      <td>547</td>\n",
       "      <td>69.0</td>\n",
       "      <td>0.228226</td>\n",
       "      <td>2.137112</td>\n",
       "      <td>0.053016</td>\n",
       "      <td>0.000000</td>\n",
       "      <td>0.206581</td>\n",
       "      <td>0.000000</td>\n",
       "      <td>0.010969</td>\n",
       "      <td>1956-04-17</td>\n",
       "      <td>1969-08-05</td>\n",
       "      <td>190.0</td>\n",
       "      <td>4858.0</td>\n",
       "      <td>20.306849</td>\n",
       "      <td>Y</td>\n",
       "    </tr>\n",
       "    <tr>\n",
       "      <th>2230</th>\n",
       "      <td>fingero01</td>\n",
       "      <td>0.965527</td>\n",
       "      <td>P</td>\n",
       "      <td>945</td>\n",
       "      <td>18.0</td>\n",
       "      <td>0.185792</td>\n",
       "      <td>0.190476</td>\n",
       "      <td>0.002116</td>\n",
       "      <td>0.000000</td>\n",
       "      <td>0.009524</td>\n",
       "      <td>0.000000</td>\n",
       "      <td>0.000000</td>\n",
       "      <td>1968-09-15</td>\n",
       "      <td>1985-09-17</td>\n",
       "      <td>190.0</td>\n",
       "      <td>6211.0</td>\n",
       "      <td>22.720548</td>\n",
       "      <td>Y</td>\n",
       "    </tr>\n",
       "    <tr>\n",
       "      <th>2304</th>\n",
       "      <td>fordwh01</td>\n",
       "      <td>0.961718</td>\n",
       "      <td>P</td>\n",
       "      <td>500</td>\n",
       "      <td>65.0</td>\n",
       "      <td>0.256343</td>\n",
       "      <td>2.046000</td>\n",
       "      <td>0.006000</td>\n",
       "      <td>0.006000</td>\n",
       "      <td>0.138000</td>\n",
       "      <td>0.000000</td>\n",
       "      <td>0.008000</td>\n",
       "      <td>1950-07-01</td>\n",
       "      <td>1967-05-21</td>\n",
       "      <td>178.0</td>\n",
       "      <td>6168.0</td>\n",
       "      <td>22.512329</td>\n",
       "      <td>Y</td>\n",
       "    </tr>\n",
       "    <tr>\n",
       "      <th>2543</th>\n",
       "      <td>gibsobo01</td>\n",
       "      <td>0.947096</td>\n",
       "      <td>P</td>\n",
       "      <td>596</td>\n",
       "      <td>72.0</td>\n",
       "      <td>0.243472</td>\n",
       "      <td>2.228188</td>\n",
       "      <td>0.040268</td>\n",
       "      <td>0.021812</td>\n",
       "      <td>0.241611</td>\n",
       "      <td>0.000000</td>\n",
       "      <td>0.030201</td>\n",
       "      <td>1959-04-15</td>\n",
       "      <td>1975-09-03</td>\n",
       "      <td>189.0</td>\n",
       "      <td>5985.0</td>\n",
       "      <td>24.301370</td>\n",
       "      <td>Y</td>\n",
       "    </tr>\n",
       "    <tr>\n",
       "      <th>2593</th>\n",
       "      <td>glavito02</td>\n",
       "      <td>0.975662</td>\n",
       "      <td>P</td>\n",
       "      <td>709</td>\n",
       "      <td>216.0</td>\n",
       "      <td>0.244227</td>\n",
       "      <td>1.866008</td>\n",
       "      <td>0.001410</td>\n",
       "      <td>0.001410</td>\n",
       "      <td>0.126939</td>\n",
       "      <td>0.000000</td>\n",
       "      <td>0.004231</td>\n",
       "      <td>1987-08-17</td>\n",
       "      <td>2008-08-14</td>\n",
       "      <td>175.0</td>\n",
       "      <td>7668.0</td>\n",
       "      <td>21.638356</td>\n",
       "      <td>Y</td>\n",
       "    </tr>\n",
       "    <tr>\n",
       "      <th>3365</th>\n",
       "      <td>hunteca01</td>\n",
       "      <td>0.958881</td>\n",
       "      <td>P</td>\n",
       "      <td>515</td>\n",
       "      <td>39.0</td>\n",
       "      <td>0.233979</td>\n",
       "      <td>1.277670</td>\n",
       "      <td>0.011650</td>\n",
       "      <td>0.003883</td>\n",
       "      <td>0.099029</td>\n",
       "      <td>0.000000</td>\n",
       "      <td>0.009709</td>\n",
       "      <td>1965-05-13</td>\n",
       "      <td>1979-09-17</td>\n",
       "      <td>190.0</td>\n",
       "      <td>5240.0</td>\n",
       "      <td>19.375342</td>\n",
       "      <td>Y</td>\n",
       "    </tr>\n",
       "    <tr>\n",
       "      <th>3401</th>\n",
       "      <td>irvinmo01</td>\n",
       "      <td>0.985971</td>\n",
       "      <td>OF</td>\n",
       "      <td>764</td>\n",
       "      <td>9.0</td>\n",
       "      <td>0.383148</td>\n",
       "      <td>3.270942</td>\n",
       "      <td>0.129581</td>\n",
       "      <td>0.036649</td>\n",
       "      <td>0.579843</td>\n",
       "      <td>0.006545</td>\n",
       "      <td>0.014398</td>\n",
       "      <td>1949-07-08</td>\n",
       "      <td>1956-09-30</td>\n",
       "      <td>195.0</td>\n",
       "      <td>2641.0</td>\n",
       "      <td>30.536986</td>\n",
       "      <td>Y</td>\n",
       "    </tr>\n",
       "    <tr>\n",
       "      <th>3476</th>\n",
       "      <td>jenkife01</td>\n",
       "      <td>0.959108</td>\n",
       "      <td>P</td>\n",
       "      <td>665</td>\n",
       "      <td>66.0</td>\n",
       "      <td>0.200212</td>\n",
       "      <td>1.347368</td>\n",
       "      <td>0.019549</td>\n",
       "      <td>0.000000</td>\n",
       "      <td>0.127820</td>\n",
       "      <td>0.000000</td>\n",
       "      <td>0.010526</td>\n",
       "      <td>1965-09-10</td>\n",
       "      <td>1983-09-26</td>\n",
       "      <td>205.0</td>\n",
       "      <td>6590.0</td>\n",
       "      <td>23.706849</td>\n",
       "      <td>Y</td>\n",
       "    </tr>\n",
       "    <tr>\n",
       "      <th>3549</th>\n",
       "      <td>johnsra05</td>\n",
       "      <td>0.866534</td>\n",
       "      <td>P</td>\n",
       "      <td>619</td>\n",
       "      <td>44.0</td>\n",
       "      <td>0.153014</td>\n",
       "      <td>1.009693</td>\n",
       "      <td>0.001616</td>\n",
       "      <td>0.000000</td>\n",
       "      <td>0.064620</td>\n",
       "      <td>0.000000</td>\n",
       "      <td>0.001616</td>\n",
       "      <td>1988-09-15</td>\n",
       "      <td>2009-10-04</td>\n",
       "      <td>225.0</td>\n",
       "      <td>7689.0</td>\n",
       "      <td>25.723288</td>\n",
       "      <td>Y</td>\n",
       "    </tr>\n",
       "    <tr>\n",
       "      <th>3847</th>\n",
       "      <td>koufasa01</td>\n",
       "      <td>0.945486</td>\n",
       "      <td>P</td>\n",
       "      <td>397</td>\n",
       "      <td>35.0</td>\n",
       "      <td>0.144593</td>\n",
       "      <td>1.954660</td>\n",
       "      <td>0.005038</td>\n",
       "      <td>0.000000</td>\n",
       "      <td>0.070529</td>\n",
       "      <td>0.000000</td>\n",
       "      <td>0.007557</td>\n",
       "      <td>1955-06-24</td>\n",
       "      <td>1966-10-02</td>\n",
       "      <td>210.0</td>\n",
       "      <td>4118.0</td>\n",
       "      <td>20.490411</td>\n",
       "      <td>Y</td>\n",
       "    </tr>\n",
       "    <tr>\n",
       "      <th>4332</th>\n",
       "      <td>maddugr01</td>\n",
       "      <td>0.967221</td>\n",
       "      <td>P</td>\n",
       "      <td>759</td>\n",
       "      <td>180.0</td>\n",
       "      <td>0.190564</td>\n",
       "      <td>2.096179</td>\n",
       "      <td>0.006588</td>\n",
       "      <td>0.014493</td>\n",
       "      <td>0.110672</td>\n",
       "      <td>0.000000</td>\n",
       "      <td>0.002635</td>\n",
       "      <td>1986-09-03</td>\n",
       "      <td>2008-09-27</td>\n",
       "      <td>170.0</td>\n",
       "      <td>8060.0</td>\n",
       "      <td>20.684932</td>\n",
       "      <td>Y</td>\n",
       "    </tr>\n",
       "    <tr>\n",
       "      <th>4417</th>\n",
       "      <td>maricju01</td>\n",
       "      <td>0.954911</td>\n",
       "      <td>P</td>\n",
       "      <td>475</td>\n",
       "      <td>71.0</td>\n",
       "      <td>0.190852</td>\n",
       "      <td>2.570526</td>\n",
       "      <td>0.008421</td>\n",
       "      <td>0.004211</td>\n",
       "      <td>0.157895</td>\n",
       "      <td>0.000000</td>\n",
       "      <td>0.014737</td>\n",
       "      <td>1960-07-19</td>\n",
       "      <td>1975-04-16</td>\n",
       "      <td>185.0</td>\n",
       "      <td>5384.0</td>\n",
       "      <td>23.561644</td>\n",
       "      <td>Y</td>\n",
       "    </tr>\n",
       "    <tr>\n",
       "      <th>4472</th>\n",
       "      <td>martipe02</td>\n",
       "      <td>0.955213</td>\n",
       "      <td>P</td>\n",
       "      <td>477</td>\n",
       "      <td>63.0</td>\n",
       "      <td>0.134066</td>\n",
       "      <td>0.909853</td>\n",
       "      <td>0.000000</td>\n",
       "      <td>0.000000</td>\n",
       "      <td>0.037736</td>\n",
       "      <td>0.000000</td>\n",
       "      <td>0.006289</td>\n",
       "      <td>1992-09-24</td>\n",
       "      <td>2009-09-30</td>\n",
       "      <td>170.0</td>\n",
       "      <td>6215.0</td>\n",
       "      <td>21.745205</td>\n",
       "      <td>Y</td>\n",
       "    </tr>\n",
       "    <tr>\n",
       "      <th>4975</th>\n",
       "      <td>morrija02</td>\n",
       "      <td>0.962171</td>\n",
       "      <td>P</td>\n",
       "      <td>568</td>\n",
       "      <td>0.0</td>\n",
       "      <td>0.000000</td>\n",
       "      <td>0.001761</td>\n",
       "      <td>0.000000</td>\n",
       "      <td>0.000000</td>\n",
       "      <td>0.000000</td>\n",
       "      <td>0.000000</td>\n",
       "      <td>0.000000</td>\n",
       "      <td>1977-07-26</td>\n",
       "      <td>1994-08-07</td>\n",
       "      <td>195.0</td>\n",
       "      <td>6221.0</td>\n",
       "      <td>22.580822</td>\n",
       "      <td>Y</td>\n",
       "    </tr>\n",
       "    <tr>\n",
       "      <th>5161</th>\n",
       "      <td>niekrph01</td>\n",
       "      <td>0.975201</td>\n",
       "      <td>P</td>\n",
       "      <td>866</td>\n",
       "      <td>129.0</td>\n",
       "      <td>0.183143</td>\n",
       "      <td>1.774827</td>\n",
       "      <td>0.008083</td>\n",
       "      <td>0.000000</td>\n",
       "      <td>0.125866</td>\n",
       "      <td>0.000000</td>\n",
       "      <td>0.013857</td>\n",
       "      <td>1964-04-15</td>\n",
       "      <td>1987-09-27</td>\n",
       "      <td>180.0</td>\n",
       "      <td>8565.0</td>\n",
       "      <td>25.304110</td>\n",
       "      <td>Y</td>\n",
       "    </tr>\n",
       "    <tr>\n",
       "      <th>5391</th>\n",
       "      <td>paigesa01</td>\n",
       "      <td>1.000000</td>\n",
       "      <td>P</td>\n",
       "      <td>179</td>\n",
       "      <td>8.0</td>\n",
       "      <td>0.118110</td>\n",
       "      <td>0.692737</td>\n",
       "      <td>0.000000</td>\n",
       "      <td>0.000000</td>\n",
       "      <td>0.022346</td>\n",
       "      <td>0.000000</td>\n",
       "      <td>0.000000</td>\n",
       "      <td>1948-07-09</td>\n",
       "      <td>1965-09-25</td>\n",
       "      <td>180.0</td>\n",
       "      <td>6287.0</td>\n",
       "      <td>42.547945</td>\n",
       "      <td>Y</td>\n",
       "    </tr>\n",
       "    <tr>\n",
       "      <th>5400</th>\n",
       "      <td>palmeji01</td>\n",
       "      <td>0.964028</td>\n",
       "      <td>P</td>\n",
       "      <td>576</td>\n",
       "      <td>31.0</td>\n",
       "      <td>0.199605</td>\n",
       "      <td>0.848958</td>\n",
       "      <td>0.005208</td>\n",
       "      <td>0.001736</td>\n",
       "      <td>0.071181</td>\n",
       "      <td>0.000000</td>\n",
       "      <td>0.001736</td>\n",
       "      <td>1965-04-17</td>\n",
       "      <td>1984-05-12</td>\n",
       "      <td>190.0</td>\n",
       "      <td>6965.0</td>\n",
       "      <td>20.304110</td>\n",
       "      <td>Y</td>\n",
       "    </tr>\n",
       "    <tr>\n",
       "      <th>5558</th>\n",
       "      <td>perryga01</td>\n",
       "      <td>0.968592</td>\n",
       "      <td>P</td>\n",
       "      <td>787</td>\n",
       "      <td>113.0</td>\n",
       "      <td>0.152665</td>\n",
       "      <td>1.367217</td>\n",
       "      <td>0.007624</td>\n",
       "      <td>0.000000</td>\n",
       "      <td>0.059720</td>\n",
       "      <td>0.000000</td>\n",
       "      <td>0.003812</td>\n",
       "      <td>1962-04-14</td>\n",
       "      <td>1983-09-21</td>\n",
       "      <td>205.0</td>\n",
       "      <td>7830.0</td>\n",
       "      <td>24.298630</td>\n",
       "      <td>Y</td>\n",
       "    </tr>\n",
       "    <tr>\n",
       "      <th>6056</th>\n",
       "      <td>roberro01</td>\n",
       "      <td>0.957557</td>\n",
       "      <td>P</td>\n",
       "      <td>688</td>\n",
       "      <td>108.0</td>\n",
       "      <td>0.237754</td>\n",
       "      <td>2.216570</td>\n",
       "      <td>0.007267</td>\n",
       "      <td>0.004360</td>\n",
       "      <td>0.149709</td>\n",
       "      <td>0.000000</td>\n",
       "      <td>0.008721</td>\n",
       "      <td>1948-06-18</td>\n",
       "      <td>1966-09-03</td>\n",
       "      <td>190.0</td>\n",
       "      <td>6651.0</td>\n",
       "      <td>22.476712</td>\n",
       "      <td>Y</td>\n",
       "    </tr>\n",
       "    <tr>\n",
       "      <th>6257</th>\n",
       "      <td>ryanno01</td>\n",
       "      <td>0.891026</td>\n",
       "      <td>P</td>\n",
       "      <td>807</td>\n",
       "      <td>65.0</td>\n",
       "      <td>0.147982</td>\n",
       "      <td>1.055762</td>\n",
       "      <td>0.002478</td>\n",
       "      <td>0.003717</td>\n",
       "      <td>0.044610</td>\n",
       "      <td>0.000000</td>\n",
       "      <td>0.002478</td>\n",
       "      <td>1966-09-11</td>\n",
       "      <td>1993-09-22</td>\n",
       "      <td>170.0</td>\n",
       "      <td>9873.0</td>\n",
       "      <td>19.706849</td>\n",
       "      <td>Y</td>\n",
       "    </tr>\n",
       "    <tr>\n",
       "      <th>6481</th>\n",
       "      <td>seaveto01</td>\n",
       "      <td>0.960436</td>\n",
       "      <td>P</td>\n",
       "      <td>677</td>\n",
       "      <td>121.0</td>\n",
       "      <td>0.219427</td>\n",
       "      <td>1.942393</td>\n",
       "      <td>0.017725</td>\n",
       "      <td>0.005908</td>\n",
       "      <td>0.127031</td>\n",
       "      <td>0.000000</td>\n",
       "      <td>0.005908</td>\n",
       "      <td>1967-04-13</td>\n",
       "      <td>1986-09-19</td>\n",
       "      <td>195.0</td>\n",
       "      <td>7099.0</td>\n",
       "      <td>23.295890</td>\n",
       "      <td>Y</td>\n",
       "    </tr>\n",
       "    <tr>\n",
       "      <th>6730</th>\n",
       "      <td>smoltjo01</td>\n",
       "      <td>0.958564</td>\n",
       "      <td>P</td>\n",
       "      <td>735</td>\n",
       "      <td>136.0</td>\n",
       "      <td>0.225994</td>\n",
       "      <td>1.289796</td>\n",
       "      <td>0.006803</td>\n",
       "      <td>0.004082</td>\n",
       "      <td>0.082993</td>\n",
       "      <td>0.000000</td>\n",
       "      <td>0.001361</td>\n",
       "      <td>1988-07-23</td>\n",
       "      <td>2009-09-30</td>\n",
       "      <td>210.0</td>\n",
       "      <td>7739.0</td>\n",
       "      <td>21.572603</td>\n",
       "      <td>Y</td>\n",
       "    </tr>\n",
       "    <tr>\n",
       "      <th>6775</th>\n",
       "      <td>spahnwa01</td>\n",
       "      <td>0.954228</td>\n",
       "      <td>P</td>\n",
       "      <td>783</td>\n",
       "      <td>68.0</td>\n",
       "      <td>0.233518</td>\n",
       "      <td>2.390805</td>\n",
       "      <td>0.044700</td>\n",
       "      <td>0.005109</td>\n",
       "      <td>0.241379</td>\n",
       "      <td>0.000000</td>\n",
       "      <td>0.017880</td>\n",
       "      <td>1942-04-19</td>\n",
       "      <td>1965-10-01</td>\n",
       "      <td>172.0</td>\n",
       "      <td>8566.0</td>\n",
       "      <td>21.309589</td>\n",
       "      <td>Y</td>\n",
       "    </tr>\n",
       "    <tr>\n",
       "      <th>6992</th>\n",
       "      <td>suttebr01</td>\n",
       "      <td>0.961385</td>\n",
       "      <td>P</td>\n",
       "      <td>661</td>\n",
       "      <td>10.0</td>\n",
       "      <td>0.153153</td>\n",
       "      <td>0.154312</td>\n",
       "      <td>0.000000</td>\n",
       "      <td>0.001513</td>\n",
       "      <td>0.009077</td>\n",
       "      <td>0.000000</td>\n",
       "      <td>0.001513</td>\n",
       "      <td>1976-05-09</td>\n",
       "      <td>1988-09-09</td>\n",
       "      <td>190.0</td>\n",
       "      <td>4506.0</td>\n",
       "      <td>23.367123</td>\n",
       "      <td>Y</td>\n",
       "    </tr>\n",
       "    <tr>\n",
       "      <th>6993</th>\n",
       "      <td>suttodo01</td>\n",
       "      <td>0.969932</td>\n",
       "      <td>P</td>\n",
       "      <td>785</td>\n",
       "      <td>136.0</td>\n",
       "      <td>0.183415</td>\n",
       "      <td>1.724841</td>\n",
       "      <td>0.000000</td>\n",
       "      <td>0.001274</td>\n",
       "      <td>0.081529</td>\n",
       "      <td>0.000000</td>\n",
       "      <td>0.003822</td>\n",
       "      <td>1966-04-14</td>\n",
       "      <td>1988-08-09</td>\n",
       "      <td>185.0</td>\n",
       "      <td>8153.0</td>\n",
       "      <td>21.295890</td>\n",
       "      <td>Y</td>\n",
       "    </tr>\n",
       "  </tbody>\n",
       "</table>\n",
       "</div>"
      ],
      "text/plain": [
       "       playerID      FPCT POS    G     SH       OBP      AB/G      HR/G  \\\n",
       "654   blylebe01  0.974893   P  699   56.0  0.144105  0.645207  0.000000   \n",
       "927   brownwi02  1.000000  OF   21    0.0  0.179104  3.190476  0.047619   \n",
       "988   bunniji01  0.962680   P  601   85.0  0.188450  2.121464  0.011647   \n",
       "1157  carltst01  0.964966   P  745   94.0  0.222658  2.307383  0.017450   \n",
       "1954  drysddo01  0.939506   P  547   69.0  0.228226  2.137112  0.053016   \n",
       "2230  fingero01  0.965527   P  945   18.0  0.185792  0.190476  0.002116   \n",
       "2304   fordwh01  0.961718   P  500   65.0  0.256343  2.046000  0.006000   \n",
       "2543  gibsobo01  0.947096   P  596   72.0  0.243472  2.228188  0.040268   \n",
       "2593  glavito02  0.975662   P  709  216.0  0.244227  1.866008  0.001410   \n",
       "3365  hunteca01  0.958881   P  515   39.0  0.233979  1.277670  0.011650   \n",
       "3401  irvinmo01  0.985971  OF  764    9.0  0.383148  3.270942  0.129581   \n",
       "3476  jenkife01  0.959108   P  665   66.0  0.200212  1.347368  0.019549   \n",
       "3549  johnsra05  0.866534   P  619   44.0  0.153014  1.009693  0.001616   \n",
       "3847  koufasa01  0.945486   P  397   35.0  0.144593  1.954660  0.005038   \n",
       "4332  maddugr01  0.967221   P  759  180.0  0.190564  2.096179  0.006588   \n",
       "4417  maricju01  0.954911   P  475   71.0  0.190852  2.570526  0.008421   \n",
       "4472  martipe02  0.955213   P  477   63.0  0.134066  0.909853  0.000000   \n",
       "4975  morrija02  0.962171   P  568    0.0  0.000000  0.001761  0.000000   \n",
       "5161  niekrph01  0.975201   P  866  129.0  0.183143  1.774827  0.008083   \n",
       "5391  paigesa01  1.000000   P  179    8.0  0.118110  0.692737  0.000000   \n",
       "5400  palmeji01  0.964028   P  576   31.0  0.199605  0.848958  0.005208   \n",
       "5558  perryga01  0.968592   P  787  113.0  0.152665  1.367217  0.007624   \n",
       "6056  roberro01  0.957557   P  688  108.0  0.237754  2.216570  0.007267   \n",
       "6257   ryanno01  0.891026   P  807   65.0  0.147982  1.055762  0.002478   \n",
       "6481  seaveto01  0.960436   P  677  121.0  0.219427  1.942393  0.017725   \n",
       "6730  smoltjo01  0.958564   P  735  136.0  0.225994  1.289796  0.006803   \n",
       "6775  spahnwa01  0.954228   P  783   68.0  0.233518  2.390805  0.044700   \n",
       "6992  suttebr01  0.961385   P  661   10.0  0.153153  0.154312  0.000000   \n",
       "6993  suttodo01  0.969932   P  785  136.0  0.183415  1.724841  0.000000   \n",
       "\n",
       "          SB/G     RBI/G     IBB/G      SF/G      debut  finalGame  weight  \\\n",
       "654   0.000000  0.035765  0.000000  0.000000 1970-06-05 1992-10-04   200.0   \n",
       "927   0.095238  0.285714  0.000000  0.000000 1947-07-19 1947-08-17   200.0   \n",
       "988   0.000000  0.124792  0.000000  0.009983 1955-07-20 1971-09-03   190.0   \n",
       "1157  0.002685  0.187919  0.000000  0.017450 1965-04-12 1988-04-23   210.0   \n",
       "1954  0.000000  0.206581  0.000000  0.010969 1956-04-17 1969-08-05   190.0   \n",
       "2230  0.000000  0.009524  0.000000  0.000000 1968-09-15 1985-09-17   190.0   \n",
       "2304  0.006000  0.138000  0.000000  0.008000 1950-07-01 1967-05-21   178.0   \n",
       "2543  0.021812  0.241611  0.000000  0.030201 1959-04-15 1975-09-03   189.0   \n",
       "2593  0.001410  0.126939  0.000000  0.004231 1987-08-17 2008-08-14   175.0   \n",
       "3365  0.003883  0.099029  0.000000  0.009709 1965-05-13 1979-09-17   190.0   \n",
       "3401  0.036649  0.579843  0.006545  0.014398 1949-07-08 1956-09-30   195.0   \n",
       "3476  0.000000  0.127820  0.000000  0.010526 1965-09-10 1983-09-26   205.0   \n",
       "3549  0.000000  0.064620  0.000000  0.001616 1988-09-15 2009-10-04   225.0   \n",
       "3847  0.000000  0.070529  0.000000  0.007557 1955-06-24 1966-10-02   210.0   \n",
       "4332  0.014493  0.110672  0.000000  0.002635 1986-09-03 2008-09-27   170.0   \n",
       "4417  0.004211  0.157895  0.000000  0.014737 1960-07-19 1975-04-16   185.0   \n",
       "4472  0.000000  0.037736  0.000000  0.006289 1992-09-24 2009-09-30   170.0   \n",
       "4975  0.000000  0.000000  0.000000  0.000000 1977-07-26 1994-08-07   195.0   \n",
       "5161  0.000000  0.125866  0.000000  0.013857 1964-04-15 1987-09-27   180.0   \n",
       "5391  0.000000  0.022346  0.000000  0.000000 1948-07-09 1965-09-25   180.0   \n",
       "5400  0.001736  0.071181  0.000000  0.001736 1965-04-17 1984-05-12   190.0   \n",
       "5558  0.000000  0.059720  0.000000  0.003812 1962-04-14 1983-09-21   205.0   \n",
       "6056  0.004360  0.149709  0.000000  0.008721 1948-06-18 1966-09-03   190.0   \n",
       "6257  0.003717  0.044610  0.000000  0.002478 1966-09-11 1993-09-22   170.0   \n",
       "6481  0.005908  0.127031  0.000000  0.005908 1967-04-13 1986-09-19   195.0   \n",
       "6730  0.004082  0.082993  0.000000  0.001361 1988-07-23 2009-09-30   210.0   \n",
       "6775  0.005109  0.241379  0.000000  0.017880 1942-04-19 1965-10-01   172.0   \n",
       "6992  0.001513  0.009077  0.000000  0.001513 1976-05-09 1988-09-09   190.0   \n",
       "6993  0.001274  0.081529  0.000000  0.003822 1966-04-14 1988-08-09   185.0   \n",
       "\n",
       "      servingDays   debutAge inducted  \n",
       "654        8157.0  19.438356        Y  \n",
       "927          29.0  32.567123        Y  \n",
       "988        5889.0  24.564384        Y  \n",
       "1157       8412.0  21.293151        Y  \n",
       "1954       4858.0  20.306849        Y  \n",
       "2230       6211.0  22.720548        Y  \n",
       "2304       6168.0  22.512329        Y  \n",
       "2543       5985.0  24.301370        Y  \n",
       "2593       7668.0  21.638356        Y  \n",
       "3365       5240.0  19.375342        Y  \n",
       "3401       2641.0  30.536986        Y  \n",
       "3476       6590.0  23.706849        Y  \n",
       "3549       7689.0  25.723288        Y  \n",
       "3847       4118.0  20.490411        Y  \n",
       "4332       8060.0  20.684932        Y  \n",
       "4417       5384.0  23.561644        Y  \n",
       "4472       6215.0  21.745205        Y  \n",
       "4975       6221.0  22.580822        Y  \n",
       "5161       8565.0  25.304110        Y  \n",
       "5391       6287.0  42.547945        Y  \n",
       "5400       6965.0  20.304110        Y  \n",
       "5558       7830.0  24.298630        Y  \n",
       "6056       6651.0  22.476712        Y  \n",
       "6257       9873.0  19.706849        Y  \n",
       "6481       7099.0  23.295890        Y  \n",
       "6730       7739.0  21.572603        Y  \n",
       "6775       8566.0  21.309589        Y  \n",
       "6992       4506.0  23.367123        Y  \n",
       "6993       8153.0  21.295890        Y  "
      ]
     },
     "execution_count": 18,
     "metadata": {},
     "output_type": "execute_result"
    }
   ],
   "source": [
    "players_Y[players['G']<1000]"
   ]
  },
  {
   "cell_type": "code",
   "execution_count": 10,
   "metadata": {
    "collapsed": true
   },
   "outputs": [
    {
     "data": {
      "text/plain": [
       "<matplotlib.axes._subplots.AxesSubplot at 0x114844748>"
      ]
     },
     "execution_count": 10,
     "metadata": {},
     "output_type": "execute_result"
    },
    {
     "data": {
      "image/png": "[encoded data removed]",
      "text/plain": [
       "<matplotlib.figure.Figure at 0x11535f2e8>"
      ]
     },
     "metadata": {},
     "output_type": "display_data"
    }
   ],
   "source": [
    "players_Y = players[players['inducted']=='Y']\n",
    "sns.distplot(players_Y.G, bins=30)"
   ]
  },
  {
   "cell_type": "code",
   "execution_count": 33,
   "metadata": {
    "collapsed": true
   },
   "outputs": [],
   "source": [
    "feature0 = ['G']\n",
    "feature1 = ['G','OBP']\n",
    "feature2 = ['G','OBP','FPCT']\n",
    "feature3 = ['G','OBP','FPCT','POS']\n",
    "feature5 = ['G','FPCT']\n",
    "feature6 = ['G','FPCT','POS']\n",
    "\n",
    "feature4 = ['FPCT', 'POS', 'G', 'SH', 'OBP', 'AB/G', 'HR/G', 'SB/G',\n",
    "       'RBI/G', 'IBB/G', 'SF/G', 'weight', 'debutAge']"
   ]
  },
  {
   "cell_type": "code",
   "execution_count": 148,
   "metadata": {
    "collapsed": true
   },
   "outputs": [],
   "source": [
    "X = players[['FPCT']]\n",
    "# X = pd.get_dummies(X, columns = ['POS'] )\n",
    "y = players[['inducted']]"
   ]
  },
  {
   "cell_type": "code",
   "execution_count": 149,
   "metadata": {},
   "outputs": [
    {
     "data": {
      "text/plain": [
       "IForest(bootstrap=False, contamination=0.1, max_features=1.0,\n",
       "    max_samples='auto', n_estimators=100, n_jobs=1, random_state=2018,\n",
       "    verbose=0)"
      ]
     },
     "execution_count": 149,
     "metadata": {},
     "output_type": "execute_result"
    }
   ],
   "source": [
    "clf = IForest(random_state=2018)\n",
    "clf.fit(X)"
   ]
  },
  {
   "cell_type": "code",
   "execution_count": 150,
   "metadata": {},
   "outputs": [
    {
     "data": {
      "text/plain": [
       "IForest(bootstrap=False, contamination=0.1, max_features=1.0,\n",
       "    max_samples='auto', n_estimators=100, n_jobs=1, random_state=2018,\n",
       "    verbose=0)"
      ]
     },
     "execution_count": 150,
     "metadata": {},
     "output_type": "execute_result"
    }
   ],
   "source": [
    "clf"
   ]
  },
  {
   "cell_type": "code",
   "execution_count": 151,
   "metadata": {},
   "outputs": [
    {
     "name": "stderr",
     "output_type": "stream",
     "text": [
      "/anaconda3/lib/python3.6/site-packages/pandas/core/indexing.py:362: SettingWithCopyWarning: \n",
      "A value is trying to be set on a copy of a slice from a DataFrame.\n",
      "Try using .loc[row_indexer,col_indexer] = value instead\n",
      "\n",
      "See the caveats in the documentation: http://pandas.pydata.org/pandas-docs/stable/indexing.html#indexing-view-versus-copy\n",
      "  self.obj[key] = _infer_fill_value(value)\n",
      "/anaconda3/lib/python3.6/site-packages/pandas/core/indexing.py:543: SettingWithCopyWarning: \n",
      "A value is trying to be set on a copy of a slice from a DataFrame.\n",
      "Try using .loc[row_indexer,col_indexer] = value instead\n",
      "\n",
      "See the caveats in the documentation: http://pandas.pydata.org/pandas-docs/stable/indexing.html#indexing-view-versus-copy\n",
      "  self.obj[item] = s\n"
     ]
    }
   ],
   "source": [
    "outlier_scores = clf.decision_scores_\n",
    "players_pre = players[['playerID','servingDays','inducted']]\n",
    "players_pre.loc[:,'outlier_score']=outlier_scores"
   ]
  },
  {
   "cell_type": "code",
   "execution_count": 152,
   "metadata": {
    "collapsed": true
   },
   "outputs": [],
   "source": [
    "player10 = players_pre[players_pre['servingDays']>2000].sort_values(['outlier_score'],ascending=False).iloc[:100,:]\n"
   ]
  },
  {
   "cell_type": "code",
   "execution_count": 153,
   "metadata": {
    "collapsed": true
   },
   "outputs": [],
   "source": [
    "num = (player10[player10['inducted']=='Y'].shape[0])"
   ]
  },
  {
   "cell_type": "code",
   "execution_count": 154,
   "metadata": {},
   "outputs": [
    {
     "data": {
      "text/plain": [
       "1"
      ]
     },
     "execution_count": 154,
     "metadata": {},
     "output_type": "execute_result"
    }
   ],
   "source": [
    "num"
   ]
  },
  {
   "cell_type": "code",
   "execution_count": 155,
   "metadata": {},
   "outputs": [
    {
     "data": {
      "text/plain": [
       "N    7829\n",
       "Y      97\n",
       "Name: inducted, dtype: int64"
      ]
     },
     "execution_count": 155,
     "metadata": {},
     "output_type": "execute_result"
    }
   ],
   "source": [
    "players.inducted.value_counts()"
   ]
  },
  {
   "cell_type": "code",
   "execution_count": null,
   "metadata": {
    "collapsed": true
   },
   "outputs": [],
   "source": []
  }
 ],
 "metadata": {
  "kernelspec": {
   "display_name": "Python 3",
   "language": "python",
   "name": "python3"
  },
  "language_info": {
   "codemirror_mode": {
    "name": "ipython",
    "version": 3
   },
   "file_extension": ".py",
   "mimetype": "text/x-python",
   "name": "python",
   "nbconvert_exporter": "python",
   "pygments_lexer": "ipython3",
   "version": "3.6.2"
  }
 },
 "nbformat": 4,
 "nbformat_minor": 2
}
