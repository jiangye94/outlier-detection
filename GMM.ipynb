{
 "cells": [
  {
   "cell_type": "code",
   "execution_count": 1,
   "metadata": {
    "collapsed": true
   },
   "outputs": [],
   "source": [
    "import pandas as pd\n",
    "import numpy as np\n",
    "\n",
    "from sklearn import mixture\n",
    "import matplotlib.pyplot as plt\n",
    "%matplotlib inline\n",
    "import seaborn as sns\n",
    "\n",
    "import itertools"
   ]
  },
  {
   "cell_type": "code",
   "execution_count": 2,
   "metadata": {},
   "outputs": [
    {
     "data": {
      "text/html": [
       "<div>\n",
       "<style scoped>\n",
       "    .dataframe tbody tr th:only-of-type {\n",
       "        vertical-align: middle;\n",
       "    }\n",
       "\n",
       "    .dataframe tbody tr th {\n",
       "        vertical-align: top;\n",
       "    }\n",
       "\n",
       "    .dataframe thead th {\n",
       "        text-align: right;\n",
       "    }\n",
       "</style>\n",
       "<table border=\"1\" class=\"dataframe\">\n",
       "  <thead>\n",
       "    <tr style=\"text-align: right;\">\n",
       "      <th></th>\n",
       "      <th>playerID</th>\n",
       "      <th>FPCT</th>\n",
       "      <th>POS</th>\n",
       "      <th>G</th>\n",
       "      <th>SH</th>\n",
       "      <th>OBP</th>\n",
       "      <th>AB/G</th>\n",
       "      <th>HR/G</th>\n",
       "      <th>SB/G</th>\n",
       "      <th>RBI/G</th>\n",
       "      <th>IBB/G</th>\n",
       "      <th>SF/G</th>\n",
       "      <th>debut</th>\n",
       "      <th>finalGame</th>\n",
       "      <th>weight</th>\n",
       "      <th>servingDays</th>\n",
       "      <th>debutAge</th>\n",
       "      <th>inducted</th>\n",
       "    </tr>\n",
       "  </thead>\n",
       "  <tbody>\n",
       "    <tr>\n",
       "      <th>0</th>\n",
       "      <td>aaronha01</td>\n",
       "      <td>0.979124</td>\n",
       "      <td>OF</td>\n",
       "      <td>3298</td>\n",
       "      <td>21.0</td>\n",
       "      <td>0.373949</td>\n",
       "      <td>3.748939</td>\n",
       "      <td>0.228927</td>\n",
       "      <td>0.072771</td>\n",
       "      <td>0.696483</td>\n",
       "      <td>0.088842</td>\n",
       "      <td>0.036689</td>\n",
       "      <td>1954-04-13</td>\n",
       "      <td>1976-10-03</td>\n",
       "      <td>180.0</td>\n",
       "      <td>8209.0</td>\n",
       "      <td>20.293151</td>\n",
       "      <td>Y</td>\n",
       "    </tr>\n",
       "    <tr>\n",
       "      <th>1</th>\n",
       "      <td>aaronto01</td>\n",
       "      <td>0.982705</td>\n",
       "      <td>1B</td>\n",
       "      <td>437</td>\n",
       "      <td>9.0</td>\n",
       "      <td>0.291506</td>\n",
       "      <td>2.160183</td>\n",
       "      <td>0.029748</td>\n",
       "      <td>0.020595</td>\n",
       "      <td>0.215103</td>\n",
       "      <td>0.006865</td>\n",
       "      <td>0.013730</td>\n",
       "      <td>1962-04-10</td>\n",
       "      <td>1971-09-26</td>\n",
       "      <td>190.0</td>\n",
       "      <td>3456.0</td>\n",
       "      <td>23.287671</td>\n",
       "      <td>N</td>\n",
       "    </tr>\n",
       "    <tr>\n",
       "      <th>2</th>\n",
       "      <td>aasedo01</td>\n",
       "      <td>0.955399</td>\n",
       "      <td>P</td>\n",
       "      <td>448</td>\n",
       "      <td>0.0</td>\n",
       "      <td>0.000000</td>\n",
       "      <td>0.011161</td>\n",
       "      <td>0.000000</td>\n",
       "      <td>0.000000</td>\n",
       "      <td>0.000000</td>\n",
       "      <td>0.000000</td>\n",
       "      <td>0.000000</td>\n",
       "      <td>1977-07-26</td>\n",
       "      <td>1990-10-03</td>\n",
       "      <td>190.0</td>\n",
       "      <td>4817.0</td>\n",
       "      <td>23.580822</td>\n",
       "      <td>N</td>\n",
       "    </tr>\n",
       "    <tr>\n",
       "      <th>3</th>\n",
       "      <td>abadan01</td>\n",
       "      <td>0.986486</td>\n",
       "      <td>1B</td>\n",
       "      <td>15</td>\n",
       "      <td>0.0</td>\n",
       "      <td>0.240000</td>\n",
       "      <td>1.400000</td>\n",
       "      <td>0.000000</td>\n",
       "      <td>0.000000</td>\n",
       "      <td>0.000000</td>\n",
       "      <td>0.000000</td>\n",
       "      <td>0.000000</td>\n",
       "      <td>2001-09-10</td>\n",
       "      <td>2006-04-13</td>\n",
       "      <td>184.0</td>\n",
       "      <td>1676.0</td>\n",
       "      <td>29.712329</td>\n",
       "      <td>N</td>\n",
       "    </tr>\n",
       "    <tr>\n",
       "      <th>4</th>\n",
       "      <td>abbotje01</td>\n",
       "      <td>0.975208</td>\n",
       "      <td>OF</td>\n",
       "      <td>233</td>\n",
       "      <td>5.0</td>\n",
       "      <td>0.307453</td>\n",
       "      <td>2.557940</td>\n",
       "      <td>0.077253</td>\n",
       "      <td>0.025751</td>\n",
       "      <td>0.356223</td>\n",
       "      <td>0.008584</td>\n",
       "      <td>0.030043</td>\n",
       "      <td>1997-06-10</td>\n",
       "      <td>2001-09-29</td>\n",
       "      <td>190.0</td>\n",
       "      <td>1572.0</td>\n",
       "      <td>25.457534</td>\n",
       "      <td>N</td>\n",
       "    </tr>\n",
       "  </tbody>\n",
       "</table>\n",
       "</div>"
      ],
      "text/plain": [
       "    playerID      FPCT POS     G    SH       OBP      AB/G      HR/G  \\\n",
       "0  aaronha01  0.979124  OF  3298  21.0  0.373949  3.748939  0.228927   \n",
       "1  aaronto01  0.982705  1B   437   9.0  0.291506  2.160183  0.029748   \n",
       "2   aasedo01  0.955399   P   448   0.0  0.000000  0.011161  0.000000   \n",
       "3   abadan01  0.986486  1B    15   0.0  0.240000  1.400000  0.000000   \n",
       "4  abbotje01  0.975208  OF   233   5.0  0.307453  2.557940  0.077253   \n",
       "\n",
       "       SB/G     RBI/G     IBB/G      SF/G      debut  finalGame  weight  \\\n",
       "0  0.072771  0.696483  0.088842  0.036689 1954-04-13 1976-10-03   180.0   \n",
       "1  0.020595  0.215103  0.006865  0.013730 1962-04-10 1971-09-26   190.0   \n",
       "2  0.000000  0.000000  0.000000  0.000000 1977-07-26 1990-10-03   190.0   \n",
       "3  0.000000  0.000000  0.000000  0.000000 2001-09-10 2006-04-13   184.0   \n",
       "4  0.025751  0.356223  0.008584  0.030043 1997-06-10 2001-09-29   190.0   \n",
       "\n",
       "   servingDays   debutAge inducted  \n",
       "0       8209.0  20.293151        Y  \n",
       "1       3456.0  23.287671        N  \n",
       "2       4817.0  23.580822        N  \n",
       "3       1676.0  29.712329        N  \n",
       "4       1572.0  25.457534        N  "
      ]
     },
     "execution_count": 2,
     "metadata": {},
     "output_type": "execute_result"
    }
   ],
   "source": [
    "players = pd.read_csv('merged_players42-12.csv',index_col=0,parse_dates=['debut','finalGame'])\n",
    "players.head()"
   ]
  },
  {
   "cell_type": "code",
   "execution_count": 3,
   "metadata": {},
   "outputs": [
    {
     "data": {
      "text/plain": [
       "(7927, 18)"
      ]
     },
     "execution_count": 3,
     "metadata": {},
     "output_type": "execute_result"
    }
   ],
   "source": [
    "players.shape"
   ]
  },
  {
   "cell_type": "code",
   "execution_count": 4,
   "metadata": {},
   "outputs": [
    {
     "data": {
      "text/plain": [
       "Index(['playerID', 'FPCT', 'POS', 'G', 'SH', 'OBP', 'AB/G', 'HR/G', 'SB/G',\n",
       "       'RBI/G', 'IBB/G', 'SF/G', 'debut', 'finalGame', 'weight', 'servingDays',\n",
       "       'debutAge', 'inducted'],\n",
       "      dtype='object')"
      ]
     },
     "execution_count": 4,
     "metadata": {},
     "output_type": "execute_result"
    }
   ],
   "source": [
    "players.columns"
   ]
  },
  {
   "cell_type": "markdown",
   "metadata": {},
   "source": [
    "servingDays are just used for filter samples when check outliers."
   ]
  },
  {
   "cell_type": "code",
   "execution_count": 5,
   "metadata": {},
   "outputs": [
    {
     "data": {
      "image/png": "[encoded data removed]",
      "text/plain": [
       "<matplotlib.figure.Figure at 0x1027c6e48>"
      ]
     },
     "metadata": {},
     "output_type": "display_data"
    }
   ],
   "source": [
    "players.hist(bins=30)\n",
    "plt.show()"
   ]
  },
  {
   "cell_type": "code",
   "execution_count": 6,
   "metadata": {
    "scrolled": true
   },
   "outputs": [
    {
     "name": "stderr",
     "output_type": "stream",
     "text": [
      "/anaconda3/lib/python3.6/site-packages/pandas/core/indexing.py:362: SettingWithCopyWarning: \n",
      "A value is trying to be set on a copy of a slice from a DataFrame.\n",
      "Try using .loc[row_indexer,col_indexer] = value instead\n",
      "\n",
      "See the caveats in the documentation: http://pandas.pydata.org/pandas-docs/stable/indexing.html#indexing-view-versus-copy\n",
      "  self.obj[key] = _infer_fill_value(value)\n",
      "/anaconda3/lib/python3.6/site-packages/pandas/core/indexing.py:543: SettingWithCopyWarning: \n",
      "A value is trying to be set on a copy of a slice from a DataFrame.\n",
      "Try using .loc[row_indexer,col_indexer] = value instead\n",
      "\n",
      "See the caveats in the documentation: http://pandas.pydata.org/pandas-docs/stable/indexing.html#indexing-view-versus-copy\n",
      "  self.obj[item] = s\n"
     ]
    },
    {
     "name": "stdout",
     "output_type": "stream",
     "text": [
      "47\n",
      "12\n",
      "1\n",
      "0\n",
      "0\n",
      "28\n",
      "13\n",
      "22\n",
      "21\n",
      "17\n",
      "26\n"
     ]
    },
    {
     "data": {
      "text/plain": [
       "[[47, ['G']],\n",
       " [12, ['OBP']],\n",
       " [1, ['FPCT']],\n",
       " [0, ['FPCT', 'POS']],\n",
       " [0, ['OBP', 'FPCT', 'POS']],\n",
       " [28, ['G', 'OBP']],\n",
       " [13, ['G', 'OBP', 'FPCT']],\n",
       " [22, ['G', 'OBP', 'FPCT', 'POS']],\n",
       " [21, ['G', 'FPCT']],\n",
       " [17, ['G', 'FPCT', 'POS']],\n",
       " [26,\n",
       "  ['FPCT',\n",
       "   'POS',\n",
       "   'G',\n",
       "   'SH',\n",
       "   'OBP',\n",
       "   'AB/G',\n",
       "   'HR/G',\n",
       "   'SB/G',\n",
       "   'RBI/G',\n",
       "   'IBB/G',\n",
       "   'SF/G',\n",
       "   'weight',\n",
       "   'debutAge']]]"
      ]
     },
     "execution_count": 6,
     "metadata": {},
     "output_type": "execute_result"
    }
   ],
   "source": [
    "features = [['G'],\n",
    "            ['OBP'],\n",
    "            ['FPCT'],\n",
    "            ['FPCT','POS'],\n",
    "            ['OBP','FPCT','POS'],\n",
    "            ['G','OBP'],\n",
    "            ['G','OBP','FPCT'],\n",
    "            ['G','OBP','FPCT','POS'],\n",
    "            ['G','FPCT'],\n",
    "            ['G','FPCT','POS'],\n",
    "            ['FPCT', 'POS', 'G', 'SH', 'OBP', 'AB/G', 'HR/G', 'SB/G',\n",
    "       'RBI/G', 'IBB/G', 'SF/G', 'weight', 'debutAge']]\n",
    "\n",
    "num_list = []\n",
    "for feature in features:\n",
    "    X = players[feature]\n",
    "    if ('POS' in feature):\n",
    "        X = pd.get_dummies(X, columns = ['POS'] )\n",
    "    y = players[['inducted']]\n",
    "    \n",
    "    lowest_bic = np.infty\n",
    "    bic = []\n",
    "    n_components_range = range(1, 10)\n",
    "    for n_components in n_components_range:\n",
    "        # Fit a Gaussian mixture with EM\n",
    "        gmm = mixture.GaussianMixture(n_components=n_components,\n",
    "                                      covariance_type='full', random_state = 2018)\n",
    "        gmm.fit(X)\n",
    "        bic.append(gmm.bic(X))\n",
    "        if bic[-1] < lowest_bic:\n",
    "            lowest_bic = bic[-1]\n",
    "            best_gmm = gmm\n",
    "            \n",
    "    loglike=best_gmm.score_samples(X)\n",
    "    players_pre = players[['playerID','servingDays','inducted']]\n",
    "    players_pre.loc[:,'loglike']=loglike\n",
    "\n",
    "    player10 = players_pre[players_pre['servingDays']>2000].sort_values(['loglike'],ascending=True).iloc[:100,:]\n",
    "    num = (player10[player10['inducted']=='Y'].shape[0])\n",
    "    num_list.append([num,feature])\n",
    "    print(num)\n",
    "\n",
    "num_list"
   ]
  },
  {
   "cell_type": "code",
   "execution_count": 7,
   "metadata": {
    "scrolled": true
   },
   "outputs": [
    {
     "name": "stdout",
     "output_type": "stream",
     "text": [
      "47\n"
     ]
    },
    {
     "name": "stderr",
     "output_type": "stream",
     "text": [
      "/anaconda3/lib/python3.6/site-packages/pandas/core/indexing.py:362: SettingWithCopyWarning: \n",
      "A value is trying to be set on a copy of a slice from a DataFrame.\n",
      "Try using .loc[row_indexer,col_indexer] = value instead\n",
      "\n",
      "See the caveats in the documentation: http://pandas.pydata.org/pandas-docs/stable/indexing.html#indexing-view-versus-copy\n",
      "  self.obj[key] = _infer_fill_value(value)\n",
      "/anaconda3/lib/python3.6/site-packages/pandas/core/indexing.py:543: SettingWithCopyWarning: \n",
      "A value is trying to be set on a copy of a slice from a DataFrame.\n",
      "Try using .loc[row_indexer,col_indexer] = value instead\n",
      "\n",
      "See the caveats in the documentation: http://pandas.pydata.org/pandas-docs/stable/indexing.html#indexing-view-versus-copy\n",
      "  self.obj[item] = s\n"
     ]
    },
    {
     "data": {
      "text/html": [
       "<div>\n",
       "<style scoped>\n",
       "    .dataframe tbody tr th:only-of-type {\n",
       "        vertical-align: middle;\n",
       "    }\n",
       "\n",
       "    .dataframe tbody tr th {\n",
       "        vertical-align: top;\n",
       "    }\n",
       "\n",
       "    .dataframe thead th {\n",
       "        text-align: right;\n",
       "    }\n",
       "</style>\n",
       "<table border=\"1\" class=\"dataframe\">\n",
       "  <thead>\n",
       "    <tr style=\"text-align: right;\">\n",
       "      <th></th>\n",
       "      <th>playerID</th>\n",
       "      <th>servingDays</th>\n",
       "      <th>inducted</th>\n",
       "      <th>loglike</th>\n",
       "    </tr>\n",
       "  </thead>\n",
       "  <tbody>\n",
       "    <tr>\n",
       "      <th>7850</th>\n",
       "      <td>yastrca01</td>\n",
       "      <td>8209.0</td>\n",
       "      <td>Y</td>\n",
       "      <td>-13.863560</td>\n",
       "    </tr>\n",
       "    <tr>\n",
       "      <th>0</th>\n",
       "      <td>aaronha01</td>\n",
       "      <td>8209.0</td>\n",
       "      <td>Y</td>\n",
       "      <td>-13.805197</td>\n",
       "    </tr>\n",
       "    <tr>\n",
       "      <th>3061</th>\n",
       "      <td>henderi01</td>\n",
       "      <td>8853.0</td>\n",
       "      <td>Y</td>\n",
       "      <td>-12.694377</td>\n",
       "    </tr>\n",
       "    <tr>\n",
       "      <th>5050</th>\n",
       "      <td>murraed02</td>\n",
       "      <td>7471.0</td>\n",
       "      <td>Y</td>\n",
       "      <td>-12.460039</td>\n",
       "    </tr>\n",
       "    <tr>\n",
       "      <th>6006</th>\n",
       "      <td>ripkeca01</td>\n",
       "      <td>7362.0</td>\n",
       "      <td>Y</td>\n",
       "      <td>-12.359807</td>\n",
       "    </tr>\n",
       "    <tr>\n",
       "      <th>4558</th>\n",
       "      <td>mayswi01</td>\n",
       "      <td>8143.0</td>\n",
       "      <td>Y</td>\n",
       "      <td>-12.324683</td>\n",
       "    </tr>\n",
       "    <tr>\n",
       "      <th>7763</th>\n",
       "      <td>winfida01</td>\n",
       "      <td>8139.0</td>\n",
       "      <td>Y</td>\n",
       "      <td>-12.252195</td>\n",
       "    </tr>\n",
       "    <tr>\n",
       "      <th>6061</th>\n",
       "      <td>robinbr01</td>\n",
       "      <td>8001.0</td>\n",
       "      <td>Y</td>\n",
       "      <td>-11.981390</td>\n",
       "    </tr>\n",
       "    <tr>\n",
       "      <th>7885</th>\n",
       "      <td>yountro01</td>\n",
       "      <td>7121.0</td>\n",
       "      <td>Y</td>\n",
       "      <td>-11.855056</td>\n",
       "    </tr>\n",
       "    <tr>\n",
       "      <th>588</th>\n",
       "      <td>biggicr01</td>\n",
       "      <td>7035.0</td>\n",
       "      <td>Y</td>\n",
       "      <td>-11.836937</td>\n",
       "    </tr>\n",
       "    <tr>\n",
       "      <th>3641</th>\n",
       "      <td>kalinal01</td>\n",
       "      <td>7769.0</td>\n",
       "      <td>Y</td>\n",
       "      <td>-11.789665</td>\n",
       "    </tr>\n",
       "    <tr>\n",
       "      <th>3424</th>\n",
       "      <td>jacksre01</td>\n",
       "      <td>7422.0</td>\n",
       "      <td>Y</td>\n",
       "      <td>-11.749539</td>\n",
       "    </tr>\n",
       "    <tr>\n",
       "      <th>6069</th>\n",
       "      <td>robinfr02</td>\n",
       "      <td>7459.0</td>\n",
       "      <td>Y</td>\n",
       "      <td>-11.716052</td>\n",
       "    </tr>\n",
       "    <tr>\n",
       "      <th>5543</th>\n",
       "      <td>perezto01</td>\n",
       "      <td>8106.0</td>\n",
       "      <td>Y</td>\n",
       "      <td>-11.633343</td>\n",
       "    </tr>\n",
       "    <tr>\n",
       "      <th>825</th>\n",
       "      <td>brettge01</td>\n",
       "      <td>7367.0</td>\n",
       "      <td>Y</td>\n",
       "      <td>-11.465605</td>\n",
       "    </tr>\n",
       "    <tr>\n",
       "      <th>4888</th>\n",
       "      <td>molitpa01</td>\n",
       "      <td>7478.0</td>\n",
       "      <td>Y</td>\n",
       "      <td>-11.413629</td>\n",
       "    </tr>\n",
       "    <tr>\n",
       "      <th>2759</th>\n",
       "      <td>griffke02</td>\n",
       "      <td>7728.0</td>\n",
       "      <td>Y</td>\n",
       "      <td>-11.388585</td>\n",
       "    </tr>\n",
       "    <tr>\n",
       "      <th>4962</th>\n",
       "      <td>morgajo02</td>\n",
       "      <td>7680.0</td>\n",
       "      <td>Y</td>\n",
       "      <td>-11.344169</td>\n",
       "    </tr>\n",
       "    <tr>\n",
       "      <th>1741</th>\n",
       "      <td>dawsoan01</td>\n",
       "      <td>7323.0</td>\n",
       "      <td>Y</td>\n",
       "      <td>-11.301490</td>\n",
       "    </tr>\n",
       "    <tr>\n",
       "      <th>863</th>\n",
       "      <td>brocklo01</td>\n",
       "      <td>6594.0</td>\n",
       "      <td>Y</td>\n",
       "      <td>-11.280720</td>\n",
       "    </tr>\n",
       "    <tr>\n",
       "      <th>196</th>\n",
       "      <td>aparilu01</td>\n",
       "      <td>6373.0</td>\n",
       "      <td>Y</td>\n",
       "      <td>-11.252925</td>\n",
       "    </tr>\n",
       "    <tr>\n",
       "      <th>4595</th>\n",
       "      <td>mccovwi01</td>\n",
       "      <td>7647.0</td>\n",
       "      <td>Y</td>\n",
       "      <td>-11.229257</td>\n",
       "    </tr>\n",
       "    <tr>\n",
       "      <th>6719</th>\n",
       "      <td>smithoz01</td>\n",
       "      <td>6750.0</td>\n",
       "      <td>Y</td>\n",
       "      <td>-11.202337</td>\n",
       "    </tr>\n",
       "    <tr>\n",
       "      <th>6102</th>\n",
       "      <td>rodriiv01</td>\n",
       "      <td>7405.0</td>\n",
       "      <td>Y</td>\n",
       "      <td>-11.149301</td>\n",
       "    </tr>\n",
       "    <tr>\n",
       "      <th>7138</th>\n",
       "      <td>thomeji01</td>\n",
       "      <td>7700.0</td>\n",
       "      <td>Y</td>\n",
       "      <td>-11.149301</td>\n",
       "    </tr>\n",
       "    <tr>\n",
       "      <th>347</th>\n",
       "      <td>bankser01</td>\n",
       "      <td>6583.0</td>\n",
       "      <td>Y</td>\n",
       "      <td>-11.122935</td>\n",
       "    </tr>\n",
       "    <tr>\n",
       "      <th>5795</th>\n",
       "      <td>raineti01</td>\n",
       "      <td>8419.0</td>\n",
       "      <td>Y</td>\n",
       "      <td>-11.076981</td>\n",
       "    </tr>\n",
       "    <tr>\n",
       "      <th>3573</th>\n",
       "      <td>jonesch06</td>\n",
       "      <td>6962.0</td>\n",
       "      <td>Y</td>\n",
       "      <td>-11.071633</td>\n",
       "    </tr>\n",
       "    <tr>\n",
       "      <th>2251</th>\n",
       "      <td>fiskca01</td>\n",
       "      <td>8678.0</td>\n",
       "      <td>Y</td>\n",
       "      <td>-11.071633</td>\n",
       "    </tr>\n",
       "    <tr>\n",
       "      <th>7674</th>\n",
       "      <td>willibi01</td>\n",
       "      <td>6267.0</td>\n",
       "      <td>Y</td>\n",
       "      <td>-11.051897</td>\n",
       "    </tr>\n",
       "    <tr>\n",
       "      <th>1149</th>\n",
       "      <td>carewro01</td>\n",
       "      <td>6752.0</td>\n",
       "      <td>Y</td>\n",
       "      <td>-11.017225</td>\n",
       "    </tr>\n",
       "    <tr>\n",
       "      <th>2827</th>\n",
       "      <td>gwynnto01</td>\n",
       "      <td>7020.0</td>\n",
       "      <td>Y</td>\n",
       "      <td>-10.962347</td>\n",
       "    </tr>\n",
       "    <tr>\n",
       "      <th>673</th>\n",
       "      <td>boggswa01</td>\n",
       "      <td>6348.0</td>\n",
       "      <td>Y</td>\n",
       "      <td>-10.962347</td>\n",
       "    </tr>\n",
       "    <tr>\n",
       "      <th>3736</th>\n",
       "      <td>killeha01</td>\n",
       "      <td>7765.0</td>\n",
       "      <td>Y</td>\n",
       "      <td>-10.952592</td>\n",
       "    </tr>\n",
       "    <tr>\n",
       "      <th>1373</th>\n",
       "      <td>clemero01</td>\n",
       "      <td>6379.0</td>\n",
       "      <td>Y</td>\n",
       "      <td>-10.948663</td>\n",
       "    </tr>\n",
       "    <tr>\n",
       "      <th>6419</th>\n",
       "      <td>schmimi01</td>\n",
       "      <td>6102.0</td>\n",
       "      <td>Y</td>\n",
       "      <td>-10.889797</td>\n",
       "    </tr>\n",
       "    <tr>\n",
       "      <th>4402</th>\n",
       "      <td>mantlmi01</td>\n",
       "      <td>6374.0</td>\n",
       "      <td>Y</td>\n",
       "      <td>-10.883491</td>\n",
       "    </tr>\n",
       "    <tr>\n",
       "      <th>4503</th>\n",
       "      <td>matheed01</td>\n",
       "      <td>6009.0</td>\n",
       "      <td>Y</td>\n",
       "      <td>-10.862158</td>\n",
       "    </tr>\n",
       "    <tr>\n",
       "      <th>115</th>\n",
       "      <td>alomaro01</td>\n",
       "      <td>5980.0</td>\n",
       "      <td>Y</td>\n",
       "      <td>-10.835904</td>\n",
       "    </tr>\n",
       "    <tr>\n",
       "      <th>2331</th>\n",
       "      <td>foxne01</td>\n",
       "      <td>6622.0</td>\n",
       "      <td>Y</td>\n",
       "      <td>-10.808916</td>\n",
       "    </tr>\n",
       "    <tr>\n",
       "      <th>6850</th>\n",
       "      <td>stargwi01</td>\n",
       "      <td>7322.0</td>\n",
       "      <td>Y</td>\n",
       "      <td>-10.792828</td>\n",
       "    </tr>\n",
       "    <tr>\n",
       "      <th>7128</th>\n",
       "      <td>thomafr04</td>\n",
       "      <td>6602.0</td>\n",
       "      <td>Y</td>\n",
       "      <td>-10.701091</td>\n",
       "    </tr>\n",
       "    <tr>\n",
       "      <th>1184</th>\n",
       "      <td>cartega01</td>\n",
       "      <td>6586.0</td>\n",
       "      <td>Y</td>\n",
       "      <td>-10.634271</td>\n",
       "    </tr>\n",
       "    <tr>\n",
       "      <th>7240</th>\n",
       "      <td>trammal01</td>\n",
       "      <td>6960.0</td>\n",
       "      <td>Y</td>\n",
       "      <td>-10.626370</td>\n",
       "    </tr>\n",
       "    <tr>\n",
       "      <th>6352</th>\n",
       "      <td>santoro01</td>\n",
       "      <td>5208.0</td>\n",
       "      <td>Y</td>\n",
       "      <td>-10.490108</td>\n",
       "    </tr>\n",
       "    <tr>\n",
       "      <th>6425</th>\n",
       "      <td>schoere01</td>\n",
       "      <td>6655.0</td>\n",
       "      <td>Y</td>\n",
       "      <td>-10.414196</td>\n",
       "    </tr>\n",
       "    <tr>\n",
       "      <th>232</th>\n",
       "      <td>ashburi01</td>\n",
       "      <td>5276.0</td>\n",
       "      <td>Y</td>\n",
       "      <td>-10.337985</td>\n",
       "    </tr>\n",
       "  </tbody>\n",
       "</table>\n",
       "</div>"
      ],
      "text/plain": [
       "       playerID  servingDays inducted    loglike\n",
       "7850  yastrca01       8209.0        Y -13.863560\n",
       "0     aaronha01       8209.0        Y -13.805197\n",
       "3061  henderi01       8853.0        Y -12.694377\n",
       "5050  murraed02       7471.0        Y -12.460039\n",
       "6006  ripkeca01       7362.0        Y -12.359807\n",
       "4558   mayswi01       8143.0        Y -12.324683\n",
       "7763  winfida01       8139.0        Y -12.252195\n",
       "6061  robinbr01       8001.0        Y -11.981390\n",
       "7885  yountro01       7121.0        Y -11.855056\n",
       "588   biggicr01       7035.0        Y -11.836937\n",
       "3641  kalinal01       7769.0        Y -11.789665\n",
       "3424  jacksre01       7422.0        Y -11.749539\n",
       "6069  robinfr02       7459.0        Y -11.716052\n",
       "5543  perezto01       8106.0        Y -11.633343\n",
       "825   brettge01       7367.0        Y -11.465605\n",
       "4888  molitpa01       7478.0        Y -11.413629\n",
       "2759  griffke02       7728.0        Y -11.388585\n",
       "4962  morgajo02       7680.0        Y -11.344169\n",
       "1741  dawsoan01       7323.0        Y -11.301490\n",
       "863   brocklo01       6594.0        Y -11.280720\n",
       "196   aparilu01       6373.0        Y -11.252925\n",
       "4595  mccovwi01       7647.0        Y -11.229257\n",
       "6719  smithoz01       6750.0        Y -11.202337\n",
       "6102  rodriiv01       7405.0        Y -11.149301\n",
       "7138  thomeji01       7700.0        Y -11.149301\n",
       "347   bankser01       6583.0        Y -11.122935\n",
       "5795  raineti01       8419.0        Y -11.076981\n",
       "3573  jonesch06       6962.0        Y -11.071633\n",
       "2251   fiskca01       8678.0        Y -11.071633\n",
       "7674  willibi01       6267.0        Y -11.051897\n",
       "1149  carewro01       6752.0        Y -11.017225\n",
       "2827  gwynnto01       7020.0        Y -10.962347\n",
       "673   boggswa01       6348.0        Y -10.962347\n",
       "3736  killeha01       7765.0        Y -10.952592\n",
       "1373  clemero01       6379.0        Y -10.948663\n",
       "6419  schmimi01       6102.0        Y -10.889797\n",
       "4402  mantlmi01       6374.0        Y -10.883491\n",
       "4503  matheed01       6009.0        Y -10.862158\n",
       "115   alomaro01       5980.0        Y -10.835904\n",
       "2331    foxne01       6622.0        Y -10.808916\n",
       "6850  stargwi01       7322.0        Y -10.792828\n",
       "7128  thomafr04       6602.0        Y -10.701091\n",
       "1184  cartega01       6586.0        Y -10.634271\n",
       "7240  trammal01       6960.0        Y -10.626370\n",
       "6352  santoro01       5208.0        Y -10.490108\n",
       "6425  schoere01       6655.0        Y -10.414196\n",
       "232   ashburi01       5276.0        Y -10.337985"
      ]
     },
     "execution_count": 7,
     "metadata": {},
     "output_type": "execute_result"
    }
   ],
   "source": [
    "X = players[['G']]\n",
    "y = players[['inducted']]\n",
    "\n",
    "lowest_bic = np.infty\n",
    "bic = []\n",
    "n_components_range = range(1, 10)\n",
    "for n_components in n_components_range:\n",
    "    # Fit a Gaussian mixture with EM\n",
    "    gmm = mixture.GaussianMixture(n_components=n_components,\n",
    "                                  covariance_type='full', random_state = 2018)\n",
    "    gmm.fit(X)\n",
    "    bic.append(gmm.bic(X))\n",
    "    if bic[-1] < lowest_bic:\n",
    "        lowest_bic = bic[-1]\n",
    "        best_gmm = gmm\n",
    "\n",
    "loglike=best_gmm.score_samples(X)\n",
    "players_pre = players[['playerID','servingDays','inducted']]\n",
    "players_pre.loc[:,'loglike']=loglike\n",
    "\n",
    "player10 = players_pre[players_pre['servingDays']>2000].sort_values(['loglike'],ascending=True).iloc[:100,:]\n",
    "num = (player10[player10['inducted']=='Y'].shape[0])\n",
    "print(num)\n",
    "player10[player10['inducted']=='Y']\n"
   ]
  },
  {
   "cell_type": "code",
   "execution_count": 15,
   "metadata": {
    "collapsed": true
   },
   "outputs": [],
   "source": [
    "player10['predict'] = 'Y'"
   ]
  },
  {
   "cell_type": "code",
   "execution_count": 19,
   "metadata": {
    "collapsed": true,
    "scrolled": true
   },
   "outputs": [],
   "source": [
    "t = player10[player10['inducted']=='Y']\n",
    "t1 = t.merge(players[['playerID','POS']],on='playerID',how='right')"
   ]
  },
  {
   "cell_type": "code",
   "execution_count": 22,
   "metadata": {},
   "outputs": [
    {
     "data": {
      "text/plain": [
       "(47, 5)"
      ]
     },
     "execution_count": 22,
     "metadata": {},
     "output_type": "execute_result"
    }
   ],
   "source": [
    "t.shape"
   ]
  },
  {
   "cell_type": "code",
   "execution_count": 23,
   "metadata": {},
   "outputs": [
    {
     "data": {
      "text/plain": [
       "(7927, 6)"
      ]
     },
     "execution_count": 23,
     "metadata": {},
     "output_type": "execute_result"
    }
   ],
   "source": [
    "t1.shape"
   ]
  },
  {
   "cell_type": "code",
   "execution_count": 24,
   "metadata": {},
   "outputs": [
    {
     "data": {
      "text/plain": [
       "(7927, 18)"
      ]
     },
     "execution_count": 24,
     "metadata": {},
     "output_type": "execute_result"
    }
   ],
   "source": [
    "players.shape"
   ]
  },
  {
   "cell_type": "code",
   "execution_count": 26,
   "metadata": {
    "collapsed": true
   },
   "outputs": [],
   "source": [
    "players_pre = players.merge(player10[['playerID','predict']],on='playerID',how='left')\n",
    "players_pre['predict'].fillna('N',inplace=True)"
   ]
  },
  {
   "cell_type": "code",
   "execution_count": 29,
   "metadata": {},
   "outputs": [
    {
     "data": {
      "text/plain": [
       "OF    34\n",
       "P     31\n",
       "1B    12\n",
       "2B     8\n",
       "3B     6\n",
       "SS     6\n",
       "C      6\n",
       "Name: POS, dtype: int64"
      ]
     },
     "execution_count": 29,
     "metadata": {},
     "output_type": "execute_result"
    }
   ],
   "source": [
    "players_pre[players_pre['predict']!=players_pre['inducted']].POS.value_counts()"
   ]
  },
  {
   "cell_type": "code",
   "execution_count": 30,
   "metadata": {
    "collapsed": true
   },
   "outputs": [],
   "source": [
    "players_OF = players_pre[players_pre['POS']=='OF']"
   ]
  },
  {
   "cell_type": "code",
   "execution_count": 31,
   "metadata": {},
   "outputs": [
    {
     "data": {
      "text/plain": [
       "array([[1651,   26],\n",
       "       [   8,   17]])"
      ]
     },
     "execution_count": 31,
     "metadata": {},
     "output_type": "execute_result"
    }
   ],
   "source": [
    "from sklearn.metrics import confusion_matrix\n",
    "confusion_matrix(players_OF['inducted'], players_OF['predict'])"
   ]
  },
  {
   "cell_type": "code",
   "execution_count": 33,
   "metadata": {},
   "outputs": [
    {
     "data": {
      "text/plain": [
       "array([[7777,   53],\n",
       "       [  50,   47]])"
      ]
     },
     "execution_count": 33,
     "metadata": {},
     "output_type": "execute_result"
    }
   ],
   "source": [
    "confusion_matrix(players_pre['inducted'], players_pre['predict'])"
   ]
  },
  {
   "cell_type": "code",
   "execution_count": 20,
   "metadata": {
    "scrolled": true
   },
   "outputs": [
    {
     "data": {
      "text/plain": [
       "P     3334\n",
       "OF    1702\n",
       "C      785\n",
       "1B     620\n",
       "SS     543\n",
       "2B     497\n",
       "3B     446\n",
       "Name: POS, dtype: int64"
      ]
     },
     "execution_count": 20,
     "metadata": {},
     "output_type": "execute_result"
    }
   ],
   "source": [
    "t1.POS.value_counts()"
   ]
  },
  {
   "cell_type": "code",
   "execution_count": 12,
   "metadata": {},
   "outputs": [
    {
     "data": {
      "text/plain": [
       "P     31\n",
       "OF    25\n",
       "1B    10\n",
       "3B     9\n",
       "2B     9\n",
       "C      7\n",
       "SS     6\n",
       "Name: POS, dtype: int64"
      ]
     },
     "execution_count": 12,
     "metadata": {},
     "output_type": "execute_result"
    }
   ],
   "source": [
    "players_Y = players[players['inducted']=='Y']\n",
    "players_Y.POS.value_counts()"
   ]
  },
  {
   "cell_type": "code",
   "execution_count": null,
   "metadata": {
    "collapsed": true
   },
   "outputs": [],
   "source": []
  }
 ],
 "metadata": {
  "kernelspec": {
   "display_name": "Python 3",
   "language": "python",
   "name": "python3"
  },
  "language_info": {
   "codemirror_mode": {
    "name": "ipython",
    "version": 3
   },
   "file_extension": ".py",
   "mimetype": "text/x-python",
   "name": "python",
   "nbconvert_exporter": "python",
   "pygments_lexer": "ipython3",
   "version": "3.6.2"
  }
 },
 "nbformat": 4,
 "nbformat_minor": 2
}
