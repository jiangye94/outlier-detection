{
 "cells": [
  {
   "cell_type": "code",
   "execution_count": 1,
   "metadata": {
    "collapsed": true
   },
   "outputs": [],
   "source": [
    "import pandas as pd\n",
    "import numpy as np\n",
    "\n",
    "from sklearn.naive_bayes import GaussianNB\n",
    "import matplotlib.pyplot as plt\n",
    "%matplotlib inline\n",
    "import seaborn as sns\n",
    "\n",
    "import itertools"
   ]
  },
  {
   "cell_type": "code",
   "execution_count": 2,
   "metadata": {},
   "outputs": [
    {
     "data": {
      "text/html": [
       "<div>\n",
       "<style scoped>\n",
       "    .dataframe tbody tr th:only-of-type {\n",
       "        vertical-align: middle;\n",
       "    }\n",
       "\n",
       "    .dataframe tbody tr th {\n",
       "        vertical-align: top;\n",
       "    }\n",
       "\n",
       "    .dataframe thead th {\n",
       "        text-align: right;\n",
       "    }\n",
       "</style>\n",
       "<table border=\"1\" class=\"dataframe\">\n",
       "  <thead>\n",
       "    <tr style=\"text-align: right;\">\n",
       "      <th></th>\n",
       "      <th>playerID</th>\n",
       "      <th>FPCT</th>\n",
       "      <th>POS</th>\n",
       "      <th>G</th>\n",
       "      <th>SH</th>\n",
       "      <th>OBP</th>\n",
       "      <th>AB/G</th>\n",
       "      <th>HR/G</th>\n",
       "      <th>SB/G</th>\n",
       "      <th>RBI/G</th>\n",
       "      <th>IBB/G</th>\n",
       "      <th>SF/G</th>\n",
       "      <th>debut</th>\n",
       "      <th>finalGame</th>\n",
       "      <th>weight</th>\n",
       "      <th>servingDays</th>\n",
       "      <th>debutAge</th>\n",
       "      <th>inducted</th>\n",
       "    </tr>\n",
       "  </thead>\n",
       "  <tbody>\n",
       "    <tr>\n",
       "      <th>0</th>\n",
       "      <td>aaronha01</td>\n",
       "      <td>0.979124</td>\n",
       "      <td>OF</td>\n",
       "      <td>3298</td>\n",
       "      <td>21.0</td>\n",
       "      <td>0.373949</td>\n",
       "      <td>3.748939</td>\n",
       "      <td>0.228927</td>\n",
       "      <td>0.072771</td>\n",
       "      <td>0.696483</td>\n",
       "      <td>0.088842</td>\n",
       "      <td>0.036689</td>\n",
       "      <td>1954-04-13</td>\n",
       "      <td>1976-10-03</td>\n",
       "      <td>180.0</td>\n",
       "      <td>8209.0</td>\n",
       "      <td>20.293151</td>\n",
       "      <td>Y</td>\n",
       "    </tr>\n",
       "    <tr>\n",
       "      <th>1</th>\n",
       "      <td>aaronto01</td>\n",
       "      <td>0.982705</td>\n",
       "      <td>1B</td>\n",
       "      <td>437</td>\n",
       "      <td>9.0</td>\n",
       "      <td>0.291506</td>\n",
       "      <td>2.160183</td>\n",
       "      <td>0.029748</td>\n",
       "      <td>0.020595</td>\n",
       "      <td>0.215103</td>\n",
       "      <td>0.006865</td>\n",
       "      <td>0.013730</td>\n",
       "      <td>1962-04-10</td>\n",
       "      <td>1971-09-26</td>\n",
       "      <td>190.0</td>\n",
       "      <td>3456.0</td>\n",
       "      <td>23.287671</td>\n",
       "      <td>N</td>\n",
       "    </tr>\n",
       "    <tr>\n",
       "      <th>2</th>\n",
       "      <td>aasedo01</td>\n",
       "      <td>0.955399</td>\n",
       "      <td>P</td>\n",
       "      <td>448</td>\n",
       "      <td>0.0</td>\n",
       "      <td>0.000000</td>\n",
       "      <td>0.011161</td>\n",
       "      <td>0.000000</td>\n",
       "      <td>0.000000</td>\n",
       "      <td>0.000000</td>\n",
       "      <td>0.000000</td>\n",
       "      <td>0.000000</td>\n",
       "      <td>1977-07-26</td>\n",
       "      <td>1990-10-03</td>\n",
       "      <td>190.0</td>\n",
       "      <td>4817.0</td>\n",
       "      <td>23.580822</td>\n",
       "      <td>N</td>\n",
       "    </tr>\n",
       "    <tr>\n",
       "      <th>3</th>\n",
       "      <td>abadan01</td>\n",
       "      <td>0.986486</td>\n",
       "      <td>1B</td>\n",
       "      <td>15</td>\n",
       "      <td>0.0</td>\n",
       "      <td>0.240000</td>\n",
       "      <td>1.400000</td>\n",
       "      <td>0.000000</td>\n",
       "      <td>0.000000</td>\n",
       "      <td>0.000000</td>\n",
       "      <td>0.000000</td>\n",
       "      <td>0.000000</td>\n",
       "      <td>2001-09-10</td>\n",
       "      <td>2006-04-13</td>\n",
       "      <td>184.0</td>\n",
       "      <td>1676.0</td>\n",
       "      <td>29.712329</td>\n",
       "      <td>N</td>\n",
       "    </tr>\n",
       "    <tr>\n",
       "      <th>4</th>\n",
       "      <td>abbotje01</td>\n",
       "      <td>0.975208</td>\n",
       "      <td>OF</td>\n",
       "      <td>233</td>\n",
       "      <td>5.0</td>\n",
       "      <td>0.307453</td>\n",
       "      <td>2.557940</td>\n",
       "      <td>0.077253</td>\n",
       "      <td>0.025751</td>\n",
       "      <td>0.356223</td>\n",
       "      <td>0.008584</td>\n",
       "      <td>0.030043</td>\n",
       "      <td>1997-06-10</td>\n",
       "      <td>2001-09-29</td>\n",
       "      <td>190.0</td>\n",
       "      <td>1572.0</td>\n",
       "      <td>25.457534</td>\n",
       "      <td>N</td>\n",
       "    </tr>\n",
       "  </tbody>\n",
       "</table>\n",
       "</div>"
      ],
      "text/plain": [
       "    playerID      FPCT POS     G    SH       OBP      AB/G      HR/G  \\\n",
       "0  aaronha01  0.979124  OF  3298  21.0  0.373949  3.748939  0.228927   \n",
       "1  aaronto01  0.982705  1B   437   9.0  0.291506  2.160183  0.029748   \n",
       "2   aasedo01  0.955399   P   448   0.0  0.000000  0.011161  0.000000   \n",
       "3   abadan01  0.986486  1B    15   0.0  0.240000  1.400000  0.000000   \n",
       "4  abbotje01  0.975208  OF   233   5.0  0.307453  2.557940  0.077253   \n",
       "\n",
       "       SB/G     RBI/G     IBB/G      SF/G      debut  finalGame  weight  \\\n",
       "0  0.072771  0.696483  0.088842  0.036689 1954-04-13 1976-10-03   180.0   \n",
       "1  0.020595  0.215103  0.006865  0.013730 1962-04-10 1971-09-26   190.0   \n",
       "2  0.000000  0.000000  0.000000  0.000000 1977-07-26 1990-10-03   190.0   \n",
       "3  0.000000  0.000000  0.000000  0.000000 2001-09-10 2006-04-13   184.0   \n",
       "4  0.025751  0.356223  0.008584  0.030043 1997-06-10 2001-09-29   190.0   \n",
       "\n",
       "   servingDays   debutAge inducted  \n",
       "0       8209.0  20.293151        Y  \n",
       "1       3456.0  23.287671        N  \n",
       "2       4817.0  23.580822        N  \n",
       "3       1676.0  29.712329        N  \n",
       "4       1572.0  25.457534        N  "
      ]
     },
     "execution_count": 2,
     "metadata": {},
     "output_type": "execute_result"
    }
   ],
   "source": [
    "players = pd.read_csv('merged_players42-12.csv',index_col=0,parse_dates=['debut','finalGame'])\n",
    "players.head()"
   ]
  },
  {
   "cell_type": "code",
   "execution_count": 3,
   "metadata": {},
   "outputs": [
    {
     "data": {
      "text/plain": [
       "(7927, 18)"
      ]
     },
     "execution_count": 3,
     "metadata": {},
     "output_type": "execute_result"
    }
   ],
   "source": [
    "players.shape"
   ]
  },
  {
   "cell_type": "code",
   "execution_count": 4,
   "metadata": {},
   "outputs": [
    {
     "data": {
      "text/plain": [
       "Index(['playerID', 'FPCT', 'POS', 'G', 'SH', 'OBP', 'AB/G', 'HR/G', 'SB/G',\n",
       "       'RBI/G', 'IBB/G', 'SF/G', 'debut', 'finalGame', 'weight', 'servingDays',\n",
       "       'debutAge', 'inducted'],\n",
       "      dtype='object')"
      ]
     },
     "execution_count": 4,
     "metadata": {},
     "output_type": "execute_result"
    }
   ],
   "source": [
    "players.columns"
   ]
  },
  {
   "cell_type": "markdown",
   "metadata": {},
   "source": [
    "servingDays are just used for filter samples when check outliers."
   ]
  },
  {
   "cell_type": "code",
   "execution_count": 5,
   "metadata": {
    "collapsed": true
   },
   "outputs": [],
   "source": [
    "players = players[players['finalGame'].apply(lambda x: x.year<=1960)]"
   ]
  },
  {
   "cell_type": "code",
   "execution_count": 6,
   "metadata": {},
   "outputs": [
    {
     "data": {
      "image/png": "[encoded data removed]",
      "text/plain": [
       "<matplotlib.figure.Figure at 0x10cd83c50>"
      ]
     },
     "metadata": {},
     "output_type": "display_data"
    }
   ],
   "source": [
    "players.hist(bins=30)\n",
    "plt.show()"
   ]
  },
  {
   "cell_type": "code",
   "execution_count": 20,
   "metadata": {},
   "outputs": [
    {
     "name": "stderr",
     "output_type": "stream",
     "text": [
      "/anaconda3/lib/python3.6/site-packages/sklearn/utils/validation.py:578: DataConversionWarning: A column-vector y was passed when a 1d array was expected. Please change the shape of y to (n_samples, ), for example using ravel().\n",
      "  y = column_or_1d(y, warn=True)\n",
      "/anaconda3/lib/python3.6/site-packages/pandas/core/indexing.py:362: SettingWithCopyWarning: \n",
      "A value is trying to be set on a copy of a slice from a DataFrame.\n",
      "Try using .loc[row_indexer,col_indexer] = value instead\n",
      "\n",
      "See the caveats in the documentation: http://pandas.pydata.org/pandas-docs/stable/indexing.html#indexing-view-versus-copy\n",
      "  self.obj[key] = _infer_fill_value(value)\n",
      "/anaconda3/lib/python3.6/site-packages/pandas/core/indexing.py:543: SettingWithCopyWarning: \n",
      "A value is trying to be set on a copy of a slice from a DataFrame.\n",
      "Try using .loc[row_indexer,col_indexer] = value instead\n",
      "\n",
      "See the caveats in the documentation: http://pandas.pydata.org/pandas-docs/stable/indexing.html#indexing-view-versus-copy\n",
      "  self.obj[item] = s\n"
     ]
    },
    {
     "name": "stdout",
     "output_type": "stream",
     "text": [
      "3\n",
      "3\n",
      "3\n",
      "0\n",
      "1\n",
      "1\n",
      "4\n",
      "4\n",
      "3\n",
      "3\n",
      "3\n",
      "4\n"
     ]
    },
    {
     "data": {
      "text/plain": [
       "[[3, ['G']],\n",
       " [3, ['G', 'POS']],\n",
       " [3, ['OBP']],\n",
       " [0, ['FPCT']],\n",
       " [1, ['FPCT', 'POS']],\n",
       " [1, ['OBP', 'FPCT', 'POS']],\n",
       " [4, ['G', 'OBP']],\n",
       " [4, ['G', 'OBP', 'FPCT']],\n",
       " [3, ['G', 'OBP', 'FPCT', 'POS']],\n",
       " [3, ['G', 'FPCT']],\n",
       " [3, ['G', 'FPCT', 'POS']],\n",
       " [4,\n",
       "  ['FPCT',\n",
       "   'POS',\n",
       "   'G',\n",
       "   'SH',\n",
       "   'OBP',\n",
       "   'AB/G',\n",
       "   'HR/G',\n",
       "   'SB/G',\n",
       "   'RBI/G',\n",
       "   'IBB/G',\n",
       "   'SF/G',\n",
       "   'weight',\n",
       "   'debutAge']]]"
      ]
     },
     "execution_count": 20,
     "metadata": {},
     "output_type": "execute_result"
    }
   ],
   "source": [
    "features = [['G'],\n",
    "            ['G','POS'],\n",
    "            ['OBP'],\n",
    "            ['FPCT'],\n",
    "            ['FPCT','POS'],\n",
    "            ['OBP','FPCT','POS'],\n",
    "            ['G','OBP'],\n",
    "            ['G','OBP','FPCT'],\n",
    "            ['G','OBP','FPCT','POS'],\n",
    "            ['G','FPCT'],\n",
    "            ['G','FPCT','POS'],\n",
    "            ['FPCT', 'POS', 'G', 'SH', 'OBP', 'AB/G', 'HR/G', 'SB/G',\n",
    "       'RBI/G', 'IBB/G', 'SF/G', 'weight', 'debutAge']]\n",
    "\n",
    "num_list = []\n",
    "for feature in features:\n",
    "    X = players[feature]\n",
    "    if ('POS' in feature):\n",
    "        X = pd.get_dummies(X, columns = ['POS'] )\n",
    "    y = players[['inducted']]\n",
    "    \n",
    "    clf = GaussianNB()\n",
    "    clf.fit(X,y)\n",
    "    \n",
    "    outlier_scores = clf.predict_proba(X)[:,1]\n",
    "    players_pre = players[['playerID','servingDays','inducted']]\n",
    "    players_pre.loc[:,'outlier_score']=outlier_scores\n",
    "\n",
    "    player10 = players_pre[players_pre['servingDays']>2000].sort_values(['outlier_score'],ascending=False).iloc[:10,:]\n",
    "\n",
    "    num = (player10[player10['inducted']=='Y'].shape[0])\n",
    "    num_list.append([num,feature])\n",
    "    print(num)\n",
    "\n",
    "num_list"
   ]
  },
  {
   "cell_type": "code",
   "execution_count": 7,
   "metadata": {
    "collapsed": true
   },
   "outputs": [],
   "source": [
    "feature0 = ['G']\n",
    "feature1 = ['G','OBP']\n",
    "feature2 = ['G','OBP','FPCT']\n",
    "feature3 = ['G','OBP','FPCT','POS']\n",
    "feature5 = ['G','FPCT']\n",
    "feature6 = ['G','FPCT','POS']\n",
    "\n",
    "feature4 = ['FPCT', 'POS', 'G', 'SH', 'OBP', 'AB/G', 'HR/G', 'SB/G',\n",
    "       'RBI/G', 'IBB/G', 'SF/G', 'weight', 'debutAge']"
   ]
  },
  {
   "cell_type": "code",
   "execution_count": 8,
   "metadata": {
    "collapsed": true
   },
   "outputs": [],
   "source": [
    "features = [['G'],\n",
    "            ['G','OBP'],\n",
    "            ['G','OBP','FPCT'],\n",
    "            ['G','OBP','FPCT','POS'],\n",
    "            ['G','FPCT'],\n",
    "            ['G','FPCT','POS'],\n",
    "            ['FPCT', 'POS', 'G', 'SH', 'OBP', 'AB/G', 'HR/G', 'SB/G',\n",
    "       'RBI/G', 'IBB/G', 'SF/G', 'weight', 'debutAge']]"
   ]
  },
  {
   "cell_type": "code",
   "execution_count": 9,
   "metadata": {
    "collapsed": true
   },
   "outputs": [],
   "source": [
    "from sklearn.model_selection import KFold"
   ]
  },
  {
   "cell_type": "code",
   "execution_count": 10,
   "metadata": {},
   "outputs": [
    {
     "name": "stderr",
     "output_type": "stream",
     "text": [
      "/anaconda3/lib/python3.6/site-packages/sklearn/utils/validation.py:578: DataConversionWarning: A column-vector y was passed when a 1d array was expected. Please change the shape of y to (n_samples, ), for example using ravel().\n",
      "  y = column_or_1d(y, warn=True)\n",
      "/anaconda3/lib/python3.6/site-packages/pandas/core/indexing.py:362: SettingWithCopyWarning: \n",
      "A value is trying to be set on a copy of a slice from a DataFrame.\n",
      "Try using .loc[row_indexer,col_indexer] = value instead\n",
      "\n",
      "See the caveats in the documentation: http://pandas.pydata.org/pandas-docs/stable/indexing.html#indexing-view-versus-copy\n",
      "  self.obj[key] = _infer_fill_value(value)\n",
      "/anaconda3/lib/python3.6/site-packages/pandas/core/indexing.py:543: SettingWithCopyWarning: \n",
      "A value is trying to be set on a copy of a slice from a DataFrame.\n",
      "Try using .loc[row_indexer,col_indexer] = value instead\n",
      "\n",
      "See the caveats in the documentation: http://pandas.pydata.org/pandas-docs/stable/indexing.html#indexing-view-versus-copy\n",
      "  self.obj[item] = s\n"
     ]
    },
    {
     "name": "stdout",
     "output_type": "stream",
     "text": [
      "6\n",
      "6\n",
      "6\n",
      "3\n",
      "6\n",
      "3\n",
      "4\n"
     ]
    }
   ],
   "source": [
    "players_new = players[['playerID','servingDays','inducted']]\n",
    "\n",
    "for feature in features:\n",
    "    X = players[feature]\n",
    "    if ('POS' in feature):\n",
    "        X = pd.get_dummies(X, columns = ['POS'] )\n",
    "    y = players[['inducted']]\n",
    "    \n",
    "    kf = KFold(n_splits=5)\n",
    "    num = 0\n",
    "    for train, test in kf.split(X):\n",
    "        model = GaussianNB()\n",
    "        model.fit(X.iloc[train], y.iloc[train])\n",
    "        outlier_prob = model.predict_proba(X.iloc[test])[:,1]\n",
    "\n",
    "        players_pre = players_new.iloc[test]\n",
    "        players_pre.loc[:,'outlier_prob'] = outlier_prob # Larger, outliers.\n",
    "        player10 = players_pre[players_pre['servingDays']>2000].sort_values(['outlier_prob'],ascending=False).iloc[:20,:]\n",
    "        num += (player10[player10['inducted']=='Y'].shape[0])\n",
    "    print(num)"
   ]
  },
  {
   "cell_type": "code",
   "execution_count": 11,
   "metadata": {},
   "outputs": [
    {
     "data": {
      "text/plain": [
       "N    1342\n",
       "Y       7\n",
       "Name: inducted, dtype: int64"
      ]
     },
     "execution_count": 11,
     "metadata": {},
     "output_type": "execute_result"
    }
   ],
   "source": [
    "players.inducted.value_counts()"
   ]
  },
  {
   "cell_type": "code",
   "execution_count": 15,
   "metadata": {},
   "outputs": [
    {
     "name": "stderr",
     "output_type": "stream",
     "text": [
      "/anaconda3/lib/python3.6/site-packages/sklearn/utils/validation.py:578: DataConversionWarning: A column-vector y was passed when a 1d array was expected. Please change the shape of y to (n_samples, ), for example using ravel().\n",
      "  y = column_or_1d(y, warn=True)\n",
      "/anaconda3/lib/python3.6/site-packages/pandas/core/indexing.py:362: SettingWithCopyWarning: \n",
      "A value is trying to be set on a copy of a slice from a DataFrame.\n",
      "Try using .loc[row_indexer,col_indexer] = value instead\n",
      "\n",
      "See the caveats in the documentation: http://pandas.pydata.org/pandas-docs/stable/indexing.html#indexing-view-versus-copy\n",
      "  self.obj[key] = _infer_fill_value(value)\n",
      "/anaconda3/lib/python3.6/site-packages/pandas/core/indexing.py:543: SettingWithCopyWarning: \n",
      "A value is trying to be set on a copy of a slice from a DataFrame.\n",
      "Try using .loc[row_indexer,col_indexer] = value instead\n",
      "\n",
      "See the caveats in the documentation: http://pandas.pydata.org/pandas-docs/stable/indexing.html#indexing-view-versus-copy\n",
      "  self.obj[item] = s\n"
     ]
    },
    {
     "name": "stdout",
     "output_type": "stream",
     "text": [
      "2\n",
      "1\n",
      "0\n",
      "2\n",
      "2\n",
      "0\n",
      "2\n",
      "0\n",
      "0\n"
     ]
    },
    {
     "data": {
      "text/plain": [
       "[2, 1, 0, 2, 2, 0, 2, 0, 0]"
      ]
     },
     "execution_count": 15,
     "metadata": {},
     "output_type": "execute_result"
    }
   ],
   "source": [
    "from sklearn.model_selection import KFold\n",
    "from imblearn.over_sampling import SMOTE\n",
    "\n",
    "features = [['G'],\n",
    "            ['OBP'],\n",
    "            ['FPCT'],\n",
    "            ['G','OBP'],\n",
    "            ['G','OBP','FPCT'],\n",
    "            ['G','OBP','FPCT','POS'],\n",
    "            ['G','FPCT'],\n",
    "            ['G','FPCT','POS'],\n",
    "            ['FPCT', 'POS', 'G', 'SH', 'OBP', 'AB/G', 'HR/G', 'SB/G',\n",
    "       'RBI/G', 'IBB/G', 'SF/G', 'weight', 'debutAge']]\n",
    "\n",
    "players_new = players[['playerID','servingDays','inducted']]\n",
    "num_list = []\n",
    "for feature in features:\n",
    "    X = players[feature]\n",
    "    if ('POS' in feature):\n",
    "        X = pd.get_dummies(X, columns = ['POS'] )\n",
    "    y = players[['inducted']]\n",
    "    \n",
    "    kf = KFold(n_splits=5)\n",
    "    num = 0\n",
    "    for train, test in kf.split(X):\n",
    "        model = GaussianNB()        \n",
    "#         sm = SMOTE(random_state=42)\n",
    "#         X_res, y_res = sm.fit_sample(X.iloc[train,:], y.iloc[train,:])\n",
    "#         X_res = pd.DataFrame(X_res)\n",
    "#         y_res = pd.DataFrame(y_res)\n",
    "#         X_res.columns = X.columns\n",
    "#         y_res.columns = y.columns\n",
    "#         print(X_res)\n",
    "#         model.fit(X_res, y_res)\n",
    "        model.fit(X.iloc[train,:], y.iloc[train,:])\n",
    "#         X.iloc[test,:]\n",
    "        outlier_prob = model.predict_proba(X.iloc[test,:])[:,1]\n",
    "\n",
    "        players_pre = players_new.iloc[test,:]\n",
    "        players_pre.loc[:,'outlier_prob'] = outlier_prob # Larger, outliers.\n",
    "        player10 = players_pre[players_pre['servingDays']>2000].sort_values(['outlier_prob'],ascending=False).iloc[:2,:]\n",
    "        num += (player10[player10['inducted']=='Y'].shape[0])\n",
    "    num_list.append(num)\n",
    "    print(num)\n",
    "\n",
    "num_list"
   ]
  },
  {
   "cell_type": "code",
   "execution_count": 14,
   "metadata": {},
   "outputs": [
    {
     "data": {
      "text/plain": [
       "[6, 6, 2, 6, 6, 3, 6, 3, 4]"
      ]
     },
     "execution_count": 14,
     "metadata": {},
     "output_type": "execute_result"
    }
   ],
   "source": [
    "num_list"
   ]
  },
  {
   "cell_type": "code",
   "execution_count": null,
   "metadata": {
    "collapsed": true
   },
   "outputs": [],
   "source": []
  }
 ],
 "metadata": {
  "kernelspec": {
   "display_name": "Python 3",
   "language": "python",
   "name": "python3"
  },
  "language_info": {
   "codemirror_mode": {
    "name": "ipython",
    "version": 3
   },
   "file_extension": ".py",
   "mimetype": "text/x-python",
   "name": "python",
   "nbconvert_exporter": "python",
   "pygments_lexer": "ipython3",
   "version": "3.6.2"
  }
 },
 "nbformat": 4,
 "nbformat_minor": 2
}
