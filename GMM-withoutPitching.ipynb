{
 "cells": [
  {
   "cell_type": "code",
   "execution_count": 1,
   "metadata": {
    "collapsed": true
   },
   "outputs": [],
   "source": [
    "import pandas as pd\n",
    "import numpy as np\n",
    "\n",
    "from sklearn import mixture\n",
    "import matplotlib.pyplot as plt\n",
    "%matplotlib inline\n",
    "import seaborn as sns\n",
    "\n",
    "import itertools"
   ]
  },
  {
   "cell_type": "code",
   "execution_count": 2,
   "metadata": {},
   "outputs": [
    {
     "data": {
      "text/html": [
       "<div>\n",
       "<style scoped>\n",
       "    .dataframe tbody tr th:only-of-type {\n",
       "        vertical-align: middle;\n",
       "    }\n",
       "\n",
       "    .dataframe tbody tr th {\n",
       "        vertical-align: top;\n",
       "    }\n",
       "\n",
       "    .dataframe thead th {\n",
       "        text-align: right;\n",
       "    }\n",
       "</style>\n",
       "<table border=\"1\" class=\"dataframe\">\n",
       "  <thead>\n",
       "    <tr style=\"text-align: right;\">\n",
       "      <th></th>\n",
       "      <th>playerID</th>\n",
       "      <th>FPCT</th>\n",
       "      <th>POS</th>\n",
       "      <th>G</th>\n",
       "      <th>SH</th>\n",
       "      <th>OBP</th>\n",
       "      <th>AB/G</th>\n",
       "      <th>HR/G</th>\n",
       "      <th>SB/G</th>\n",
       "      <th>RBI/G</th>\n",
       "      <th>IBB/G</th>\n",
       "      <th>SF/G</th>\n",
       "      <th>debut</th>\n",
       "      <th>finalGame</th>\n",
       "      <th>weight</th>\n",
       "      <th>servingDays</th>\n",
       "      <th>debutAge</th>\n",
       "      <th>inducted</th>\n",
       "    </tr>\n",
       "  </thead>\n",
       "  <tbody>\n",
       "    <tr>\n",
       "      <th>0</th>\n",
       "      <td>aaronha01</td>\n",
       "      <td>0.979124</td>\n",
       "      <td>OF</td>\n",
       "      <td>3298</td>\n",
       "      <td>21.0</td>\n",
       "      <td>0.373949</td>\n",
       "      <td>3.748939</td>\n",
       "      <td>0.228927</td>\n",
       "      <td>0.072771</td>\n",
       "      <td>0.696483</td>\n",
       "      <td>0.088842</td>\n",
       "      <td>0.036689</td>\n",
       "      <td>1954-04-13</td>\n",
       "      <td>1976-10-03</td>\n",
       "      <td>180.0</td>\n",
       "      <td>8209.0</td>\n",
       "      <td>20.293151</td>\n",
       "      <td>Y</td>\n",
       "    </tr>\n",
       "    <tr>\n",
       "      <th>1</th>\n",
       "      <td>aaronto01</td>\n",
       "      <td>0.982705</td>\n",
       "      <td>1B</td>\n",
       "      <td>437</td>\n",
       "      <td>9.0</td>\n",
       "      <td>0.291506</td>\n",
       "      <td>2.160183</td>\n",
       "      <td>0.029748</td>\n",
       "      <td>0.020595</td>\n",
       "      <td>0.215103</td>\n",
       "      <td>0.006865</td>\n",
       "      <td>0.013730</td>\n",
       "      <td>1962-04-10</td>\n",
       "      <td>1971-09-26</td>\n",
       "      <td>190.0</td>\n",
       "      <td>3456.0</td>\n",
       "      <td>23.287671</td>\n",
       "      <td>N</td>\n",
       "    </tr>\n",
       "    <tr>\n",
       "      <th>2</th>\n",
       "      <td>aasedo01</td>\n",
       "      <td>0.955399</td>\n",
       "      <td>P</td>\n",
       "      <td>448</td>\n",
       "      <td>0.0</td>\n",
       "      <td>0.000000</td>\n",
       "      <td>0.011161</td>\n",
       "      <td>0.000000</td>\n",
       "      <td>0.000000</td>\n",
       "      <td>0.000000</td>\n",
       "      <td>0.000000</td>\n",
       "      <td>0.000000</td>\n",
       "      <td>1977-07-26</td>\n",
       "      <td>1990-10-03</td>\n",
       "      <td>190.0</td>\n",
       "      <td>4817.0</td>\n",
       "      <td>23.580822</td>\n",
       "      <td>N</td>\n",
       "    </tr>\n",
       "    <tr>\n",
       "      <th>3</th>\n",
       "      <td>abadan01</td>\n",
       "      <td>0.986486</td>\n",
       "      <td>1B</td>\n",
       "      <td>15</td>\n",
       "      <td>0.0</td>\n",
       "      <td>0.240000</td>\n",
       "      <td>1.400000</td>\n",
       "      <td>0.000000</td>\n",
       "      <td>0.000000</td>\n",
       "      <td>0.000000</td>\n",
       "      <td>0.000000</td>\n",
       "      <td>0.000000</td>\n",
       "      <td>2001-09-10</td>\n",
       "      <td>2006-04-13</td>\n",
       "      <td>184.0</td>\n",
       "      <td>1676.0</td>\n",
       "      <td>29.712329</td>\n",
       "      <td>N</td>\n",
       "    </tr>\n",
       "    <tr>\n",
       "      <th>4</th>\n",
       "      <td>abbotje01</td>\n",
       "      <td>0.975208</td>\n",
       "      <td>OF</td>\n",
       "      <td>233</td>\n",
       "      <td>5.0</td>\n",
       "      <td>0.307453</td>\n",
       "      <td>2.557940</td>\n",
       "      <td>0.077253</td>\n",
       "      <td>0.025751</td>\n",
       "      <td>0.356223</td>\n",
       "      <td>0.008584</td>\n",
       "      <td>0.030043</td>\n",
       "      <td>1997-06-10</td>\n",
       "      <td>2001-09-29</td>\n",
       "      <td>190.0</td>\n",
       "      <td>1572.0</td>\n",
       "      <td>25.457534</td>\n",
       "      <td>N</td>\n",
       "    </tr>\n",
       "  </tbody>\n",
       "</table>\n",
       "</div>"
      ],
      "text/plain": [
       "    playerID      FPCT POS     G    SH       OBP      AB/G      HR/G  \\\n",
       "0  aaronha01  0.979124  OF  3298  21.0  0.373949  3.748939  0.228927   \n",
       "1  aaronto01  0.982705  1B   437   9.0  0.291506  2.160183  0.029748   \n",
       "2   aasedo01  0.955399   P   448   0.0  0.000000  0.011161  0.000000   \n",
       "3   abadan01  0.986486  1B    15   0.0  0.240000  1.400000  0.000000   \n",
       "4  abbotje01  0.975208  OF   233   5.0  0.307453  2.557940  0.077253   \n",
       "\n",
       "       SB/G     RBI/G     IBB/G      SF/G      debut  finalGame  weight  \\\n",
       "0  0.072771  0.696483  0.088842  0.036689 1954-04-13 1976-10-03   180.0   \n",
       "1  0.020595  0.215103  0.006865  0.013730 1962-04-10 1971-09-26   190.0   \n",
       "2  0.000000  0.000000  0.000000  0.000000 1977-07-26 1990-10-03   190.0   \n",
       "3  0.000000  0.000000  0.000000  0.000000 2001-09-10 2006-04-13   184.0   \n",
       "4  0.025751  0.356223  0.008584  0.030043 1997-06-10 2001-09-29   190.0   \n",
       "\n",
       "   servingDays   debutAge inducted  \n",
       "0       8209.0  20.293151        Y  \n",
       "1       3456.0  23.287671        N  \n",
       "2       4817.0  23.580822        N  \n",
       "3       1676.0  29.712329        N  \n",
       "4       1572.0  25.457534        N  "
      ]
     },
     "execution_count": 2,
     "metadata": {},
     "output_type": "execute_result"
    }
   ],
   "source": [
    "players = pd.read_csv('merged_players42-12.csv',index_col=0,parse_dates=['debut','finalGame'])\n",
    "players.head()"
   ]
  },
  {
   "cell_type": "code",
   "execution_count": 3,
   "metadata": {},
   "outputs": [
    {
     "data": {
      "text/plain": [
       "(7927, 18)"
      ]
     },
     "execution_count": 3,
     "metadata": {},
     "output_type": "execute_result"
    }
   ],
   "source": [
    "players.shape"
   ]
  },
  {
   "cell_type": "code",
   "execution_count": 4,
   "metadata": {},
   "outputs": [
    {
     "data": {
      "text/plain": [
       "Index(['playerID', 'FPCT', 'POS', 'G', 'SH', 'OBP', 'AB/G', 'HR/G', 'SB/G',\n",
       "       'RBI/G', 'IBB/G', 'SF/G', 'debut', 'finalGame', 'weight', 'servingDays',\n",
       "       'debutAge', 'inducted'],\n",
       "      dtype='object')"
      ]
     },
     "execution_count": 4,
     "metadata": {},
     "output_type": "execute_result"
    }
   ],
   "source": [
    "players.columns"
   ]
  },
  {
   "cell_type": "code",
   "execution_count": 19,
   "metadata": {},
   "outputs": [
    {
     "data": {
      "text/plain": [
       "OF    1702\n",
       "1B     620\n",
       "SS     543\n",
       "2B     497\n",
       "3B     446\n",
       "Name: POS, dtype: int64"
      ]
     },
     "execution_count": 19,
     "metadata": {},
     "output_type": "execute_result"
    }
   ],
   "source": [
    "players.POS.value_counts()"
   ]
  },
  {
   "cell_type": "code",
   "execution_count": 20,
   "metadata": {
    "collapsed": true
   },
   "outputs": [],
   "source": [
    "players = players[(players['POS']=='OF')]"
   ]
  },
  {
   "cell_type": "markdown",
   "metadata": {},
   "source": [
    "servingDays are just used for filter samples when check outliers."
   ]
  },
  {
   "cell_type": "code",
   "execution_count": 21,
   "metadata": {},
   "outputs": [
    {
     "data": {
      "text/plain": [
       "<matplotlib.axes._subplots.AxesSubplot at 0x1a184528d0>"
      ]
     },
     "execution_count": 21,
     "metadata": {},
     "output_type": "execute_result"
    },
    {
     "data": {
      "image/png": "[encoded data removed]",
      "text/plain": [
       "<matplotlib.figure.Figure at 0x113c88b70>"
      ]
     },
     "metadata": {},
     "output_type": "display_data"
    }
   ],
   "source": [
    "players_N = players[players['inducted']=='N']\n",
    "players_Y = players[players['inducted']=='Y']\n",
    "\n",
    "sns.distplot(players_Y.G, bins=30)"
   ]
  },
  {
   "cell_type": "code",
   "execution_count": 22,
   "metadata": {},
   "outputs": [
    {
     "data": {
      "text/plain": [
       "<matplotlib.axes._subplots.AxesSubplot at 0x1a18452cc0>"
      ]
     },
     "execution_count": 22,
     "metadata": {},
     "output_type": "execute_result"
    },
    {
     "data": {
      "image/png": "[encoded data removed]",
      "text/plain": [
       "<matplotlib.figure.Figure at 0x113cef550>"
      ]
     },
     "metadata": {},
     "output_type": "display_data"
    }
   ],
   "source": [
    "sns.distplot(players_N.G, bins=30)"
   ]
  },
  {
   "cell_type": "code",
   "execution_count": 23,
   "metadata": {},
   "outputs": [
    {
     "data": {
      "text/plain": [
       "<matplotlib.axes._subplots.AxesSubplot at 0x1a2361a4e0>"
      ]
     },
     "execution_count": 23,
     "metadata": {},
     "output_type": "execute_result"
    },
    {
     "data": {
      "image/png": "[encoded data removed]",
      "text/plain": [
       "<matplotlib.figure.Figure at 0x1a183e1b00>"
      ]
     },
     "metadata": {},
     "output_type": "display_data"
    }
   ],
   "source": [
    "sns.distplot(players.G, bins=30)"
   ]
  },
  {
   "cell_type": "code",
   "execution_count": 24,
   "metadata": {},
   "outputs": [
    {
     "data": {
      "image/png": "[encoded data removed]",
      "text/plain": [
       "<matplotlib.figure.Figure at 0x113e24400>"
      ]
     },
     "metadata": {},
     "output_type": "display_data"
    }
   ],
   "source": [
    "players.hist(bins=30)\n",
    "plt.show()"
   ]
  },
  {
   "cell_type": "code",
   "execution_count": 25,
   "metadata": {},
   "outputs": [
    {
     "data": {
      "text/plain": [
       "N    1677\n",
       "Y      25\n",
       "Name: inducted, dtype: int64"
      ]
     },
     "execution_count": 25,
     "metadata": {},
     "output_type": "execute_result"
    }
   ],
   "source": [
    "players.inducted.value_counts()"
   ]
  },
  {
   "cell_type": "code",
   "execution_count": 26,
   "metadata": {
    "scrolled": true
   },
   "outputs": [
    {
     "name": "stderr",
     "output_type": "stream",
     "text": [
      "/anaconda3/lib/python3.6/site-packages/pandas/core/indexing.py:362: SettingWithCopyWarning: \n",
      "A value is trying to be set on a copy of a slice from a DataFrame.\n",
      "Try using .loc[row_indexer,col_indexer] = value instead\n",
      "\n",
      "See the caveats in the documentation: http://pandas.pydata.org/pandas-docs/stable/indexing.html#indexing-view-versus-copy\n",
      "  self.obj[key] = _infer_fill_value(value)\n",
      "/anaconda3/lib/python3.6/site-packages/pandas/core/indexing.py:543: SettingWithCopyWarning: \n",
      "A value is trying to be set on a copy of a slice from a DataFrame.\n",
      "Try using .loc[row_indexer,col_indexer] = value instead\n",
      "\n",
      "See the caveats in the documentation: http://pandas.pydata.org/pandas-docs/stable/indexing.html#indexing-view-versus-copy\n",
      "  self.obj[item] = s\n"
     ]
    },
    {
     "name": "stdout",
     "output_type": "stream",
     "text": [
      "20\n",
      "16\n",
      "2\n",
      "2\n",
      "9\n",
      "22\n",
      "16\n",
      "16\n",
      "17\n",
      "17\n"
     ]
    },
    {
     "name": "stderr",
     "output_type": "stream",
     "text": [
      "/anaconda3/lib/python3.6/site-packages/sklearn/mixture/base.py:237: ConvergenceWarning: Initialization 1 did not converge. Try different init parameters, or increase max_iter, tol or check for degenerate data.\n",
      "  % (init + 1), ConvergenceWarning)\n"
     ]
    },
    {
     "name": "stdout",
     "output_type": "stream",
     "text": [
      "10\n"
     ]
    },
    {
     "data": {
      "text/plain": [
       "[[20, ['G']],\n",
       " [16, ['OBP']],\n",
       " [2, ['FPCT']],\n",
       " [2, ['FPCT', 'POS']],\n",
       " [9, ['OBP', 'FPCT', 'POS']],\n",
       " [22, ['G', 'OBP']],\n",
       " [16, ['G', 'OBP', 'FPCT']],\n",
       " [16, ['G', 'OBP', 'FPCT', 'POS']],\n",
       " [17, ['G', 'FPCT']],\n",
       " [17, ['G', 'FPCT', 'POS']],\n",
       " [10,\n",
       "  ['FPCT',\n",
       "   'POS',\n",
       "   'G',\n",
       "   'SH',\n",
       "   'OBP',\n",
       "   'AB/G',\n",
       "   'HR/G',\n",
       "   'SB/G',\n",
       "   'RBI/G',\n",
       "   'IBB/G',\n",
       "   'SF/G',\n",
       "   'weight',\n",
       "   'debutAge']]]"
      ]
     },
     "execution_count": 26,
     "metadata": {},
     "output_type": "execute_result"
    }
   ],
   "source": [
    "features = [['G'],\n",
    "            ['OBP'],\n",
    "            ['FPCT'],\n",
    "            ['FPCT','POS'],\n",
    "            ['OBP','FPCT','POS'],\n",
    "            ['G','OBP'],\n",
    "            ['G','OBP','FPCT'],\n",
    "            ['G','OBP','FPCT','POS'],\n",
    "            ['G','FPCT'],\n",
    "            ['G','FPCT','POS'],\n",
    "            ['FPCT', 'POS', 'G', 'SH', 'OBP', 'AB/G', 'HR/G', 'SB/G',\n",
    "       'RBI/G', 'IBB/G', 'SF/G', 'weight', 'debutAge']]\n",
    "\n",
    "num_list = []\n",
    "for feature in features:\n",
    "    X = players[feature]\n",
    "    if ('POS' in feature):\n",
    "        X = pd.get_dummies(X, columns = ['POS'] )\n",
    "    y = players[['inducted']]\n",
    "    \n",
    "    lowest_bic = np.infty\n",
    "    bic = []\n",
    "    n_components_range = range(1, 10)\n",
    "    for n_components in n_components_range:\n",
    "        # Fit a Gaussian mixture with EM\n",
    "        gmm = mixture.GaussianMixture(n_components=n_components,\n",
    "                                      covariance_type='full', random_state = 2018)\n",
    "        gmm.fit(X)\n",
    "        bic.append(gmm.bic(X))\n",
    "        if bic[-1] < lowest_bic:\n",
    "            lowest_bic = bic[-1]\n",
    "            best_gmm = gmm\n",
    "            \n",
    "    loglike=best_gmm.score_samples(X)\n",
    "    players_pre = players[['playerID','servingDays','inducted']]\n",
    "    players_pre.loc[:,'loglike']=loglike\n",
    "\n",
    "    player10 = players_pre[players_pre['servingDays']>2000].sort_values(['loglike'],ascending=True).iloc[:100,:]\n",
    "    num = (player10[player10['inducted']=='Y'].shape[0])\n",
    "    num_list.append([num,feature])\n",
    "    print(num)\n",
    "\n",
    "num_list"
   ]
  },
  {
   "cell_type": "code",
   "execution_count": null,
   "metadata": {
    "collapsed": true
   },
   "outputs": [],
   "source": []
  },
  {
   "cell_type": "code",
   "execution_count": null,
   "metadata": {
    "collapsed": true
   },
   "outputs": [],
   "source": []
  }
 ],
 "metadata": {
  "kernelspec": {
   "display_name": "Python 3",
   "language": "python",
   "name": "python3"
  },
  "language_info": {
   "codemirror_mode": {
    "name": "ipython",
    "version": 3
   },
   "file_extension": ".py",
   "mimetype": "text/x-python",
   "name": "python",
   "nbconvert_exporter": "python",
   "pygments_lexer": "ipython3",
   "version": "3.6.2"
  }
 },
 "nbformat": 4,
 "nbformat_minor": 2
}
